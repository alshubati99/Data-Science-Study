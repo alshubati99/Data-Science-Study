{
  "nbformat": 4,
  "nbformat_minor": 0,
  "metadata": {
    "colab": {
      "provenance": [],
      "authorship_tag": "ABX9TyMhJddKIuy4zqi6ccnFsKFv",
      "include_colab_link": true
    },
    "kernelspec": {
      "name": "python3",
      "display_name": "Python 3"
    },
    "language_info": {
      "name": "python"
    }
  },
  "cells": [
    {
      "cell_type": "markdown",
      "metadata": {
        "id": "view-in-github",
        "colab_type": "text"
      },
      "source": [
        "<a href=\"https://colab.research.google.com/github/alshubati99/Data-Science-Study/blob/main/Nearest_Neighbor_Classifiers.ipynb\" target=\"_parent\"><img src=\"https://colab.research.google.com/assets/colab-badge.svg\" alt=\"Open In Colab\"/></a>"
      ]
    },
    {
      "cell_type": "markdown",
      "source": [
        "# KNN, Nearest Neighbor Classifier\n",
        "- KNN basic idea is that if the animal walks and quacks like a duck then it is a duck.\n",
        "- **Nearsest Neighbor Classification:** <br>\n",
        "  1. Requires three things\n",
        "    a. Set of labeled records.\n",
        "    b. Distance Metric to compute distance between records.\n",
        "    c. The value of k, the number of nearest neighbors to retrieve.\n",
        "  2. To classify unknown record:\n",
        "    a. Compute distance to other training records.\n",
        "    b. Identify k nearest neighbors.\n",
        "    c. Use class labels of nearest neighbors to detemine the class label of unknown record (by taking majority vote for example)\\\n",
        "  3. KNN of a record x are data points that have the k smallest distance to x\n",
        "  4. Euclidean Distance = Computes distance between two points.\n",
        "  5. Take majority vote of class labels among take the kNN\n",
        "  6. Weigh vote according to distance (factor = 1/d^2)\n",
        "  7. Choose value of k:\n",
        "    a. If k is too small, sensitive to noise points.\n",
        "    b. If k is too large, neighborhood may include points from other classes.\n",
        "  8. Scaling Issues:\n",
        "    a. Attributes may have to be scaled to prevent distance measures from being dominated by one of the attributes\n",
        "    => example: height, weight, income of persons that may vary in ranges.\n",
        "  9. KNN classifiers are lazy learners since they do not build models explicitly.\n",
        "  10. Classifying unknown records is relatively expensive\n",
        "  11. KNN classifiers can produce arbitrarily shaped decision boundries.\n",
        "  12. Selection of right proximity measure is essential\n",
        "  13. Superfluous or redundant attributes can create problems.\n",
        "  14. Missing attributes are hard to handle.\n",
        "\n",
        "- **Choosing the Value of K:** <br>\n",
        "  1. Cross-validation is a widely used approach. The error rate is estimated by keeping a subset of the training set out of the model training.\n",
        "  2. 10-fold cross-validation involves random division of the training set into 10 equal-sized groups. 9 groups are used as the training set and the remaining group is used to obtain the performance score.\n",
        "  3. This procedure is repeated 10 times and average performance scores are reported. The k value providing the highest score is utilized during testing.\n",
        "\n",
        "- **Normalization of Variables:** <br>\n",
        "  1. Zero mean unit-variance normalization: Xs = (X-mean)/s.d. => (x-mean)/(max-min)\n",
        "  2. Max-min normalization: Xs = (X-min)/(max-min)\n",
        "\n",
        "- **Distance Metrics:** <br>\n",
        "  1. *Minowski metric*: general class of metrics\n",
        "  2. *Eculidean metric*: represented as ||.|| (norm)\n",
        "  3. *Manhattan metric*: which is the distance.\n",
        "\n",
        "- **Improving KNN Efficiency:**\n",
        "  1. Avoid having to compute distance to all objects in the training set.\n",
        "  2. *Condensing*: determine a small set of objects that give the same performance.\n",
        "    a. Condensed NN rule: CNN discards samples which can be correctly labeled using already selected subset of samples.\n",
        "  3. *Editing*: remove objects to improve efficiency\n",
        "\n",
        "- **K-Nearest Centriod Neighbor:** <br>\n",
        "  1. NCN of a sample x is computed in an iterative manner as follows:\n",
        "    a. First neighbor of x denoted by x1 is its nearest neighbor.\n",
        "    b. For i>1, the ith neighbor, xi is the sample for which the mean of {x1,x2, ... ,xi} is closest to x\n",
        "    c. K-NCN is defined as voting over the class labels of NCN or size k. As a measure of distance, Eculidean distance is generally used.\n",
        "  \n",
        "- **Nearest Feature Line Approach:** <br>\n",
        "  1. In the NFL method, each pair of samples belonging to the same class is generalized by a line named as FL passing through them: **p** = xa + t(xb-xa)\n",
        "  2. The label of a test sample is computed by projecting it into all FL and calculating the distance between the projection and the sample: **t** = ((x-xa).(xb-xa))/(||xb-xa||^2)\n",
        "  3. The projection point on Line is computed as: p= xa+t(xb-xa) and **t** is the position parameter.\n",
        "  4. The distance to Line is defined as: d= ||x-p||\n",
        "  5. Having computed the distance to all FLs, the class to which the closest FL belongs is selected as the most likely class.\n",
        "\n",
        "- **Nearest Neighbor Line Approach:** <br>\n",
        "  1. In NNL Approach, instead of computing all possible FLs for each class, the FL passing through the closest pair of points is considered.\n",
        "  2. During testing, the number of FLs considered is equal to the number of classes.\n",
        "  3. in k-NNL approach, for each class, k-nearest samples to the test sample are computed. then the distances of the test sample to the FLs obtained using k-nearest samples from each class [totally(k*(k-1)/2)] are computed. The class label of the closest FL is selected as the class label of the tested sample.\n",
        "\n",
        "- **Center Nearest Neighbor (CNN) Approach**: <br>\n",
        "  1. Instead of defining FLs passing through every pair of samples  belonging to the same class, an FL is defined through every sample and the class's mean vector.\n",
        "  2. During testing, the distances of the test sample to its projection on all FLs are obtained. Having computed the distances to all FLs, the class to which the closest FL belongs is selected as the most likely class.\n",
        "  3. In k-CNN, the distances of the test sample to its projection on all FLs are obtained. Then voting is applied on the class labels of the k closest FL to choose the most likely class.\n",
        "\n",
        "- Feature lines has downbacks which are interpolation and extraploation inaccuracies.\n"
      ],
      "metadata": {
        "id": "SjI4LijPpN7K"
      }
    },
    {
      "cell_type": "code",
      "execution_count": 1,
      "metadata": {
        "id": "9DY0-ZxUoxkk"
      },
      "outputs": [],
      "source": [
        "import numpy as np\n",
        "import pandas as pd\n",
        "from sklearn.linear_model import LogisticRegression\n",
        "from sklearn.model_selection import train_test_split\n",
        "from sklearn.metrics import precision_score, recall_score, roc_auc_score, f1_score, accuracy_score, confusion_matrix\n",
        "import matplotlib.pyplot as plt"
      ]
    },
    {
      "cell_type": "code",
      "source": [
        "import seaborn as sns\n",
        "iris = sns.load_dataset(\"iris\")\n",
        "X=iris.drop('species',axis=1) # feature matrix\n",
        "y=iris['species'] #1 represents positive case"
      ],
      "metadata": {
        "id": "a4rXHHzKzy5Z"
      },
      "execution_count": 2,
      "outputs": []
    },
    {
      "cell_type": "code",
      "source": [
        "# split data\n",
        "x_train, x_test, y_train, y_test = train_test_split(X,y,test_size=0.2, random_state=1)"
      ],
      "metadata": {
        "id": "SO2t3Fmm0EFr"
      },
      "execution_count": 3,
      "outputs": []
    },
    {
      "cell_type": "code",
      "source": [
        "from sklearn.neighbors import KNeighborsClassifier\n",
        "from sklearn.model_selection import GridSearchCV\n",
        "\n",
        "clf = KNeighborsClassifier()\n",
        "param_grid = {'n_neighbors': [1,3,5,7,9,11,13]}\n",
        "search = GridSearchCV(estimator = clf, param_grid = param_grid, cv=5,\n",
        "                      scoring = 'accuracy',\n",
        "                      return_train_score=False,\n",
        "                      verbose=1)\n",
        "clf = search.fit(x_train, y_train)\n",
        "print(clf.best_params_)\n",
        "print(\"Best Cross Validation Accuracy Score\")\n",
        "print(clf.best_score_*100)"
      ],
      "metadata": {
        "colab": {
          "base_uri": "https://localhost:8080/"
        },
        "id": "QU2OY-WN0Pi1",
        "outputId": "45e95eda-67d2-49ea-b803-6f19ba484a2f"
      },
      "execution_count": 5,
      "outputs": [
        {
          "output_type": "stream",
          "name": "stdout",
          "text": [
            "Fitting 5 folds for each of 7 candidates, totalling 35 fits\n",
            "{'n_neighbors': 11}\n",
            "Best Cross Validation Accuracy Score\n",
            "97.5\n"
          ]
        }
      ]
    },
    {
      "cell_type": "code",
      "source": [
        "y_pred = clf.predict(x_test)\n",
        "print(accuracy_score(y_test,y_pred))"
      ],
      "metadata": {
        "colab": {
          "base_uri": "https://localhost:8080/"
        },
        "id": "7r63pHQQ1OpA",
        "outputId": "0b7a4839-71e7-459f-f583-e2be546fa735"
      },
      "execution_count": 6,
      "outputs": [
        {
          "output_type": "stream",
          "name": "stdout",
          "text": [
            "0.9666666666666667\n"
          ]
        }
      ]
    },
    {
      "cell_type": "code",
      "source": [
        "confMatrix = confusion_matrix(y_test, y_pred)\n",
        "# create heatmap\n",
        "ax = sns.heatmap(pd.DataFrame(confMatrix), annot = True, fmt = 'g')\n",
        "ax.xaxis.set_label_position(\"top\")\n",
        "plt.title(\"Confusion Matrix\")\n",
        "plt.ylabel(\"Actual label\")\n",
        "plt.xlabel(\"Predicted label\")\n",
        "ax.xaxis.set_ticklabels(['Setosa','Virginica','Versicolor'])\n",
        "ax.yaxis.set_ticklabels(['Setosa','Virginica','Versicolor'])"
      ],
      "metadata": {
        "colab": {
          "base_uri": "https://localhost:8080/",
          "height": 486
        },
        "id": "Bgwgf_Rb1Vzi",
        "outputId": "65a4df57-3477-4a07-a840-cf7884eeffe8"
      },
      "execution_count": 7,
      "outputs": [
        {
          "output_type": "execute_result",
          "data": {
            "text/plain": [
              "[Text(0, 0.5, 'Setosa'), Text(0, 1.5, 'Virginica'), Text(0, 2.5, 'Versicolor')]"
            ]
          },
          "metadata": {},
          "execution_count": 7
        },
        {
          "output_type": "display_data",
          "data": {
            "text/plain": [
              "<Figure size 640x480 with 2 Axes>"
            ],
            "image/png": "[encoded data removed]"
          },
          "metadata": {}
        }
      ]
    }
  ]
}