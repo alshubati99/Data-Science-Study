{
  "cells": [
    {
      "cell_type": "markdown",
      "metadata": {
        "id": "view-in-github",
        "colab_type": "text"
      },
      "source": [
        "<a href=\"https://colab.research.google.com/github/alshubati99/Data-Science-Study/blob/main/Lab3.ipynb\" target=\"_parent\"><img src=\"https://colab.research.google.com/assets/colab-badge.svg\" alt=\"Open In Colab\"/></a>"
      ]
    },
    {
      "cell_type": "code",
      "execution_count": 2,
      "id": "c0c07732",
      "metadata": {
        "id": "c0c07732"
      },
      "outputs": [],
      "source": [
        "import pandas as pd\n",
        "import seaborn as sns\n",
        "import matplotlib.pyplot as plt"
      ]
    },
    {
      "cell_type": "markdown",
      "source": [
        "Download the dataset “NHANES0910modified.csv”.\n",
        "The columns named as ClassLabel, Gender, Race, Education, FamilyHistory and HighBloodSugar are categorical and\n",
        "the others are numerical."
      ],
      "metadata": {
        "id": "PmwJn6Kqo6lt"
      },
      "id": "PmwJn6Kqo6lt"
    },
    {
      "cell_type": "code",
      "execution_count": 5,
      "id": "e56e9ea7",
      "metadata": {
        "id": "e56e9ea7"
      },
      "outputs": [],
      "source": [
        "df = pd.read_csv(\"/content/NHANES0910modified.csv\")"
      ]
    },
    {
      "cell_type": "markdown",
      "source": [
        "Display the top 10 rows of the dataset"
      ],
      "metadata": {
        "id": "0qMnHz6DplGx"
      },
      "id": "0qMnHz6DplGx"
    },
    {
      "cell_type": "code",
      "execution_count": 6,
      "id": "8d5e40e6",
      "metadata": {
        "id": "8d5e40e6",
        "outputId": "26c80788-0435-4ca1-b073-71350b874801",
        "colab": {
          "base_uri": "https://localhost:8080/",
          "height": 383
        }
      },
      "outputs": [
        {
          "output_type": "execute_result",
          "data": {
            "text/plain": [
              "  ClassLabel  Gender  Age  Race  Education  FamilyHistory  HighBloodSugar  \\\n",
              "0   Negative       1   44     3        3.0              1               1   \n",
              "1   Negative       2   44     1        2.0              2               1   \n",
              "2   Negative       1   22     3        5.0              1               1   \n",
              "3   Negative       2   35     3        4.0              1               1   \n",
              "4   Negative       1   54     2        5.0              2               1   \n",
              "5   Negative       1   54     4        5.0              2               1   \n",
              "6   Negative       2   25     1        2.0              1               1   \n",
              "7   Negative       1   80     3        4.0              1               1   \n",
              "8   Negative       1   49     1        2.0              1               1   \n",
              "9   Negative       2   37     2        4.0              2               1   \n",
              "\n",
              "     BMI  WaistCircumference  SystolicBP  DiastolicBP  LDL  HDL  Triglycerides  \n",
              "0  29.10               106.6         119           88  113   37            235  \n",
              "1  25.06                82.3         130           86  138   63             61  \n",
              "2  28.07                94.5         120           87   96   57            111  \n",
              "3  20.29                71.9         110           64   93   89             58  \n",
              "4  36.32               116.4          92           42  110   62             71  \n",
              "5  26.62                92.6         142           96   99   86             85  \n",
              "6  25.59                86.4         104           62   78   60             73  \n",
              "7  35.77               130.8          98           38  137   41            101  \n",
              "8  29.13               100.9         122           92  112   48            159  \n",
              "9  21.16                79.7         103           60  102   54             57  "
            ],
            "text/html": [
              "\n",
              "  <div id=\"df-2b87fb2e-e6b9-4c5d-87a1-37302be98aab\" class=\"colab-df-container\">\n",
              "    <div>\n",
              "<style scoped>\n",
              "    .dataframe tbody tr th:only-of-type {\n",
              "        vertical-align: middle;\n",
              "    }\n",
              "\n",
              "    .dataframe tbody tr th {\n",
              "        vertical-align: top;\n",
              "    }\n",
              "\n",
              "    .dataframe thead th {\n",
              "        text-align: right;\n",
              "    }\n",
              "</style>\n",
              "<table border=\"1\" class=\"dataframe\">\n",
              "  <thead>\n",
              "    <tr style=\"text-align: right;\">\n",
              "      <th></th>\n",
              "      <th>ClassLabel</th>\n",
              "      <th>Gender</th>\n",
              "      <th>Age</th>\n",
              "      <th>Race</th>\n",
              "      <th>Education</th>\n",
              "      <th>FamilyHistory</th>\n",
              "      <th>HighBloodSugar</th>\n",
              "      <th>BMI</th>\n",
              "      <th>WaistCircumference</th>\n",
              "      <th>SystolicBP</th>\n",
              "      <th>DiastolicBP</th>\n",
              "      <th>LDL</th>\n",
              "      <th>HDL</th>\n",
              "      <th>Triglycerides</th>\n",
              "    </tr>\n",
              "  </thead>\n",
              "  <tbody>\n",
              "    <tr>\n",
              "      <th>0</th>\n",
              "      <td>Negative</td>\n",
              "      <td>1</td>\n",
              "      <td>44</td>\n",
              "      <td>3</td>\n",
              "      <td>3.0</td>\n",
              "      <td>1</td>\n",
              "      <td>1</td>\n",
              "      <td>29.10</td>\n",
              "      <td>106.6</td>\n",
              "      <td>119</td>\n",
              "      <td>88</td>\n",
              "      <td>113</td>\n",
              "      <td>37</td>\n",
              "      <td>235</td>\n",
              "    </tr>\n",
              "    <tr>\n",
              "      <th>1</th>\n",
              "      <td>Negative</td>\n",
              "      <td>2</td>\n",
              "      <td>44</td>\n",
              "      <td>1</td>\n",
              "      <td>2.0</td>\n",
              "      <td>2</td>\n",
              "      <td>1</td>\n",
              "      <td>25.06</td>\n",
              "      <td>82.3</td>\n",
              "      <td>130</td>\n",
              "      <td>86</td>\n",
              "      <td>138</td>\n",
              "      <td>63</td>\n",
              "      <td>61</td>\n",
              "    </tr>\n",
              "    <tr>\n",
              "      <th>2</th>\n",
              "      <td>Negative</td>\n",
              "      <td>1</td>\n",
              "      <td>22</td>\n",
              "      <td>3</td>\n",
              "      <td>5.0</td>\n",
              "      <td>1</td>\n",
              "      <td>1</td>\n",
              "      <td>28.07</td>\n",
              "      <td>94.5</td>\n",
              "      <td>120</td>\n",
              "      <td>87</td>\n",
              "      <td>96</td>\n",
              "      <td>57</td>\n",
              "      <td>111</td>\n",
              "    </tr>\n",
              "    <tr>\n",
              "      <th>3</th>\n",
              "      <td>Negative</td>\n",
              "      <td>2</td>\n",
              "      <td>35</td>\n",
              "      <td>3</td>\n",
              "      <td>4.0</td>\n",
              "      <td>1</td>\n",
              "      <td>1</td>\n",
              "      <td>20.29</td>\n",
              "      <td>71.9</td>\n",
              "      <td>110</td>\n",
              "      <td>64</td>\n",
              "      <td>93</td>\n",
              "      <td>89</td>\n",
              "      <td>58</td>\n",
              "    </tr>\n",
              "    <tr>\n",
              "      <th>4</th>\n",
              "      <td>Negative</td>\n",
              "      <td>1</td>\n",
              "      <td>54</td>\n",
              "      <td>2</td>\n",
              "      <td>5.0</td>\n",
              "      <td>2</td>\n",
              "      <td>1</td>\n",
              "      <td>36.32</td>\n",
              "      <td>116.4</td>\n",
              "      <td>92</td>\n",
              "      <td>42</td>\n",
              "      <td>110</td>\n",
              "      <td>62</td>\n",
              "      <td>71</td>\n",
              "    </tr>\n",
              "    <tr>\n",
              "      <th>5</th>\n",
              "      <td>Negative</td>\n",
              "      <td>1</td>\n",
              "      <td>54</td>\n",
              "      <td>4</td>\n",
              "      <td>5.0</td>\n",
              "      <td>2</td>\n",
              "      <td>1</td>\n",
              "      <td>26.62</td>\n",
              "      <td>92.6</td>\n",
              "      <td>142</td>\n",
              "      <td>96</td>\n",
              "      <td>99</td>\n",
              "      <td>86</td>\n",
              "      <td>85</td>\n",
              "    </tr>\n",
              "    <tr>\n",
              "      <th>6</th>\n",
              "      <td>Negative</td>\n",
              "      <td>2</td>\n",
              "      <td>25</td>\n",
              "      <td>1</td>\n",
              "      <td>2.0</td>\n",
              "      <td>1</td>\n",
              "      <td>1</td>\n",
              "      <td>25.59</td>\n",
              "      <td>86.4</td>\n",
              "      <td>104</td>\n",
              "      <td>62</td>\n",
              "      <td>78</td>\n",
              "      <td>60</td>\n",
              "      <td>73</td>\n",
              "    </tr>\n",
              "    <tr>\n",
              "      <th>7</th>\n",
              "      <td>Negative</td>\n",
              "      <td>1</td>\n",
              "      <td>80</td>\n",
              "      <td>3</td>\n",
              "      <td>4.0</td>\n",
              "      <td>1</td>\n",
              "      <td>1</td>\n",
              "      <td>35.77</td>\n",
              "      <td>130.8</td>\n",
              "      <td>98</td>\n",
              "      <td>38</td>\n",
              "      <td>137</td>\n",
              "      <td>41</td>\n",
              "      <td>101</td>\n",
              "    </tr>\n",
              "    <tr>\n",
              "      <th>8</th>\n",
              "      <td>Negative</td>\n",
              "      <td>1</td>\n",
              "      <td>49</td>\n",
              "      <td>1</td>\n",
              "      <td>2.0</td>\n",
              "      <td>1</td>\n",
              "      <td>1</td>\n",
              "      <td>29.13</td>\n",
              "      <td>100.9</td>\n",
              "      <td>122</td>\n",
              "      <td>92</td>\n",
              "      <td>112</td>\n",
              "      <td>48</td>\n",
              "      <td>159</td>\n",
              "    </tr>\n",
              "    <tr>\n",
              "      <th>9</th>\n",
              "      <td>Negative</td>\n",
              "      <td>2</td>\n",
              "      <td>37</td>\n",
              "      <td>2</td>\n",
              "      <td>4.0</td>\n",
              "      <td>2</td>\n",
              "      <td>1</td>\n",
              "      <td>21.16</td>\n",
              "      <td>79.7</td>\n",
              "      <td>103</td>\n",
              "      <td>60</td>\n",
              "      <td>102</td>\n",
              "      <td>54</td>\n",
              "      <td>57</td>\n",
              "    </tr>\n",
              "  </tbody>\n",
              "</table>\n",
              "</div>\n",
              "    <div class=\"colab-df-buttons\">\n",
              "\n",
              "  <div class=\"colab-df-container\">\n",
              "    <button class=\"colab-df-convert\" onclick=\"convertToInteractive('df-2b87fb2e-e6b9-4c5d-87a1-37302be98aab')\"\n",
              "            title=\"Convert this dataframe to an interactive table.\"\n",
              "            style=\"display:none;\">\n",
              "\n",
              "  <svg xmlns=\"http://www.w3.org/2000/svg\" height=\"24px\" viewBox=\"0 -960 960 960\">\n",
              "    <path d=\"M120-120v-720h720v720H120Zm60-500h600v-160H180v160Zm220 220h160v-160H400v160Zm0 220h160v-160H400v160ZM180-400h160v-160H180v160Zm440 0h160v-160H620v160ZM180-180h160v-160H180v160Zm440 0h160v-160H620v160Z\"/>\n",
              "  </svg>\n",
              "    </button>\n",
              "\n",
              "  <style>\n",
              "    .colab-df-container {\n",
              "      display:flex;\n",
              "      gap: 12px;\n",
              "    }\n",
              "\n",
              "    .colab-df-convert {\n",
              "      background-color: #E8F0FE;\n",
              "      border: none;\n",
              "      border-radius: 50%;\n",
              "      cursor: pointer;\n",
              "      display: none;\n",
              "      fill: #1967D2;\n",
              "      height: 32px;\n",
              "      padding: 0 0 0 0;\n",
              "      width: 32px;\n",
              "    }\n",
              "\n",
              "    .colab-df-convert:hover {\n",
              "      background-color: #E2EBFA;\n",
              "      box-shadow: 0px 1px 2px rgba(60, 64, 67, 0.3), 0px 1px 3px 1px rgba(60, 64, 67, 0.15);\n",
              "      fill: #174EA6;\n",
              "    }\n",
              "\n",
              "    .colab-df-buttons div {\n",
              "      margin-bottom: 4px;\n",
              "    }\n",
              "\n",
              "    [theme=dark] .colab-df-convert {\n",
              "      background-color: #3B4455;\n",
              "      fill: #D2E3FC;\n",
              "    }\n",
              "\n",
              "    [theme=dark] .colab-df-convert:hover {\n",
              "      background-color: #434B5C;\n",
              "      box-shadow: 0px 1px 3px 1px rgba(0, 0, 0, 0.15);\n",
              "      filter: drop-shadow(0px 1px 2px rgba(0, 0, 0, 0.3));\n",
              "      fill: #FFFFFF;\n",
              "    }\n",
              "  </style>\n",
              "\n",
              "    <script>\n",
              "      const buttonEl =\n",
              "        document.querySelector('#df-2b87fb2e-e6b9-4c5d-87a1-37302be98aab button.colab-df-convert');\n",
              "      buttonEl.style.display =\n",
              "        google.colab.kernel.accessAllowed ? 'block' : 'none';\n",
              "\n",
              "      async function convertToInteractive(key) {\n",
              "        const element = document.querySelector('#df-2b87fb2e-e6b9-4c5d-87a1-37302be98aab');\n",
              "        const dataTable =\n",
              "          await google.colab.kernel.invokeFunction('convertToInteractive',\n",
              "                                                    [key], {});\n",
              "        if (!dataTable) return;\n",
              "\n",
              "        const docLinkHtml = 'Like what you see? Visit the ' +\n",
              "          '<a target=\"_blank\" href=https://colab.research.google.com/notebooks/data_table.ipynb>data table notebook</a>'\n",
              "          + ' to learn more about interactive tables.';\n",
              "        element.innerHTML = '';\n",
              "        dataTable['output_type'] = 'display_data';\n",
              "        await google.colab.output.renderOutput(dataTable, element);\n",
              "        const docLink = document.createElement('div');\n",
              "        docLink.innerHTML = docLinkHtml;\n",
              "        element.appendChild(docLink);\n",
              "      }\n",
              "    </script>\n",
              "  </div>\n",
              "\n",
              "\n",
              "<div id=\"df-351bbf24-f7c2-4002-a3a4-1e2faebc196f\">\n",
              "  <button class=\"colab-df-quickchart\" onclick=\"quickchart('df-351bbf24-f7c2-4002-a3a4-1e2faebc196f')\"\n",
              "            title=\"Suggest charts\"\n",
              "            style=\"display:none;\">\n",
              "\n",
              "<svg xmlns=\"http://www.w3.org/2000/svg\" height=\"24px\"viewBox=\"0 0 24 24\"\n",
              "     width=\"24px\">\n",
              "    <g>\n",
              "        <path d=\"M19 3H5c-1.1 0-2 .9-2 2v14c0 1.1.9 2 2 2h14c1.1 0 2-.9 2-2V5c0-1.1-.9-2-2-2zM9 17H7v-7h2v7zm4 0h-2V7h2v10zm4 0h-2v-4h2v4z\"/>\n",
              "    </g>\n",
              "</svg>\n",
              "  </button>\n",
              "\n",
              "<style>\n",
              "  .colab-df-quickchart {\n",
              "      --bg-color: #E8F0FE;\n",
              "      --fill-color: #1967D2;\n",
              "      --hover-bg-color: #E2EBFA;\n",
              "      --hover-fill-color: #174EA6;\n",
              "      --disabled-fill-color: #AAA;\n",
              "      --disabled-bg-color: #DDD;\n",
              "  }\n",
              "\n",
              "  [theme=dark] .colab-df-quickchart {\n",
              "      --bg-color: #3B4455;\n",
              "      --fill-color: #D2E3FC;\n",
              "      --hover-bg-color: #434B5C;\n",
              "      --hover-fill-color: #FFFFFF;\n",
              "      --disabled-bg-color: #3B4455;\n",
              "      --disabled-fill-color: #666;\n",
              "  }\n",
              "\n",
              "  .colab-df-quickchart {\n",
              "    background-color: var(--bg-color);\n",
              "    border: none;\n",
              "    border-radius: 50%;\n",
              "    cursor: pointer;\n",
              "    display: none;\n",
              "    fill: var(--fill-color);\n",
              "    height: 32px;\n",
              "    padding: 0;\n",
              "    width: 32px;\n",
              "  }\n",
              "\n",
              "  .colab-df-quickchart:hover {\n",
              "    background-color: var(--hover-bg-color);\n",
              "    box-shadow: 0 1px 2px rgba(60, 64, 67, 0.3), 0 1px 3px 1px rgba(60, 64, 67, 0.15);\n",
              "    fill: var(--button-hover-fill-color);\n",
              "  }\n",
              "\n",
              "  .colab-df-quickchart-complete:disabled,\n",
              "  .colab-df-quickchart-complete:disabled:hover {\n",
              "    background-color: var(--disabled-bg-color);\n",
              "    fill: var(--disabled-fill-color);\n",
              "    box-shadow: none;\n",
              "  }\n",
              "\n",
              "  .colab-df-spinner {\n",
              "    border: 2px solid var(--fill-color);\n",
              "    border-color: transparent;\n",
              "    border-bottom-color: var(--fill-color);\n",
              "    animation:\n",
              "      spin 1s steps(1) infinite;\n",
              "  }\n",
              "\n",
              "  @keyframes spin {\n",
              "    0% {\n",
              "      border-color: transparent;\n",
              "      border-bottom-color: var(--fill-color);\n",
              "      border-left-color: var(--fill-color);\n",
              "    }\n",
              "    20% {\n",
              "      border-color: transparent;\n",
              "      border-left-color: var(--fill-color);\n",
              "      border-top-color: var(--fill-color);\n",
              "    }\n",
              "    30% {\n",
              "      border-color: transparent;\n",
              "      border-left-color: var(--fill-color);\n",
              "      border-top-color: var(--fill-color);\n",
              "      border-right-color: var(--fill-color);\n",
              "    }\n",
              "    40% {\n",
              "      border-color: transparent;\n",
              "      border-right-color: var(--fill-color);\n",
              "      border-top-color: var(--fill-color);\n",
              "    }\n",
              "    60% {\n",
              "      border-color: transparent;\n",
              "      border-right-color: var(--fill-color);\n",
              "    }\n",
              "    80% {\n",
              "      border-color: transparent;\n",
              "      border-right-color: var(--fill-color);\n",
              "      border-bottom-color: var(--fill-color);\n",
              "    }\n",
              "    90% {\n",
              "      border-color: transparent;\n",
              "      border-bottom-color: var(--fill-color);\n",
              "    }\n",
              "  }\n",
              "</style>\n",
              "\n",
              "  <script>\n",
              "    async function quickchart(key) {\n",
              "      const quickchartButtonEl =\n",
              "        document.querySelector('#' + key + ' button');\n",
              "      quickchartButtonEl.disabled = true;  // To prevent multiple clicks.\n",
              "      quickchartButtonEl.classList.add('colab-df-spinner');\n",
              "      try {\n",
              "        const charts = await google.colab.kernel.invokeFunction(\n",
              "            'suggestCharts', [key], {});\n",
              "      } catch (error) {\n",
              "        console.error('Error during call to suggestCharts:', error);\n",
              "      }\n",
              "      quickchartButtonEl.classList.remove('colab-df-spinner');\n",
              "      quickchartButtonEl.classList.add('colab-df-quickchart-complete');\n",
              "    }\n",
              "    (() => {\n",
              "      let quickchartButtonEl =\n",
              "        document.querySelector('#df-351bbf24-f7c2-4002-a3a4-1e2faebc196f button');\n",
              "      quickchartButtonEl.style.display =\n",
              "        google.colab.kernel.accessAllowed ? 'block' : 'none';\n",
              "    })();\n",
              "  </script>\n",
              "</div>\n",
              "    </div>\n",
              "  </div>\n"
            ]
          },
          "metadata": {},
          "execution_count": 6
        }
      ],
      "source": [
        "df.head(10)"
      ]
    },
    {
      "cell_type": "markdown",
      "source": [
        "Count and report the number of missing values in each variable"
      ],
      "metadata": {
        "id": "-qDHULerpy6u"
      },
      "id": "-qDHULerpy6u"
    },
    {
      "cell_type": "code",
      "execution_count": 7,
      "id": "1c600dd5",
      "metadata": {
        "id": "1c600dd5",
        "outputId": "3c1a239c-d544-47c7-eab5-b8b7ef4b9537",
        "colab": {
          "base_uri": "https://localhost:8080/"
        }
      },
      "outputs": [
        {
          "output_type": "execute_result",
          "data": {
            "text/plain": [
              "ClassLabel             0\n",
              "Gender                 0\n",
              "Age                    0\n",
              "Race                   0\n",
              "Education             12\n",
              "FamilyHistory          0\n",
              "HighBloodSugar         0\n",
              "BMI                    9\n",
              "WaistCircumference     0\n",
              "SystolicBP             0\n",
              "DiastolicBP            0\n",
              "LDL                    0\n",
              "HDL                    0\n",
              "Triglycerides          0\n",
              "dtype: int64"
            ]
          },
          "metadata": {},
          "execution_count": 7
        }
      ],
      "source": [
        "df.isna().sum()"
      ]
    },
    {
      "cell_type": "markdown",
      "source": [
        "Impute the missing values in categorical variables by their most frequent values"
      ],
      "metadata": {
        "id": "R30oAlPNp8Hy"
      },
      "id": "R30oAlPNp8Hy"
    },
    {
      "cell_type": "code",
      "execution_count": 8,
      "id": "36291ec1",
      "metadata": {
        "id": "36291ec1"
      },
      "outputs": [],
      "source": [
        "df['Education'].fillna(df['Education'].mode(), inplace = True)"
      ]
    },
    {
      "cell_type": "markdown",
      "source": [
        "Impute the missing values in continuous variables by their mean values"
      ],
      "metadata": {
        "id": "VI3ZOYsNqG8y"
      },
      "id": "VI3ZOYsNqG8y"
    },
    {
      "cell_type": "code",
      "execution_count": 9,
      "id": "f03ebb9a",
      "metadata": {
        "id": "f03ebb9a"
      },
      "outputs": [],
      "source": [
        "df[\"BMI\"].fillna(df[\"BMI\"].mean(), inplace = True)"
      ]
    },
    {
      "cell_type": "markdown",
      "source": [
        "Report the number of positive and negative samples in the dataset"
      ],
      "metadata": {
        "id": "oOQUKb0aqRv8"
      },
      "id": "oOQUKb0aqRv8"
    },
    {
      "cell_type": "code",
      "execution_count": 10,
      "id": "ca1cc7aa",
      "metadata": {
        "id": "ca1cc7aa",
        "outputId": "e3f2ea20-0ba0-4023-abc0-67ab39a245cc",
        "colab": {
          "base_uri": "https://localhost:8080/"
        }
      },
      "outputs": [
        {
          "output_type": "stream",
          "name": "stdout",
          "text": [
            "Number of positive samples\n",
            "728\n",
            "Number of negative samples\n",
            "775\n"
          ]
        }
      ],
      "source": [
        "print(\"Number of positive samples\")\n",
        "print(df[df[\"ClassLabel\"] == \"Positive\"].shape[0])\n",
        "print(\"Number of negative samples\")\n",
        "print(df[df[\"ClassLabel\"] == \"Negative\"].shape[0])"
      ]
    },
    {
      "cell_type": "markdown",
      "source": [
        "Report the number positive samples having Gender =1 and Race =2"
      ],
      "metadata": {
        "id": "zEFvl71sqfS9"
      },
      "id": "zEFvl71sqfS9"
    },
    {
      "cell_type": "code",
      "execution_count": 11,
      "id": "ec2fa2fb",
      "metadata": {
        "id": "ec2fa2fb",
        "outputId": "48196f21-0041-45c8-fd2b-c50865b2ae3b",
        "colab": {
          "base_uri": "https://localhost:8080/"
        }
      },
      "outputs": [
        {
          "output_type": "stream",
          "name": "stdout",
          "text": [
            "40\n"
          ]
        }
      ],
      "source": [
        "print(df[(df[\"ClassLabel\"]==\"Positive\") & (df[\"Gender\"]==1) & (df[\"Race\"]==2)].shape[0])"
      ]
    },
    {
      "cell_type": "markdown",
      "source": [
        "Which Race value is the most frequent in Negative samples"
      ],
      "metadata": {
        "id": "Aj_zuGUEqsMg"
      },
      "id": "Aj_zuGUEqsMg"
    },
    {
      "cell_type": "code",
      "execution_count": 13,
      "id": "5e58a43d",
      "metadata": {
        "id": "5e58a43d",
        "outputId": "09558bbf-33b5-4a49-dc97-b78756b372dd",
        "colab": {
          "base_uri": "https://localhost:8080/"
        }
      },
      "outputs": [
        {
          "output_type": "execute_result",
          "data": {
            "text/plain": [
              "3    794\n",
              "1    270\n",
              "4    206\n",
              "2    161\n",
              "5     72\n",
              "Name: Race, dtype: int64"
            ]
          },
          "metadata": {},
          "execution_count": 13
        }
      ],
      "source": [
        "df[\"Race\"].value_counts()"
      ]
    },
    {
      "cell_type": "markdown",
      "source": [
        "What is the average BMI and Age value of the samples having Education =3\n",
        "\n",
        "\n",
        "\n"
      ],
      "metadata": {
        "id": "MpqfLbErq6wP"
      },
      "id": "MpqfLbErq6wP"
    },
    {
      "cell_type": "code",
      "execution_count": 16,
      "id": "e4698fb3",
      "metadata": {
        "id": "e4698fb3",
        "outputId": "b1189aed-2d00-4fa7-a0c3-040355afb951",
        "colab": {
          "base_uri": "https://localhost:8080/"
        }
      },
      "outputs": [
        {
          "output_type": "execute_result",
          "data": {
            "text/plain": [
              "29.276166255235008"
            ]
          },
          "metadata": {},
          "execution_count": 16
        }
      ],
      "source": [
        "df[df[\"Education\"]==3].BMI.mean()"
      ]
    },
    {
      "cell_type": "code",
      "source": [
        "df[df[\"Education\"]==3].Age.mean()"
      ],
      "metadata": {
        "colab": {
          "base_uri": "https://localhost:8080/"
        },
        "id": "WxWSkZbA_SpI",
        "outputId": "3af39add-d9c2-412c-9448-e1dd66ff0c6f"
      },
      "id": "WxWSkZbA_SpI",
      "execution_count": 17,
      "outputs": [
        {
          "output_type": "execute_result",
          "data": {
            "text/plain": [
              "49.764525993883794"
            ]
          },
          "metadata": {},
          "execution_count": 17
        }
      ]
    },
    {
      "cell_type": "markdown",
      "source": [
        "Compute the mean and standard deviation of BMI values for Gender = 1"
      ],
      "metadata": {
        "id": "mUszAGBDrSwL"
      },
      "id": "mUszAGBDrSwL"
    },
    {
      "cell_type": "code",
      "execution_count": 18,
      "id": "e84c66bf",
      "metadata": {
        "id": "e84c66bf",
        "outputId": "4c9a6dda-91b7-4330-f647-ca8da9c7071d",
        "colab": {
          "base_uri": "https://localhost:8080/"
        }
      },
      "outputs": [
        {
          "output_type": "stream",
          "name": "stdout",
          "text": [
            "28.49773850117451\n",
            "5.642778216687597\n"
          ]
        }
      ],
      "source": [
        "print(df[df[\"Gender\"]==1][\"BMI\"].mean())\n",
        "print(df[df[\"Gender\"]==1][\"BMI\"].std())"
      ]
    },
    {
      "cell_type": "markdown",
      "source": [
        "For the WaistCircumference, compute a pair of boxplots, one for each class (Positive or Negative) specified in the first column of the dataset."
      ],
      "metadata": {
        "id": "Hbj0-DUtra5x"
      },
      "id": "Hbj0-DUtra5x"
    },
    {
      "cell_type": "code",
      "execution_count": 19,
      "id": "30271702",
      "metadata": {
        "id": "30271702",
        "outputId": "e9e332b2-e390-4dad-fae1-47e8d0bb5708",
        "colab": {
          "base_uri": "https://localhost:8080/",
          "height": 447
        }
      },
      "outputs": [
        {
          "output_type": "execute_result",
          "data": {
            "text/plain": [
              "[Text(1, 0, 'Positive'), Text(2, 0, 'Negative')]"
            ]
          },
          "metadata": {},
          "execution_count": 19
        },
        {
          "output_type": "display_data",
          "data": {
            "text/plain": [
              "<Figure size 640x480 with 1 Axes>"
            ],
            "image/png": "[encoded data removed]"
          },
          "metadata": {}
        }
      ],
      "source": [
        "fig, ax = plt.subplots()\n",
        "ax.boxplot([df[df[\"ClassLabel\"] == 'Positive'].WaistCircumference, df[df[\"ClassLabel\"] == 'Negative'].WaistCircumference])\n",
        "ax.set_xticklabels(['Positive','Negative'])"
      ]
    },
    {
      "cell_type": "markdown",
      "source": [
        "Using the \"quantile\" method, print quartile information for BMI. Verify your results using the describe() method"
      ],
      "metadata": {
        "id": "f0tBS9n-rjws"
      },
      "id": "f0tBS9n-rjws"
    },
    {
      "cell_type": "code",
      "execution_count": 20,
      "id": "e74a7f43",
      "metadata": {
        "id": "e74a7f43",
        "outputId": "c36c3b09-2a6d-4b60-b81e-ae3f33ef22a9",
        "colab": {
          "base_uri": "https://localhost:8080/",
          "height": 424
        }
      },
      "outputs": [
        {
          "output_type": "stream",
          "name": "stdout",
          "text": [
            "Quantile value for 0.25:\n",
            "24.16\n",
            "Quantile value for 0.50:\n",
            "27.5\n",
            "Quantile value for 0.75:\n",
            "31.715\n"
          ]
        },
        {
          "output_type": "execute_result",
          "data": {
            "text/plain": [
              "            Gender          Age         Race    Education  FamilyHistory  \\\n",
              "count  1503.000000  1503.000000  1503.000000  1491.000000    1503.000000   \n",
              "mean      1.541583    49.231537     2.766467     3.428571       1.333333   \n",
              "std       0.498434    17.646239     1.049072     1.275253       0.471561   \n",
              "min       1.000000    20.000000     1.000000     1.000000       1.000000   \n",
              "25%       1.000000    34.000000     2.000000     3.000000       1.000000   \n",
              "50%       2.000000    48.000000     3.000000     4.000000       1.000000   \n",
              "75%       2.000000    63.000000     3.000000     4.000000       2.000000   \n",
              "max       2.000000    80.000000     5.000000     5.000000       2.000000   \n",
              "\n",
              "       HighBloodSugar          BMI  WaistCircumference   SystolicBP  \\\n",
              "count     1503.000000  1503.000000         1503.000000  1503.000000   \n",
              "mean         1.025948    28.416365           97.555888   120.359947   \n",
              "std          0.159033     6.240718           15.358587    17.108261   \n",
              "min          1.000000    14.590000           62.000000    76.000000   \n",
              "25%          1.000000    24.160000           86.500000   108.000000   \n",
              "50%          1.000000    27.500000           96.100000   118.000000   \n",
              "75%          1.000000    31.715000          106.350000   130.000000   \n",
              "max          2.000000    57.940000          162.700000   210.000000   \n",
              "\n",
              "       DiastolicBP          LDL          HDL  Triglycerides  \n",
              "count  1503.000000  1503.000000  1503.000000    1503.000000  \n",
              "mean     68.152362   118.815702    55.480373     117.979375  \n",
              "std      11.749383    34.656330    16.125324      60.615212  \n",
              "min      24.000000    29.000000    21.000000      26.000000  \n",
              "25%      61.000000    94.000000    44.000000      75.000000  \n",
              "50%      68.000000   117.000000    53.000000     103.000000  \n",
              "75%      76.000000   140.000000    65.000000     146.000000  \n",
              "max     111.000000   266.000000   133.000000     376.000000  "
            ],
            "text/html": [
              "\n",
              "  <div id=\"df-ff54f93f-3b4c-490b-bea0-11497acecdeb\" class=\"colab-df-container\">\n",
              "    <div>\n",
              "<style scoped>\n",
              "    .dataframe tbody tr th:only-of-type {\n",
              "        vertical-align: middle;\n",
              "    }\n",
              "\n",
              "    .dataframe tbody tr th {\n",
              "        vertical-align: top;\n",
              "    }\n",
              "\n",
              "    .dataframe thead th {\n",
              "        text-align: right;\n",
              "    }\n",
              "</style>\n",
              "<table border=\"1\" class=\"dataframe\">\n",
              "  <thead>\n",
              "    <tr style=\"text-align: right;\">\n",
              "      <th></th>\n",
              "      <th>Gender</th>\n",
              "      <th>Age</th>\n",
              "      <th>Race</th>\n",
              "      <th>Education</th>\n",
              "      <th>FamilyHistory</th>\n",
              "      <th>HighBloodSugar</th>\n",
              "      <th>BMI</th>\n",
              "      <th>WaistCircumference</th>\n",
              "      <th>SystolicBP</th>\n",
              "      <th>DiastolicBP</th>\n",
              "      <th>LDL</th>\n",
              "      <th>HDL</th>\n",
              "      <th>Triglycerides</th>\n",
              "    </tr>\n",
              "  </thead>\n",
              "  <tbody>\n",
              "    <tr>\n",
              "      <th>count</th>\n",
              "      <td>1503.000000</td>\n",
              "      <td>1503.000000</td>\n",
              "      <td>1503.000000</td>\n",
              "      <td>1491.000000</td>\n",
              "      <td>1503.000000</td>\n",
              "      <td>1503.000000</td>\n",
              "      <td>1503.000000</td>\n",
              "      <td>1503.000000</td>\n",
              "      <td>1503.000000</td>\n",
              "      <td>1503.000000</td>\n",
              "      <td>1503.000000</td>\n",
              "      <td>1503.000000</td>\n",
              "      <td>1503.000000</td>\n",
              "    </tr>\n",
              "    <tr>\n",
              "      <th>mean</th>\n",
              "      <td>1.541583</td>\n",
              "      <td>49.231537</td>\n",
              "      <td>2.766467</td>\n",
              "      <td>3.428571</td>\n",
              "      <td>1.333333</td>\n",
              "      <td>1.025948</td>\n",
              "      <td>28.416365</td>\n",
              "      <td>97.555888</td>\n",
              "      <td>120.359947</td>\n",
              "      <td>68.152362</td>\n",
              "      <td>118.815702</td>\n",
              "      <td>55.480373</td>\n",
              "      <td>117.979375</td>\n",
              "    </tr>\n",
              "    <tr>\n",
              "      <th>std</th>\n",
              "      <td>0.498434</td>\n",
              "      <td>17.646239</td>\n",
              "      <td>1.049072</td>\n",
              "      <td>1.275253</td>\n",
              "      <td>0.471561</td>\n",
              "      <td>0.159033</td>\n",
              "      <td>6.240718</td>\n",
              "      <td>15.358587</td>\n",
              "      <td>17.108261</td>\n",
              "      <td>11.749383</td>\n",
              "      <td>34.656330</td>\n",
              "      <td>16.125324</td>\n",
              "      <td>60.615212</td>\n",
              "    </tr>\n",
              "    <tr>\n",
              "      <th>min</th>\n",
              "      <td>1.000000</td>\n",
              "      <td>20.000000</td>\n",
              "      <td>1.000000</td>\n",
              "      <td>1.000000</td>\n",
              "      <td>1.000000</td>\n",
              "      <td>1.000000</td>\n",
              "      <td>14.590000</td>\n",
              "      <td>62.000000</td>\n",
              "      <td>76.000000</td>\n",
              "      <td>24.000000</td>\n",
              "      <td>29.000000</td>\n",
              "      <td>21.000000</td>\n",
              "      <td>26.000000</td>\n",
              "    </tr>\n",
              "    <tr>\n",
              "      <th>25%</th>\n",
              "      <td>1.000000</td>\n",
              "      <td>34.000000</td>\n",
              "      <td>2.000000</td>\n",
              "      <td>3.000000</td>\n",
              "      <td>1.000000</td>\n",
              "      <td>1.000000</td>\n",
              "      <td>24.160000</td>\n",
              "      <td>86.500000</td>\n",
              "      <td>108.000000</td>\n",
              "      <td>61.000000</td>\n",
              "      <td>94.000000</td>\n",
              "      <td>44.000000</td>\n",
              "      <td>75.000000</td>\n",
              "    </tr>\n",
              "    <tr>\n",
              "      <th>50%</th>\n",
              "      <td>2.000000</td>\n",
              "      <td>48.000000</td>\n",
              "      <td>3.000000</td>\n",
              "      <td>4.000000</td>\n",
              "      <td>1.000000</td>\n",
              "      <td>1.000000</td>\n",
              "      <td>27.500000</td>\n",
              "      <td>96.100000</td>\n",
              "      <td>118.000000</td>\n",
              "      <td>68.000000</td>\n",
              "      <td>117.000000</td>\n",
              "      <td>53.000000</td>\n",
              "      <td>103.000000</td>\n",
              "    </tr>\n",
              "    <tr>\n",
              "      <th>75%</th>\n",
              "      <td>2.000000</td>\n",
              "      <td>63.000000</td>\n",
              "      <td>3.000000</td>\n",
              "      <td>4.000000</td>\n",
              "      <td>2.000000</td>\n",
              "      <td>1.000000</td>\n",
              "      <td>31.715000</td>\n",
              "      <td>106.350000</td>\n",
              "      <td>130.000000</td>\n",
              "      <td>76.000000</td>\n",
              "      <td>140.000000</td>\n",
              "      <td>65.000000</td>\n",
              "      <td>146.000000</td>\n",
              "    </tr>\n",
              "    <tr>\n",
              "      <th>max</th>\n",
              "      <td>2.000000</td>\n",
              "      <td>80.000000</td>\n",
              "      <td>5.000000</td>\n",
              "      <td>5.000000</td>\n",
              "      <td>2.000000</td>\n",
              "      <td>2.000000</td>\n",
              "      <td>57.940000</td>\n",
              "      <td>162.700000</td>\n",
              "      <td>210.000000</td>\n",
              "      <td>111.000000</td>\n",
              "      <td>266.000000</td>\n",
              "      <td>133.000000</td>\n",
              "      <td>376.000000</td>\n",
              "    </tr>\n",
              "  </tbody>\n",
              "</table>\n",
              "</div>\n",
              "    <div class=\"colab-df-buttons\">\n",
              "\n",
              "  <div class=\"colab-df-container\">\n",
              "    <button class=\"colab-df-convert\" onclick=\"convertToInteractive('df-ff54f93f-3b4c-490b-bea0-11497acecdeb')\"\n",
              "            title=\"Convert this dataframe to an interactive table.\"\n",
              "            style=\"display:none;\">\n",
              "\n",
              "  <svg xmlns=\"http://www.w3.org/2000/svg\" height=\"24px\" viewBox=\"0 -960 960 960\">\n",
              "    <path d=\"M120-120v-720h720v720H120Zm60-500h600v-160H180v160Zm220 220h160v-160H400v160Zm0 220h160v-160H400v160ZM180-400h160v-160H180v160Zm440 0h160v-160H620v160ZM180-180h160v-160H180v160Zm440 0h160v-160H620v160Z\"/>\n",
              "  </svg>\n",
              "    </button>\n",
              "\n",
              "  <style>\n",
              "    .colab-df-container {\n",
              "      display:flex;\n",
              "      gap: 12px;\n",
              "    }\n",
              "\n",
              "    .colab-df-convert {\n",
              "      background-color: #E8F0FE;\n",
              "      border: none;\n",
              "      border-radius: 50%;\n",
              "      cursor: pointer;\n",
              "      display: none;\n",
              "      fill: #1967D2;\n",
              "      height: 32px;\n",
              "      padding: 0 0 0 0;\n",
              "      width: 32px;\n",
              "    }\n",
              "\n",
              "    .colab-df-convert:hover {\n",
              "      background-color: #E2EBFA;\n",
              "      box-shadow: 0px 1px 2px rgba(60, 64, 67, 0.3), 0px 1px 3px 1px rgba(60, 64, 67, 0.15);\n",
              "      fill: #174EA6;\n",
              "    }\n",
              "\n",
              "    .colab-df-buttons div {\n",
              "      margin-bottom: 4px;\n",
              "    }\n",
              "\n",
              "    [theme=dark] .colab-df-convert {\n",
              "      background-color: #3B4455;\n",
              "      fill: #D2E3FC;\n",
              "    }\n",
              "\n",
              "    [theme=dark] .colab-df-convert:hover {\n",
              "      background-color: #434B5C;\n",
              "      box-shadow: 0px 1px 3px 1px rgba(0, 0, 0, 0.15);\n",
              "      filter: drop-shadow(0px 1px 2px rgba(0, 0, 0, 0.3));\n",
              "      fill: #FFFFFF;\n",
              "    }\n",
              "  </style>\n",
              "\n",
              "    <script>\n",
              "      const buttonEl =\n",
              "        document.querySelector('#df-ff54f93f-3b4c-490b-bea0-11497acecdeb button.colab-df-convert');\n",
              "      buttonEl.style.display =\n",
              "        google.colab.kernel.accessAllowed ? 'block' : 'none';\n",
              "\n",
              "      async function convertToInteractive(key) {\n",
              "        const element = document.querySelector('#df-ff54f93f-3b4c-490b-bea0-11497acecdeb');\n",
              "        const dataTable =\n",
              "          await google.colab.kernel.invokeFunction('convertToInteractive',\n",
              "                                                    [key], {});\n",
              "        if (!dataTable) return;\n",
              "\n",
              "        const docLinkHtml = 'Like what you see? Visit the ' +\n",
              "          '<a target=\"_blank\" href=https://colab.research.google.com/notebooks/data_table.ipynb>data table notebook</a>'\n",
              "          + ' to learn more about interactive tables.';\n",
              "        element.innerHTML = '';\n",
              "        dataTable['output_type'] = 'display_data';\n",
              "        await google.colab.output.renderOutput(dataTable, element);\n",
              "        const docLink = document.createElement('div');\n",
              "        docLink.innerHTML = docLinkHtml;\n",
              "        element.appendChild(docLink);\n",
              "      }\n",
              "    </script>\n",
              "  </div>\n",
              "\n",
              "\n",
              "<div id=\"df-2fe3abdf-4e2c-4fca-bbbc-ff41916c9df4\">\n",
              "  <button class=\"colab-df-quickchart\" onclick=\"quickchart('df-2fe3abdf-4e2c-4fca-bbbc-ff41916c9df4')\"\n",
              "            title=\"Suggest charts\"\n",
              "            style=\"display:none;\">\n",
              "\n",
              "<svg xmlns=\"http://www.w3.org/2000/svg\" height=\"24px\"viewBox=\"0 0 24 24\"\n",
              "     width=\"24px\">\n",
              "    <g>\n",
              "        <path d=\"M19 3H5c-1.1 0-2 .9-2 2v14c0 1.1.9 2 2 2h14c1.1 0 2-.9 2-2V5c0-1.1-.9-2-2-2zM9 17H7v-7h2v7zm4 0h-2V7h2v10zm4 0h-2v-4h2v4z\"/>\n",
              "    </g>\n",
              "</svg>\n",
              "  </button>\n",
              "\n",
              "<style>\n",
              "  .colab-df-quickchart {\n",
              "      --bg-color: #E8F0FE;\n",
              "      --fill-color: #1967D2;\n",
              "      --hover-bg-color: #E2EBFA;\n",
              "      --hover-fill-color: #174EA6;\n",
              "      --disabled-fill-color: #AAA;\n",
              "      --disabled-bg-color: #DDD;\n",
              "  }\n",
              "\n",
              "  [theme=dark] .colab-df-quickchart {\n",
              "      --bg-color: #3B4455;\n",
              "      --fill-color: #D2E3FC;\n",
              "      --hover-bg-color: #434B5C;\n",
              "      --hover-fill-color: #FFFFFF;\n",
              "      --disabled-bg-color: #3B4455;\n",
              "      --disabled-fill-color: #666;\n",
              "  }\n",
              "\n",
              "  .colab-df-quickchart {\n",
              "    background-color: var(--bg-color);\n",
              "    border: none;\n",
              "    border-radius: 50%;\n",
              "    cursor: pointer;\n",
              "    display: none;\n",
              "    fill: var(--fill-color);\n",
              "    height: 32px;\n",
              "    padding: 0;\n",
              "    width: 32px;\n",
              "  }\n",
              "\n",
              "  .colab-df-quickchart:hover {\n",
              "    background-color: var(--hover-bg-color);\n",
              "    box-shadow: 0 1px 2px rgba(60, 64, 67, 0.3), 0 1px 3px 1px rgba(60, 64, 67, 0.15);\n",
              "    fill: var(--button-hover-fill-color);\n",
              "  }\n",
              "\n",
              "  .colab-df-quickchart-complete:disabled,\n",
              "  .colab-df-quickchart-complete:disabled:hover {\n",
              "    background-color: var(--disabled-bg-color);\n",
              "    fill: var(--disabled-fill-color);\n",
              "    box-shadow: none;\n",
              "  }\n",
              "\n",
              "  .colab-df-spinner {\n",
              "    border: 2px solid var(--fill-color);\n",
              "    border-color: transparent;\n",
              "    border-bottom-color: var(--fill-color);\n",
              "    animation:\n",
              "      spin 1s steps(1) infinite;\n",
              "  }\n",
              "\n",
              "  @keyframes spin {\n",
              "    0% {\n",
              "      border-color: transparent;\n",
              "      border-bottom-color: var(--fill-color);\n",
              "      border-left-color: var(--fill-color);\n",
              "    }\n",
              "    20% {\n",
              "      border-color: transparent;\n",
              "      border-left-color: var(--fill-color);\n",
              "      border-top-color: var(--fill-color);\n",
              "    }\n",
              "    30% {\n",
              "      border-color: transparent;\n",
              "      border-left-color: var(--fill-color);\n",
              "      border-top-color: var(--fill-color);\n",
              "      border-right-color: var(--fill-color);\n",
              "    }\n",
              "    40% {\n",
              "      border-color: transparent;\n",
              "      border-right-color: var(--fill-color);\n",
              "      border-top-color: var(--fill-color);\n",
              "    }\n",
              "    60% {\n",
              "      border-color: transparent;\n",
              "      border-right-color: var(--fill-color);\n",
              "    }\n",
              "    80% {\n",
              "      border-color: transparent;\n",
              "      border-right-color: var(--fill-color);\n",
              "      border-bottom-color: var(--fill-color);\n",
              "    }\n",
              "    90% {\n",
              "      border-color: transparent;\n",
              "      border-bottom-color: var(--fill-color);\n",
              "    }\n",
              "  }\n",
              "</style>\n",
              "\n",
              "  <script>\n",
              "    async function quickchart(key) {\n",
              "      const quickchartButtonEl =\n",
              "        document.querySelector('#' + key + ' button');\n",
              "      quickchartButtonEl.disabled = true;  // To prevent multiple clicks.\n",
              "      quickchartButtonEl.classList.add('colab-df-spinner');\n",
              "      try {\n",
              "        const charts = await google.colab.kernel.invokeFunction(\n",
              "            'suggestCharts', [key], {});\n",
              "      } catch (error) {\n",
              "        console.error('Error during call to suggestCharts:', error);\n",
              "      }\n",
              "      quickchartButtonEl.classList.remove('colab-df-spinner');\n",
              "      quickchartButtonEl.classList.add('colab-df-quickchart-complete');\n",
              "    }\n",
              "    (() => {\n",
              "      let quickchartButtonEl =\n",
              "        document.querySelector('#df-2fe3abdf-4e2c-4fca-bbbc-ff41916c9df4 button');\n",
              "      quickchartButtonEl.style.display =\n",
              "        google.colab.kernel.accessAllowed ? 'block' : 'none';\n",
              "    })();\n",
              "  </script>\n",
              "</div>\n",
              "    </div>\n",
              "  </div>\n"
            ]
          },
          "metadata": {},
          "execution_count": 20
        }
      ],
      "source": [
        "print('Quantile value for 0.25:')\n",
        "print(df.BMI.quantile(.25))\n",
        "print('Quantile value for 0.50:')\n",
        "print(df.BMI.quantile(.50))\n",
        "print('Quantile value for 0.75:')\n",
        "print(df.BMI.quantile(.75))\n",
        "df.describe()"
      ]
    },
    {
      "cell_type": "markdown",
      "source": [
        "For the Education variable in the dataset, compute the bar-plots for different categories. The bar-plots should present the number of samples having each particular value."
      ],
      "metadata": {
        "id": "a2il-71-ruAG"
      },
      "id": "a2il-71-ruAG"
    },
    {
      "cell_type": "code",
      "execution_count": 21,
      "id": "2b215b1f",
      "metadata": {
        "id": "2b215b1f",
        "outputId": "c96728b2-104c-43fc-ea8e-e6a6c2b08b72",
        "colab": {
          "base_uri": "https://localhost:8080/",
          "height": 466
        }
      },
      "outputs": [
        {
          "output_type": "execute_result",
          "data": {
            "text/plain": [
              "<Axes: xlabel='Education', ylabel='count'>"
            ]
          },
          "metadata": {},
          "execution_count": 21
        },
        {
          "output_type": "display_data",
          "data": {
            "text/plain": [
              "<Figure size 640x480 with 1 Axes>"
            ],
            "image/png": "[encoded data removed]"
          },
          "metadata": {}
        }
      ],
      "source": [
        "sns.countplot(data = df, x = 'Education')"
      ]
    },
    {
      "cell_type": "markdown",
      "source": [
        "For BMI and WaistCircumference, compute a scatter plot. Comment on the relation between the two variables"
      ],
      "metadata": {
        "id": "dIUG-VOfr3wy"
      },
      "id": "dIUG-VOfr3wy"
    },
    {
      "cell_type": "code",
      "execution_count": 22,
      "id": "cba7efcd",
      "metadata": {
        "id": "cba7efcd",
        "outputId": "bfc6c74e-61f3-4f14-d48c-172ac3c227aa",
        "colab": {
          "base_uri": "https://localhost:8080/",
          "height": 489
        }
      },
      "outputs": [
        {
          "output_type": "execute_result",
          "data": {
            "text/plain": [
              "<matplotlib.collections.PathCollection at 0x7db15ecaaf50>"
            ]
          },
          "metadata": {},
          "execution_count": 22
        },
        {
          "output_type": "display_data",
          "data": {
            "text/plain": [
              "<Figure size 640x480 with 1 Axes>"
            ],
            "image/png": "[encoded data removed]"
          },
          "metadata": {}
        }
      ],
      "source": [
        "fig, ax = plt.subplots()\n",
        "ax.set_xlabel('BMI')\n",
        "ax.set_ylabel('Waist Circumference')\n",
        "ax.set_title('Scatter Plot')\n",
        "plt.scatter(df.BMI,df.WaistCircumference)"
      ]
    },
    {
      "cell_type": "markdown",
      "source": [
        "For SystolicBP and Triglycerides, compute a scatter plot. Comment on the relation between the two variables"
      ],
      "metadata": {
        "id": "ug5ogB6mr8-e"
      },
      "id": "ug5ogB6mr8-e"
    },
    {
      "cell_type": "code",
      "execution_count": 23,
      "id": "26e83f2b",
      "metadata": {
        "id": "26e83f2b",
        "outputId": "cede2f31-271b-45a8-f479-440507109f74",
        "colab": {
          "base_uri": "https://localhost:8080/",
          "height": 489
        }
      },
      "outputs": [
        {
          "output_type": "execute_result",
          "data": {
            "text/plain": [
              "<matplotlib.collections.PathCollection at 0x7db15eb58190>"
            ]
          },
          "metadata": {},
          "execution_count": 23
        },
        {
          "output_type": "display_data",
          "data": {
            "text/plain": [
              "<Figure size 640x480 with 1 Axes>"
            ],
            "image/png": "[encoded data removed]"
          },
          "metadata": {}
        }
      ],
      "source": [
        "fig, ax = plt.subplots()\n",
        "ax.set_xlabel('SystolicBP')\n",
        "ax.set_ylabel('Triglycerides')\n",
        "ax.set_title('Scatter Plot')\n",
        "plt.scatter(df.SystolicBP,df.Triglycerides)"
      ]
    }
  ],
  "metadata": {
    "kernelspec": {
      "display_name": "Python 3 (ipykernel)",
      "language": "python",
      "name": "python3"
    },
    "language_info": {
      "codemirror_mode": {
        "name": "ipython",
        "version": 3
      },
      "file_extension": ".py",
      "mimetype": "text/x-python",
      "name": "python",
      "nbconvert_exporter": "python",
      "pygments_lexer": "ipython3",
      "version": "3.9.7"
    },
    "colab": {
      "provenance": [],
      "include_colab_link": true
    }
  },
  "nbformat": 4,
  "nbformat_minor": 5
}