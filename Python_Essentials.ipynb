{
  "nbformat": 4,
  "nbformat_minor": 0,
  "metadata": {
    "colab": {
      "provenance": [],
      "authorship_tag": "ABX9TyO0XmS4ROwxi5hkrYrNQBU3",
      "include_colab_link": true
    },
    "kernelspec": {
      "name": "python3",
      "display_name": "Python 3"
    },
    "language_info": {
      "name": "python"
    }
  },
  "cells": [
    {
      "cell_type": "markdown",
      "metadata": {
        "id": "view-in-github",
        "colab_type": "text"
      },
      "source": [
        "<a href=\"https://colab.research.google.com/github/alshubati99/Data-Science-Study/blob/main/Python_Essentials.ipynb\" target=\"_parent\"><img src=\"https://colab.research.google.com/assets/colab-badge.svg\" alt=\"Open In Colab\"/></a>"
      ]
    },
    {
      "cell_type": "markdown",
      "source": [
        "# Introduction to Python Programming\n",
        "- Anaconda is world most popular python data science platform.\n",
        "\n",
        "### Built-in Types\n",
        "  - None => for null values\n",
        "  - str => string type\n",
        "  - bytes => Raw ASKII bytes\n",
        "  - float => Double-precision (64-bit) floating-point number\n",
        "  - bool => True or False value\n",
        "  - int => Arbitrary precision signed integer\n",
        "### Numeric Types\n",
        "  - primary python types for numbers are int and float\n",
        "  - no limit to how long an integer value can be\n",
        "  - floating-point are represented with float type in range 10e-308 to 10e308 with 16 to 17 digits of precision. (can be expressed with scientific notation)\n",
        "  - integer division not resulting in a whole number will always yield a floating-point number.\n",
        "  - type conversion is supported in python => float(3) or int(3.88) (truncates)\n",
        "### Strings\n",
        "  - python strings are immutable, no modification for strings is supported.\n",
        "  - you can use *str* function to convert any python object to string.\n",
        "  - adding to strings will produce a new string that has the concatination\n",
        "  - square brackets  used to perform indexing into a string to get value at a certain index/position\n",
        "### Booleans\n",
        "  - boolean values (True,False) are compared with AND and OR keywords\n",
        "### Operators\n",
        "  - (a+b) => addition\n",
        "  - (a-b) => subtraction\n",
        "  - (a*b) => multiplication\n",
        "  - (a/b) => division (a by b)\n",
        "  - (a//b) => floor divide a by b, drop any fractional remainder\n",
        "  - (a**b) => raise a to power b\n",
        "  - (a&b) => true if both a, b are true, for int =(AND)\n",
        "  - (a|b) => true if either a, b is true, for int =(OR)\n",
        "  - (a^b) => for booleans, true if either a or be is true but not both, for int= (EXCLUSIVE_OR)\n",
        "  - (a==b) => true if a equals b\n",
        "  - (a!=b) => true if a not equal to be\n",
        "  - (a <= b, a < b) => true if a less than or equal to b\n",
        "  - (a >= b, a > b) => true if a greater than or equal to b\n",
        "  - (a is b) => true if a and b reference same python object\n",
        "  - (a is not b) => true if a and b reference different python objects.\n",
        "\n",
        "\n"
      ],
      "metadata": {
        "id": "vvkPVWlRp-fk"
      }
    },
    {
      "cell_type": "code",
      "source": [
        "a = 'this is trying to modify string'\n",
        "a[10 ]= 'f'"
      ],
      "metadata": {
        "colab": {
          "base_uri": "https://localhost:8080/",
          "height": 194
        },
        "id": "Czc29I4lqJh1",
        "outputId": "dbc28d52-23d5-4277-b83c-6204536fa4f0"
      },
      "execution_count": 1,
      "outputs": [
        {
          "output_type": "error",
          "ename": "TypeError",
          "evalue": "ignored",
          "traceback": [
            "\u001b[0;31m---------------------------------------------------------------------------\u001b[0m",
            "\u001b[0;31mTypeError\u001b[0m                                 Traceback (most recent call last)",
            "\u001b[0;32m<ipython-input-1-433fb192523b>\u001b[0m in \u001b[0;36m<cell line: 2>\u001b[0;34m()\u001b[0m\n\u001b[1;32m      1\u001b[0m \u001b[0ma\u001b[0m \u001b[0;34m=\u001b[0m \u001b[0;34m'this is trying to modify string'\u001b[0m\u001b[0;34m\u001b[0m\u001b[0;34m\u001b[0m\u001b[0m\n\u001b[0;32m----> 2\u001b[0;31m \u001b[0ma\u001b[0m\u001b[0;34m[\u001b[0m\u001b[0;36m10\u001b[0m \u001b[0;34m]\u001b[0m\u001b[0;34m=\u001b[0m \u001b[0;34m'f'\u001b[0m\u001b[0;34m\u001b[0m\u001b[0;34m\u001b[0m\u001b[0m\n\u001b[0m",
            "\u001b[0;31mTypeError\u001b[0m: 'str' object does not support item assignment"
          ]
        }
      ]
    },
    {
      "cell_type": "code",
      "source": [
        "s1 = 6.6\n",
        "s2 = str(s1)\n",
        "print(s2)"
      ],
      "metadata": {
        "colab": {
          "base_uri": "https://localhost:8080/"
        },
        "id": "gaZCslq5tUqJ",
        "outputId": "01a5bf13-e9e0-484c-9c70-631e7ca72b86"
      },
      "execution_count": 4,
      "outputs": [
        {
          "output_type": "stream",
          "name": "stdout",
          "text": [
            "6.6\n"
          ]
        }
      ]
    },
    {
      "cell_type": "code",
      "source": [
        "a = 'hello'\n",
        "b = ' world'\n",
        "print(a+b)"
      ],
      "metadata": {
        "colab": {
          "base_uri": "https://localhost:8080/"
        },
        "id": "01i2_k_Mtqmw",
        "outputId": "62a32f99-e7fc-434a-da40-fbd97453e784"
      },
      "execution_count": 6,
      "outputs": [
        {
          "output_type": "stream",
          "name": "stdout",
          "text": [
            "hello world\n"
          ]
        }
      ]
    },
    {
      "cell_type": "code",
      "source": [
        "string = 'abc'\n",
        "print(string[0])\n",
        "print(string[1])\n",
        "print(string[2])\n",
        "#print(string[3]) index error, out of range\n",
        "print(string[-1])\n",
        "print(string[-2])\n",
        "print(string[-3])"
      ],
      "metadata": {
        "colab": {
          "base_uri": "https://localhost:8080/"
        },
        "id": "NZHr8AKdt0ky",
        "outputId": "77f51b7e-da2a-4af6-de3e-cc92f34e74f1"
      },
      "execution_count": 12,
      "outputs": [
        {
          "output_type": "stream",
          "name": "stdout",
          "text": [
            "a\n",
            "b\n",
            "c\n",
            "c\n",
            "b\n",
            "a\n"
          ]
        }
      ]
    },
    {
      "cell_type": "code",
      "source": [
        "# slicing strings [start:stop:step]\n",
        "string = 'khawlah99'\n",
        "print(string[3:6])\n",
        "print(string[3:6:2])\n",
        "print(string[::])\n",
        "print(string[0:len(string):1])\n",
        "print(string[::-1])\n",
        "print(string[-1:-(len(string)+1):-1])\n",
        "print(string[4:1:-2])"
      ],
      "metadata": {
        "colab": {
          "base_uri": "https://localhost:8080/"
        },
        "id": "d47j83nYuXgd",
        "outputId": "185cdfda-eedb-4aa4-cbb5-f66d1960274e"
      },
      "execution_count": 18,
      "outputs": [
        {
          "output_type": "stream",
          "name": "stdout",
          "text": [
            "wla\n",
            "wa\n",
            "khawlah99\n",
            "khawlah99\n",
            "99halwahk\n",
            "99halwahk\n",
            "la\n"
          ]
        }
      ]
    },
    {
      "cell_type": "code",
      "source": [
        "s = 'hello'\n",
        "s = 'y'+s[1:len(s)]\n",
        "print(s)"
      ],
      "metadata": {
        "colab": {
          "base_uri": "https://localhost:8080/"
        },
        "id": "nWehv1OTvXie",
        "outputId": "3829a7ee-d4e8-4ada-ca10-6f4a61656e35"
      },
      "execution_count": 20,
      "outputs": [
        {
          "output_type": "stream",
          "name": "stdout",
          "text": [
            "yello\n"
          ]
        }
      ]
    },
    {
      "cell_type": "markdown",
      "source": [
        "# Control Flow"
      ],
      "metadata": {
        "id": "P0SbW7ozxfwf"
      }
    },
    {
      "cell_type": "code",
      "source": [
        "i = 10\n",
        "if (i>15):\n",
        "  print(\"10 is less than 15\")\n",
        "print(\"This is not in If\")"
      ],
      "metadata": {
        "colab": {
          "base_uri": "https://localhost:8080/"
        },
        "id": "yNYRFzbwvjWx",
        "outputId": "e11946b2-3586-4028-80d2-6d7b0c9b887c"
      },
      "execution_count": 21,
      "outputs": [
        {
          "output_type": "stream",
          "name": "stdout",
          "text": [
            "This is not in If\n"
          ]
        }
      ]
    },
    {
      "cell_type": "code",
      "source": [
        "i = 20\n",
        "if (i <15):\n",
        "  print('i is smaller than 15')\n",
        "  print(\"I'm in IF block\")\n",
        "else:\n",
        "  print(\"i is not greater thatn 15\")\n",
        "  print(\"I'm in ELSE block\")\n",
        "print(\"I am outside of IF-ELSE block\")"
      ],
      "metadata": {
        "colab": {
          "base_uri": "https://localhost:8080/"
        },
        "id": "GDRkNLeKxv-r",
        "outputId": "9e02f5eb-c60d-4a83-9f12-c819f5bf0513"
      },
      "execution_count": 22,
      "outputs": [
        {
          "output_type": "stream",
          "name": "stdout",
          "text": [
            "i is not greater thatn 15\n",
            "I'm in ELSE block\n",
            "I am outside of IF-ELSE block\n"
          ]
        }
      ]
    },
    {
      "cell_type": "code",
      "source": [
        "i = 20\n",
        "if (i == 10):\n",
        "  print('i is 10')\n",
        "elif (i == 15):\n",
        "  print('i is 15')\n",
        "elif (i == 20):\n",
        "  print('i is 20')\n",
        "else:\n",
        "  print('i is not present')"
      ],
      "metadata": {
        "colab": {
          "base_uri": "https://localhost:8080/"
        },
        "id": "xdRiAat5yK1w",
        "outputId": "ebbd922c-7878-4ca1-ee51-4113014f7c09"
      },
      "execution_count": 25,
      "outputs": [
        {
          "output_type": "stream",
          "name": "stdout",
          "text": [
            "i is 20\n"
          ]
        }
      ]
    },
    {
      "cell_type": "markdown",
      "source": [
        "# Iterative Structures"
      ],
      "metadata": {
        "id": "zO-Dlz85ysRF"
      }
    },
    {
      "cell_type": "code",
      "source": [
        "# python program to illustrate python loop\n",
        "count = 0\n",
        "while (count < 3):\n",
        "  count = count +1\n",
        "  print(\"Hello World!\")"
      ],
      "metadata": {
        "colab": {
          "base_uri": "https://localhost:8080/"
        },
        "id": "TNw8Wl5-yroI",
        "outputId": "7fbc85f4-831b-4cc8-d9fb-9d79ba4e6820"
      },
      "execution_count": 26,
      "outputs": [
        {
          "output_type": "stream",
          "name": "stdout",
          "text": [
            "Hello World!\n",
            "Hello World!\n",
            "Hello World!\n"
          ]
        }
      ]
    },
    {
      "cell_type": "code",
      "source": [
        "# check if list conains any elements\n",
        "a = [1,2,3,4]\n",
        "while a:\n",
        "  print(a.pop())"
      ],
      "metadata": {
        "colab": {
          "base_uri": "https://localhost:8080/"
        },
        "id": "XkE8IyO4y-6e",
        "outputId": "bc051b05-d1e2-4dde-a04c-6b7831e1dd7c"
      },
      "execution_count": 27,
      "outputs": [
        {
          "output_type": "stream",
          "name": "stdout",
          "text": [
            "4\n",
            "3\n",
            "2\n",
            "1\n"
          ]
        }
      ]
    },
    {
      "cell_type": "code",
      "source": [
        "# prints all letters except 'e' and 's'\n",
        "i = 0\n",
        "a = 'geeksforgeeks123'\n",
        "while i < len(a):\n",
        "  if a[i] == 'e' or a[i] == 's':\n",
        "    i+=1\n",
        "    continue # skip letter e and s\n",
        "  print('current letter: ', a[i])\n",
        "  i+=1"
      ],
      "metadata": {
        "colab": {
          "base_uri": "https://localhost:8080/"
        },
        "id": "PSFTI3m8zKDb",
        "outputId": "591a20f4-f6db-473f-f77c-885bc799de6d"
      },
      "execution_count": 28,
      "outputs": [
        {
          "output_type": "stream",
          "name": "stdout",
          "text": [
            "current letter:  g\n",
            "current letter:  k\n",
            "current letter:  f\n",
            "current letter:  o\n",
            "current letter:  r\n",
            "current letter:  g\n",
            "current letter:  k\n",
            "current letter:  1\n",
            "current letter:  2\n",
            "current letter:  3\n"
          ]
        }
      ]
    },
    {
      "cell_type": "code",
      "source": [
        "# break loop as soon as there is 'e' or 's'\n",
        "i = 0\n",
        "a = 'geeksforgeeks123'\n",
        "while i<len(a):\n",
        "  if a[i] =='e' or a[i] == 's':\n",
        "    i+=1\n",
        "    break # as it sees e it stops\n",
        "  print('current letter: ', a[i])\n",
        "  i+=1"
      ],
      "metadata": {
        "colab": {
          "base_uri": "https://localhost:8080/"
        },
        "id": "TQj_gxhlzoqc",
        "outputId": "06ffc54e-2e13-47a1-b276-0c2bcab41eb1"
      },
      "execution_count": 29,
      "outputs": [
        {
          "output_type": "stream",
          "name": "stdout",
          "text": [
            "current letter:  g\n"
          ]
        }
      ]
    },
    {
      "cell_type": "code",
      "source": [
        "# iterate over a list program\n",
        "list1 = ['hello', 'world', 'this is me']\n",
        "for i in list1:\n",
        "  print(i)"
      ],
      "metadata": {
        "colab": {
          "base_uri": "https://localhost:8080/"
        },
        "id": "7w-G2zRX0CCj",
        "outputId": "c712fc8b-b813-42a6-c351-e50b9dc7fb02"
      },
      "execution_count": 31,
      "outputs": [
        {
          "output_type": "stream",
          "name": "stdout",
          "text": [
            "hello\n",
            "world\n",
            "this is me\n"
          ]
        }
      ]
    },
    {
      "cell_type": "code",
      "source": [
        "# iterate over a string\n",
        "s = 'khawlah'\n",
        "for i in s:\n",
        "  print(i)"
      ],
      "metadata": {
        "colab": {
          "base_uri": "https://localhost:8080/"
        },
        "id": "OIBukYh60NOp",
        "outputId": "6d7c3a35-2ef4-42b3-e023-d73cc8943030"
      },
      "execution_count": 32,
      "outputs": [
        {
          "output_type": "stream",
          "name": "stdout",
          "text": [
            "k\n",
            "h\n",
            "a\n",
            "w\n",
            "l\n",
            "a\n",
            "h\n"
          ]
        }
      ]
    },
    {
      "cell_type": "code",
      "source": [
        "# show range basics\n",
        "# printing a number\n",
        "for i in range(10):\n",
        "  print(i, end=' ')"
      ],
      "metadata": {
        "colab": {
          "base_uri": "https://localhost:8080/"
        },
        "id": "M-lqzV8OCmRf",
        "outputId": "02b05711-7d7d-4a8c-8c0d-c6c7d0a1ae82"
      },
      "execution_count": 33,
      "outputs": [
        {
          "output_type": "stream",
          "name": "stdout",
          "text": [
            "0 1 2 3 4 5 6 7 8 9 "
          ]
        }
      ]
    },
    {
      "cell_type": "code",
      "source": [
        "# perform sum of first 10 numbers\n",
        "sum = 0\n",
        "for i in range(1,10):\n",
        "  sum = sum+i\n",
        "print('\\nSum of 10 numbers: ', sum)"
      ],
      "metadata": {
        "colab": {
          "base_uri": "https://localhost:8080/"
        },
        "id": "EwRWKuDKDD_9",
        "outputId": "ae8e579a-4686-4e85-c64d-ad4cd48ac395"
      },
      "execution_count": 36,
      "outputs": [
        {
          "output_type": "stream",
          "name": "stdout",
          "text": [
            "\n",
            "Sum of 10 numbers:  45\n"
          ]
        }
      ]
    },
    {
      "cell_type": "markdown",
      "source": [
        "# Build-In Data Structures"
      ],
      "metadata": {
        "id": "kJN6VCQmDpha"
      }
    },
    {
      "cell_type": "markdown",
      "source": [
        "### Lists , Ordered, changeable and allow duplicate values and has indexs\n",
        "- ordered means items have defined order that will not change.\n",
        "- if you add new items to a list, the new items will be placed at end of the list.\n",
        "- List Methods:\n",
        "  - append() => adds element to end of list\n",
        "  - clear()=> removes all elements from list\n",
        "  - copy()=> returns copy of the list\n",
        "  - count()=> returns number of elements with specified value\n",
        "  - extend()=> add element of list to the end of current list\n",
        "  - index()=> return index of first element with specified value\n",
        "  - insert()=> adds element to specified position\n",
        "  - pop()=> remove element at specified position\n",
        "  - remove()=> removes item with specified value\n",
        "  - reverse()=> reverse order of list\n",
        "  - sort()=> sorts the list\n",
        "  "
      ],
      "metadata": {
        "id": "Q9dk7f5-DvPn"
      }
    },
    {
      "cell_type": "code",
      "source": [
        "# create list:\n",
        "li= [\"a\",\"b\",\"c\"]\n",
        "print(li)"
      ],
      "metadata": {
        "colab": {
          "base_uri": "https://localhost:8080/"
        },
        "id": "c_PJp2KyDbYx",
        "outputId": "679095da-220e-4217-ccc5-df3425264577"
      },
      "execution_count": 37,
      "outputs": [
        {
          "output_type": "stream",
          "name": "stdout",
          "text": [
            "['a', 'b', 'c']\n"
          ]
        }
      ]
    },
    {
      "cell_type": "code",
      "source": [
        "# print number of items in list\n",
        "print(len(li))"
      ],
      "metadata": {
        "colab": {
          "base_uri": "https://localhost:8080/"
        },
        "id": "wtO8O3liD35z",
        "outputId": "859be487-3e22-4df8-9c99-f05558e5a198"
      },
      "execution_count": 38,
      "outputs": [
        {
          "output_type": "stream",
          "name": "stdout",
          "text": [
            "3\n"
          ]
        }
      ]
    },
    {
      "cell_type": "code",
      "source": [
        "# different data types list\n",
        "ls = ['abc', 23, True, 5.6, 'I am happy']\n",
        "print(ls)"
      ],
      "metadata": {
        "colab": {
          "base_uri": "https://localhost:8080/"
        },
        "id": "Q4valORjEcal",
        "outputId": "88b6dbb8-135d-4a5f-b770-c690e3d134e0"
      },
      "execution_count": 39,
      "outputs": [
        {
          "output_type": "stream",
          "name": "stdout",
          "text": [
            "['abc', 23, True, 5.6, 'I am happy']\n"
          ]
        }
      ]
    },
    {
      "cell_type": "code",
      "source": [
        "# use list() constructor to make a list\n",
        "List = list(('apple','banana','cherry')) # double brackets\n",
        "print(List)"
      ],
      "metadata": {
        "colab": {
          "base_uri": "https://localhost:8080/"
        },
        "id": "LjiO4cx2Enu1",
        "outputId": "138888c8-7120-43ea-c257-88783b8ac576"
      },
      "execution_count": 40,
      "outputs": [
        {
          "output_type": "stream",
          "name": "stdout",
          "text": [
            "['apple', 'banana', 'cherry']\n"
          ]
        }
      ]
    },
    {
      "cell_type": "code",
      "source": [
        "# print last item of the list\n",
        "print(List[-1])"
      ],
      "metadata": {
        "colab": {
          "base_uri": "https://localhost:8080/"
        },
        "id": "NX7PfGseE3v-",
        "outputId": "a4f1adc9-a7e5-4b01-d4e1-9fd5f1c0083d"
      },
      "execution_count": 41,
      "outputs": [
        {
          "output_type": "stream",
          "name": "stdout",
          "text": [
            "cherry\n"
          ]
        }
      ]
    },
    {
      "cell_type": "code",
      "source": [
        "# return third, fourth, fifth item\n",
        "ls = ['a','b','c','d',2,3,5,8,True,False]\n",
        "print(ls[2:5])\n",
        "print(ls[:4])\n",
        "print(ls[2:])"
      ],
      "metadata": {
        "colab": {
          "base_uri": "https://localhost:8080/"
        },
        "id": "cpT9o0AqFC5b",
        "outputId": "daf882f1-e3d3-44e6-f8b0-45cef63f6a28"
      },
      "execution_count": 44,
      "outputs": [
        {
          "output_type": "stream",
          "name": "stdout",
          "text": [
            "['c', 'd', 2]\n",
            "['a', 'b', 'c', 'd']\n",
            "['c', 'd', 2, 3, 5, 8, True, False]\n"
          ]
        }
      ]
    },
    {
      "cell_type": "code",
      "source": [
        "# use append() to append an item\n",
        "ls.append('orange')\n",
        "print(ls)"
      ],
      "metadata": {
        "colab": {
          "base_uri": "https://localhost:8080/"
        },
        "id": "M7GajP10Fk2P",
        "outputId": "5dc59901-1ee8-4029-e4b0-c5d988739e89"
      },
      "execution_count": 45,
      "outputs": [
        {
          "output_type": "stream",
          "name": "stdout",
          "text": [
            "['a', 'b', 'c', 'd', 2, 3, 5, 8, True, False, 'orange']\n"
          ]
        }
      ]
    },
    {
      "cell_type": "code",
      "source": [
        "# insert item to position\n",
        "ls.insert(1,'orange')\n",
        "print(ls)"
      ],
      "metadata": {
        "colab": {
          "base_uri": "https://localhost:8080/"
        },
        "id": "ywQsf-xLFtZ0",
        "outputId": "c948e082-3d8f-44cb-ab20-d08602358c04"
      },
      "execution_count": 46,
      "outputs": [
        {
          "output_type": "stream",
          "name": "stdout",
          "text": [
            "['a', 'orange', 'b', 'c', 'd', 2, 3, 5, 8, True, False, 'orange']\n"
          ]
        }
      ]
    },
    {
      "cell_type": "code",
      "source": [
        "# print items in list one by one\n",
        "for i in ls:\n",
        "  print(i)"
      ],
      "metadata": {
        "colab": {
          "base_uri": "https://localhost:8080/"
        },
        "id": "ebG10IOlF2V4",
        "outputId": "2109c91e-f0ff-4d58-9cf5-a62b6722f114"
      },
      "execution_count": 47,
      "outputs": [
        {
          "output_type": "stream",
          "name": "stdout",
          "text": [
            "a\n",
            "orange\n",
            "b\n",
            "c\n",
            "d\n",
            "2\n",
            "3\n",
            "5\n",
            "8\n",
            "True\n",
            "False\n",
            "orange\n"
          ]
        }
      ]
    },
    {
      "cell_type": "code",
      "source": [
        "# loop through index number\n",
        "for i in range(len(ls)):\n",
        "  print(ls[i])"
      ],
      "metadata": {
        "colab": {
          "base_uri": "https://localhost:8080/"
        },
        "id": "UJOZa6KxF-GE",
        "outputId": "ec6359f9-0ea9-43f5-b99c-eb6602a4c835"
      },
      "execution_count": 48,
      "outputs": [
        {
          "output_type": "stream",
          "name": "stdout",
          "text": [
            "a\n",
            "orange\n",
            "b\n",
            "c\n",
            "d\n",
            "2\n",
            "3\n",
            "5\n",
            "8\n",
            "True\n",
            "False\n",
            "orange\n"
          ]
        }
      ]
    },
    {
      "cell_type": "code",
      "source": [
        "# list comprehension\n",
        "fruits = ['apple','banana','cherry','kiwi','mango']\n",
        "newlist =[]\n",
        "for x in fruits:\n",
        "  if 'a' in x:\n",
        "    newlist.append(x)\n",
        "print(newlist)"
      ],
      "metadata": {
        "colab": {
          "base_uri": "https://localhost:8080/"
        },
        "id": "hJi0lyg2GL7s",
        "outputId": "ceb16f38-df90-40a8-e40d-4aac2600eee5"
      },
      "execution_count": 49,
      "outputs": [
        {
          "output_type": "stream",
          "name": "stdout",
          "text": [
            "['apple', 'banana', 'mango']\n"
          ]
        }
      ]
    },
    {
      "cell_type": "code",
      "source": [
        "# same output with different syntax\n",
        "newlist = [x for x in fruits if 'a' in x]\n",
        "print(newlist)"
      ],
      "metadata": {
        "colab": {
          "base_uri": "https://localhost:8080/"
        },
        "id": "h9AyEFHTGmtY",
        "outputId": "a2280f7b-5993-4b81-892c-e67d5c24ed95"
      },
      "execution_count": 50,
      "outputs": [
        {
          "output_type": "stream",
          "name": "stdout",
          "text": [
            "['apple', 'banana', 'mango']\n"
          ]
        }
      ]
    },
    {
      "cell_type": "code",
      "source": [
        "# addint to lists together (+)\n",
        "print([1,3,3]+['a','b'])"
      ],
      "metadata": {
        "colab": {
          "base_uri": "https://localhost:8080/"
        },
        "id": "QKA5IUQAH42U",
        "outputId": "f8d9d1d1-3526-4bee-805b-783c0a52148c"
      },
      "execution_count": 51,
      "outputs": [
        {
          "output_type": "stream",
          "name": "stdout",
          "text": [
            "[1, 3, 3, 'a', 'b']\n"
          ]
        }
      ]
    },
    {
      "cell_type": "code",
      "source": [
        "# append multiple elements to list\n",
        "x=[4,None,'hi']\n",
        "x.extend([7,9,(2,4)])\n",
        "print(x)"
      ],
      "metadata": {
        "colab": {
          "base_uri": "https://localhost:8080/"
        },
        "id": "WWeR06wsIHJw",
        "outputId": "85fc93f9-68e8-4d65-a97d-2390b9d95cfe"
      },
      "execution_count": 52,
      "outputs": [
        {
          "output_type": "stream",
          "name": "stdout",
          "text": [
            "[4, None, 'hi', 7, 9, (2, 4)]\n"
          ]
        }
      ]
    },
    {
      "cell_type": "code",
      "source": [
        "# sorting list\n",
        "a = [7,3,5,9]\n",
        "a.sort()\n",
        "print(a.sort())\n",
        "print(a)"
      ],
      "metadata": {
        "colab": {
          "base_uri": "https://localhost:8080/"
        },
        "id": "onJ08wFiIWdm",
        "outputId": "1eae1e7c-f442-4b8a-92c4-66a97cd2ef89"
      },
      "execution_count": 56,
      "outputs": [
        {
          "output_type": "stream",
          "name": "stdout",
          "text": [
            "None\n",
            "[3, 5, 7, 9]\n"
          ]
        }
      ]
    },
    {
      "cell_type": "code",
      "source": [
        "b = ['saw','small','hi','hello','i am ']\n",
        "b.sort(key =len)\n",
        "print(b)"
      ],
      "metadata": {
        "colab": {
          "base_uri": "https://localhost:8080/"
        },
        "id": "BCBGRgeUInqW",
        "outputId": "c70bfed8-1138-4780-be6a-3e1df6d3c185"
      },
      "execution_count": 57,
      "outputs": [
        {
          "output_type": "stream",
          "name": "stdout",
          "text": [
            "['hi', 'saw', 'small', 'hello', 'i am ']\n"
          ]
        }
      ]
    },
    {
      "cell_type": "markdown",
      "source": [
        "### Tuples , ordered UNchangeable and with round brackets, allow duplicates values and indexed\n",
        "- unchangeable means we cannot change, add or remove items after tubple is created.\n",
        "- allow duplicates since they are indexed\n",
        "- tuple can contain different data types\n",
        "\n"
      ],
      "metadata": {
        "id": "ulZVW2nXI41b"
      }
    },
    {
      "cell_type": "code",
      "source": [
        "tup = ('a','b','c')\n",
        "print(tup)"
      ],
      "metadata": {
        "colab": {
          "base_uri": "https://localhost:8080/"
        },
        "id": "I2JCf91kJZSx",
        "outputId": "329a55a9-36e3-47c8-b8ba-f5fe077952e1"
      },
      "execution_count": 58,
      "outputs": [
        {
          "output_type": "stream",
          "name": "stdout",
          "text": [
            "('a', 'b', 'c')\n"
          ]
        }
      ]
    },
    {
      "cell_type": "code",
      "source": [
        "# print number of items in tuple\n",
        "print(len(tup))"
      ],
      "metadata": {
        "colab": {
          "base_uri": "https://localhost:8080/"
        },
        "id": "2BMsIan-Jgrp",
        "outputId": "3dec5540-e0bd-4635-f422-831abe273075"
      },
      "execution_count": 59,
      "outputs": [
        {
          "output_type": "stream",
          "name": "stdout",
          "text": [
            "3\n"
          ]
        }
      ]
    },
    {
      "cell_type": "code",
      "source": [
        "# to create tuple with one item you have to add comma, otherwise it won't be recognized\n",
        "tup2 = ('apple')\n",
        "print(type(tup2))\n",
        "tup2 = ('apple',)\n",
        "print(type(tup2))\n",
        "\n"
      ],
      "metadata": {
        "colab": {
          "base_uri": "https://localhost:8080/"
        },
        "id": "KIC6kit5J3lX",
        "outputId": "4c271a48-810a-42a1-8cbd-718391828bb5"
      },
      "execution_count": 61,
      "outputs": [
        {
          "output_type": "stream",
          "name": "stdout",
          "text": [
            "<class 'str'>\n",
            "<class 'tuple'>\n"
          ]
        }
      ]
    },
    {
      "cell_type": "code",
      "source": [
        "tup3 = ('a',2,True)\n",
        "print(tup3)"
      ],
      "metadata": {
        "colab": {
          "base_uri": "https://localhost:8080/"
        },
        "id": "1LRRDFRPKaNo",
        "outputId": "f768bc4d-b501-4ef2-e1d0-cd62cc9149c2"
      },
      "execution_count": 62,
      "outputs": [
        {
          "output_type": "stream",
          "name": "stdout",
          "text": [
            "('a', 2, True)\n"
          ]
        }
      ]
    },
    {
      "cell_type": "code",
      "source": [
        "# print second item in tuple\n",
        "print(tup3[1])\n",
        "print(tup3[-1])"
      ],
      "metadata": {
        "colab": {
          "base_uri": "https://localhost:8080/"
        },
        "id": "uAfyvwN2Kgf2",
        "outputId": "74d09b4e-2f2a-4d43-e6f8-4621fe20ec61"
      },
      "execution_count": 65,
      "outputs": [
        {
          "output_type": "stream",
          "name": "stdout",
          "text": [
            "2\n",
            "True\n"
          ]
        }
      ]
    },
    {
      "cell_type": "code",
      "source": [
        "# to add items to tuple, change first to list then modify\n",
        "y = list(tup3)\n",
        "y.append('orange')\n",
        "tup3 = tuple(y)\n",
        "print(tup3)\n",
        "print(y)"
      ],
      "metadata": {
        "colab": {
          "base_uri": "https://localhost:8080/"
        },
        "id": "iwKqCg_NKv4K",
        "outputId": "b91b7cfe-ce46-4e12-cacb-adec3d9ba985"
      },
      "execution_count": 67,
      "outputs": [
        {
          "output_type": "stream",
          "name": "stdout",
          "text": [
            "('a', 2, True, 'orange', 'orange')\n",
            "['a', 2, True, 'orange', 'orange']\n"
          ]
        }
      ]
    },
    {
      "cell_type": "code",
      "source": [
        "for x in tup3:\n",
        "  print(x)"
      ],
      "metadata": {
        "colab": {
          "base_uri": "https://localhost:8080/"
        },
        "id": "j_qWp7GZLJaO",
        "outputId": "557b970a-6cfd-4879-c3f2-1020e0e40e7e"
      },
      "execution_count": 68,
      "outputs": [
        {
          "output_type": "stream",
          "name": "stdout",
          "text": [
            "a\n",
            "2\n",
            "True\n",
            "orange\n",
            "orange\n"
          ]
        }
      ]
    },
    {
      "cell_type": "code",
      "source": [
        "for i in range(len(tup3)):\n",
        "  print(tup3[i])"
      ],
      "metadata": {
        "colab": {
          "base_uri": "https://localhost:8080/"
        },
        "id": "uVHFY6SALOn7",
        "outputId": "bd0b5b76-d80a-4582-9cae-ead7a843c3be"
      },
      "execution_count": 69,
      "outputs": [
        {
          "output_type": "stream",
          "name": "stdout",
          "text": [
            "a\n",
            "2\n",
            "True\n",
            "orange\n",
            "orange\n"
          ]
        }
      ]
    },
    {
      "cell_type": "code",
      "source": [
        "# you can concatinate two tuples\n",
        "a = (1,3)\n",
        "b = ('a',)\n",
        "print(a+b)"
      ],
      "metadata": {
        "colab": {
          "base_uri": "https://localhost:8080/"
        },
        "id": "MJp2bDIuLXXy",
        "outputId": "1620cce8-b1e8-4d4c-8426-f9287a627f59"
      },
      "execution_count": 71,
      "outputs": [
        {
          "output_type": "stream",
          "name": "stdout",
          "text": [
            "(1, 3, 'a')\n"
          ]
        }
      ]
    },
    {
      "cell_type": "code",
      "source": [
        "# unpacking tuple\n",
        "tup = (5,6,7)\n",
        "a,b,c=tup\n",
        "print(c)"
      ],
      "metadata": {
        "colab": {
          "base_uri": "https://localhost:8080/"
        },
        "id": "rD6CWpC3LlIG",
        "outputId": "c341cb53-7e2a-44f2-efab-0e271e5ded2f"
      },
      "execution_count": 72,
      "outputs": [
        {
          "output_type": "stream",
          "name": "stdout",
          "text": [
            "7\n"
          ]
        }
      ]
    },
    {
      "cell_type": "code",
      "source": [
        "# swaping in tuples\n",
        "a,b = 1,3\n",
        "b,a = a,b\n",
        "print(a)\n",
        "print(b)"
      ],
      "metadata": {
        "colab": {
          "base_uri": "https://localhost:8080/"
        },
        "id": "ow1xZlIOLu3O",
        "outputId": "f555893b-25ad-4c49-e0ef-a4761222654c"
      },
      "execution_count": 73,
      "outputs": [
        {
          "output_type": "stream",
          "name": "stdout",
          "text": [
            "3\n",
            "1\n"
          ]
        }
      ]
    },
    {
      "cell_type": "code",
      "source": [
        "# capture arbitrary long list of positional arguments\n",
        "values = 1,1,3,4,5\n",
        "a,b, *rest = values\n",
        "print(a)\n",
        "print(b)\n",
        "print(rest)"
      ],
      "metadata": {
        "colab": {
          "base_uri": "https://localhost:8080/"
        },
        "id": "ORQVXc4PL7rF",
        "outputId": "7348e06f-c824-44a3-8bf4-5cc5f5f18418"
      },
      "execution_count": 78,
      "outputs": [
        {
          "output_type": "stream",
          "name": "stdout",
          "text": [
            "1\n",
            "1\n",
            "[3, 4, 5]\n"
          ]
        }
      ]
    },
    {
      "cell_type": "code",
      "source": [
        "# using underscore _\n",
        "a,b, *_ = values\n",
        "print(rest)"
      ],
      "metadata": {
        "colab": {
          "base_uri": "https://localhost:8080/"
        },
        "id": "T20MqPRbMQRc",
        "outputId": "2a94d921-565e-46a1-9e92-29832ede8bad"
      },
      "execution_count": 79,
      "outputs": [
        {
          "output_type": "stream",
          "name": "stdout",
          "text": [
            "[3, 4, 5]\n"
          ]
        }
      ]
    },
    {
      "cell_type": "code",
      "source": [
        "# tuple methods (count())\n",
        "values.count(1)"
      ],
      "metadata": {
        "colab": {
          "base_uri": "https://localhost:8080/"
        },
        "id": "q_NIsc0_MXVI",
        "outputId": "6ee657df-13ea-49b4-d8e1-e91752eb8171"
      },
      "execution_count": 80,
      "outputs": [
        {
          "output_type": "execute_result",
          "data": {
            "text/plain": [
              "2"
            ]
          },
          "metadata": {},
          "execution_count": 80
        }
      ]
    },
    {
      "cell_type": "markdown",
      "source": [
        "Sets, UNordered and UNindexed, UNchangeable, do not allow duplicates written in curly brackets\n",
        "- Unordered means items in set don't have defined order, cannot be refered by index.\n",
        "- Unchangeable means we cannot change items after set is created\n",
        "- you cannot access items in set by referring to an index or key, but you can loop through items and ask if specified value is in set using in key word\n",
        "- sets support mathematical set operations like union, intersection, difference and symmetric difference\n",
        "- symmetric_difference()=> set of elements in either a or b but not in both"
      ],
      "metadata": {
        "id": "DZWYWsAiMuqR"
      }
    },
    {
      "cell_type": "code",
      "source": [
        "set1 = {'a','b','c'}\n",
        "print(set1)"
      ],
      "metadata": {
        "colab": {
          "base_uri": "https://localhost:8080/"
        },
        "id": "hvGZwRvqM6XW",
        "outputId": "435899c8-50cf-4bd7-d9de-6cde2760197d"
      },
      "execution_count": 81,
      "outputs": [
        {
          "output_type": "stream",
          "name": "stdout",
          "text": [
            "{'c', 'b', 'a'}\n"
          ]
        }
      ]
    },
    {
      "cell_type": "code",
      "source": [
        "# loop through set\n",
        "for x in  set1:\n",
        "  print(x)"
      ],
      "metadata": {
        "colab": {
          "base_uri": "https://localhost:8080/"
        },
        "id": "hTlgDbMBNDqi",
        "outputId": "aabb86e0-ac72-480d-d2e9-046d22050075"
      },
      "execution_count": 82,
      "outputs": [
        {
          "output_type": "stream",
          "name": "stdout",
          "text": [
            "c\n",
            "b\n",
            "a\n"
          ]
        }
      ]
    },
    {
      "cell_type": "code",
      "source": [
        "# add item to set using add()\n",
        "set1.add('orange')\n",
        "print(set1)"
      ],
      "metadata": {
        "colab": {
          "base_uri": "https://localhost:8080/"
        },
        "id": "TTyRQTrFN1wf",
        "outputId": "0d4eec4c-5470-466f-cb10-66a3f03af339"
      },
      "execution_count": 83,
      "outputs": [
        {
          "output_type": "stream",
          "name": "stdout",
          "text": [
            "{'c', 'b', 'orange', 'a'}\n"
          ]
        }
      ]
    },
    {
      "cell_type": "code",
      "source": [
        "# remove item in set using remove()\n",
        "set1.remove('c')\n",
        "print(set1)"
      ],
      "metadata": {
        "colab": {
          "base_uri": "https://localhost:8080/"
        },
        "id": "l2PTEYLXN-gp",
        "outputId": "cb12f1bb-7555-4f3f-97ad-e5b0afecef4f"
      },
      "execution_count": 84,
      "outputs": [
        {
          "output_type": "stream",
          "name": "stdout",
          "text": [
            "{'b', 'orange', 'a'}\n"
          ]
        }
      ]
    },
    {
      "cell_type": "code",
      "source": [
        "# join two sets using either union() or update() with inserts all items from one set into another\n",
        "set2 = {'d','e','f'}\n",
        "set3 = set1.union(set2)\n",
        "print(set3)\n",
        "set1.update(set3)\n",
        "print(set1)"
      ],
      "metadata": {
        "colab": {
          "base_uri": "https://localhost:8080/"
        },
        "id": "ueHAuPFKOJXo",
        "outputId": "fbb75e3d-7ecf-465c-a064-18b7935343ba"
      },
      "execution_count": 86,
      "outputs": [
        {
          "output_type": "stream",
          "name": "stdout",
          "text": [
            "{'orange', 'e', 'f', 'b', 'a', 'd'}\n",
            "{'e', 'f', 'b', 'a', 'orange', 'd'}\n"
          ]
        }
      ]
    },
    {
      "cell_type": "code",
      "source": [
        "print(set([1,3,5]))"
      ],
      "metadata": {
        "colab": {
          "base_uri": "https://localhost:8080/"
        },
        "id": "sNrjkSvzOj-q",
        "outputId": "c7c9856a-08cf-4f1a-cfeb-caae07f1dc0c"
      },
      "execution_count": 87,
      "outputs": [
        {
          "output_type": "stream",
          "name": "stdout",
          "text": [
            "{1, 3, 5}\n"
          ]
        }
      ]
    },
    {
      "cell_type": "code",
      "source": [
        "set1.symmetric_difference(set2)"
      ],
      "metadata": {
        "colab": {
          "base_uri": "https://localhost:8080/"
        },
        "id": "GS7ZAzxhOrbx",
        "outputId": "21e83374-016f-40ec-cabc-04140664f461"
      },
      "execution_count": 90,
      "outputs": [
        {
          "output_type": "execute_result",
          "data": {
            "text/plain": [
              "{'a', 'b', 'orange'}"
            ]
          },
          "metadata": {},
          "execution_count": 90
        }
      ]
    },
    {
      "cell_type": "markdown",
      "source": [
        "### Dictionaries, Key:Value pairs storage, Ordered, Chanageble, Doesn't allow Duplicates\n",
        "- ordered means items are defined with certain order(you can index)\n",
        "- changeable means we can change, add, remove items after dict has been created\n",
        "- duplicates are not allowed means no two items with same key."
      ],
      "metadata": {
        "id": "BOZ0793vPgFR"
      }
    },
    {
      "cell_type": "code",
      "source": [
        "# create and print dictionary\n",
        "dict1 = {'brand':'ford',\n",
        "         'model':'MMM',\n",
        "         'year':1010}\n",
        "print(dict1)\n",
        "print(dict1['brand'])"
      ],
      "metadata": {
        "colab": {
          "base_uri": "https://localhost:8080/"
        },
        "id": "DwHwA7VsPd5P",
        "outputId": "768a456a-7fbd-4bb7-dde2-aad33535aac8"
      },
      "execution_count": 92,
      "outputs": [
        {
          "output_type": "stream",
          "name": "stdout",
          "text": [
            "{'brand': 'ford', 'model': 'MMM', 'year': 1010}\n",
            "ford\n"
          ]
        }
      ]
    },
    {
      "cell_type": "code",
      "source": [
        "# get value of model key\n",
        "x = dict1['model']\n",
        "print(x)"
      ],
      "metadata": {
        "colab": {
          "base_uri": "https://localhost:8080/"
        },
        "id": "UfL07a0CQ00f",
        "outputId": "d924fb8c-337c-4260-a5d0-0566d4998511"
      },
      "execution_count": 94,
      "outputs": [
        {
          "output_type": "stream",
          "name": "stdout",
          "text": [
            "MMM\n"
          ]
        }
      ]
    },
    {
      "cell_type": "code",
      "source": [
        "# change year to 2018\n",
        "dict1['year'] = 2018\n",
        "print(dict1['year'])"
      ],
      "metadata": {
        "colab": {
          "base_uri": "https://localhost:8080/"
        },
        "id": "7tE0982xQ-yW",
        "outputId": "98b0d93d-377a-4c42-f77c-6a0143e17321"
      },
      "execution_count": 95,
      "outputs": [
        {
          "output_type": "stream",
          "name": "stdout",
          "text": [
            "2018\n"
          ]
        }
      ]
    },
    {
      "cell_type": "code",
      "source": [
        "# update year using update\n",
        "dict1.update({'year':2023})\n",
        "print(dict1)"
      ],
      "metadata": {
        "colab": {
          "base_uri": "https://localhost:8080/"
        },
        "id": "x1HvP97DRIy-",
        "outputId": "b7fa410a-98e7-4a2a-c681-d5c9517fea52"
      },
      "execution_count": 96,
      "outputs": [
        {
          "output_type": "stream",
          "name": "stdout",
          "text": [
            "{'brand': 'ford', 'model': 'MMM', 'year': 2023}\n"
          ]
        }
      ]
    },
    {
      "cell_type": "code",
      "source": [
        "# add items using index\n",
        "dict1['color'] = 'red'\n",
        "print(dict1)"
      ],
      "metadata": {
        "colab": {
          "base_uri": "https://localhost:8080/"
        },
        "id": "23vPmZDBRSLl",
        "outputId": "8af07f4d-5497-4b47-e1c3-b9649b899915"
      },
      "execution_count": 97,
      "outputs": [
        {
          "output_type": "stream",
          "name": "stdout",
          "text": [
            "{'brand': 'ford', 'model': 'MMM', 'year': 2023, 'color': 'red'}\n"
          ]
        }
      ]
    },
    {
      "cell_type": "code",
      "source": [
        "# use pop() to remove item with specified key name\n",
        "dict1.pop(\"brand\")\n",
        "print(dict1)"
      ],
      "metadata": {
        "colab": {
          "base_uri": "https://localhost:8080/"
        },
        "id": "OIGz3hs9RiE6",
        "outputId": "b8d60b0f-3914-4fbb-99a7-d0e826a10a72"
      },
      "execution_count": 102,
      "outputs": [
        {
          "output_type": "stream",
          "name": "stdout",
          "text": [
            "{'year': 2023, 'color': 'red'}\n"
          ]
        }
      ]
    },
    {
      "cell_type": "code",
      "source": [
        "# print all key names in dict1\n",
        "for x in dict1:\n",
        "  print(x)"
      ],
      "metadata": {
        "colab": {
          "base_uri": "https://localhost:8080/"
        },
        "id": "OgliccGySAFz",
        "outputId": "f2f390ea-7e3e-441f-94c0-25627b1510af"
      },
      "execution_count": 103,
      "outputs": [
        {
          "output_type": "stream",
          "name": "stdout",
          "text": [
            "year\n",
            "color\n"
          ]
        }
      ]
    },
    {
      "cell_type": "code",
      "source": [
        "# print all values of dictionaries\n",
        "for x in dict1:\n",
        "  print(dict1[x])"
      ],
      "metadata": {
        "colab": {
          "base_uri": "https://localhost:8080/"
        },
        "id": "ICCR8kkGSGpX",
        "outputId": "09de9571-e7ac-4747-fbbe-56f58c1a1c2e"
      },
      "execution_count": 104,
      "outputs": [
        {
          "output_type": "stream",
          "name": "stdout",
          "text": [
            "2023\n",
            "red\n"
          ]
        }
      ]
    },
    {
      "cell_type": "markdown",
      "source": [
        "# Enumerate\n",
        "- to keep count of iterations"
      ],
      "metadata": {
        "id": "LkTaqwQBSXkV"
      }
    },
    {
      "cell_type": "code",
      "source": [
        "# illustrate enumerate\n",
        "l = ['eat','sleep','repeat']\n",
        "for ele in enumerate(l):\n",
        "  print(ele)\n",
        "# change index and print separately\n",
        "for count, ele in enumerate(l,200):\n",
        "  print(count,ele)\n",
        "# get desired output from tuple\n",
        "for count, ele in enumerate(l):\n",
        "  print(count)\n",
        "  print(ele)"
      ],
      "metadata": {
        "colab": {
          "base_uri": "https://localhost:8080/"
        },
        "id": "n6z2Gl4zSh2y",
        "outputId": "60cd70cc-465e-4fc1-ce48-68f21ee08ce9"
      },
      "execution_count": 108,
      "outputs": [
        {
          "output_type": "stream",
          "name": "stdout",
          "text": [
            "(0, 'eat')\n",
            "(1, 'sleep')\n",
            "(2, 'repeat')\n",
            "200 eat\n",
            "201 sleep\n",
            "202 repeat\n",
            "0\n",
            "eat\n",
            "1\n",
            "sleep\n",
            "2\n",
            "repeat\n"
          ]
        }
      ]
    },
    {
      "cell_type": "markdown",
      "source": [
        "# Zip\n",
        "- zip method takes iterable such as list, tuple, string or containers such as list, tuple, set, dictionary and returns single iterator object, having mapped values from all containers.\n",
        "- it is used to map similar index of multiple containers so that they can be used just using singl entity\n"
      ],
      "metadata": {
        "id": "TMTYHb-MTT0H"
      }
    },
    {
      "cell_type": "code",
      "source": [
        "# demonstrate zip\n",
        "players = ['mmm','nnn','sss','kkk']\n",
        "scores = [100, 333, 000, 888]\n",
        "# print players and their scores\n",
        "for p1, sc in zip(players, scores):\n",
        "  print(\"player: %s scores: %d \" % (p1, sc))"
      ],
      "metadata": {
        "colab": {
          "base_uri": "https://localhost:8080/"
        },
        "id": "7KAt9hCsTTK8",
        "outputId": "e330dba2-87aa-4a06-b15b-7a7df2b37cc2"
      },
      "execution_count": 109,
      "outputs": [
        {
          "output_type": "stream",
          "name": "stdout",
          "text": [
            "player: mmm scores: 100 \n",
            "player: nnn scores: 333 \n",
            "player: sss scores: 0 \n",
            "player: kkk scores: 888 \n"
          ]
        }
      ]
    },
    {
      "cell_type": "markdown",
      "source": [
        "# Functions\n",
        "- position argument: assigend to parameteres based in their position\n",
        "- key-word argument: specified parameter name\n",
        "- default argument: can be optionally provided\n"
      ],
      "metadata": {
        "id": "XiAbO5MeUR8w"
      }
    },
    {
      "cell_type": "code",
      "source": [
        "# local scope and local variables\n",
        "def func1():\n",
        "  n = 10\n",
        "  print('n in func1',n)\n",
        "def func2():\n",
        "  n = 20\n",
        "  print('n in func2 before call to func1 = ', n)\n",
        "  func1()\n",
        "  print('n in func2 after call to func1 = ',n)\n",
        "\n",
        "func2()"
      ],
      "metadata": {
        "colab": {
          "base_uri": "https://localhost:8080/"
        },
        "id": "2XG9RkbCUxoF",
        "outputId": "0f295bac-3638-4259-a54a-5e79c210a6ba"
      },
      "execution_count": 111,
      "outputs": [
        {
          "output_type": "stream",
          "name": "stdout",
          "text": [
            "n in func2 before call to func1 =  20\n",
            "n in func1 10\n",
            "n in func2 after call to func1 =  20\n"
          ]
        }
      ]
    },
    {
      "cell_type": "code",
      "source": [
        "def func1():\n",
        "  # n = 10\n",
        "  print('n in func1',n)\n",
        "def func2():\n",
        "  n = 20\n",
        "  print('n in func2 before call to func1 = ', n)\n",
        "  func1()\n",
        "  print('n in func2 after call to func1 = ',n)\n",
        "\n",
        "func2()"
      ],
      "metadata": {
        "colab": {
          "base_uri": "https://localhost:8080/",
          "height": 374
        },
        "id": "mewlUQ-IVc6k",
        "outputId": "af840d00-a6e5-43af-bbd8-a518e4fde345"
      },
      "execution_count": 112,
      "outputs": [
        {
          "output_type": "stream",
          "name": "stdout",
          "text": [
            "n in func2 before call to func1 =  20\n"
          ]
        },
        {
          "output_type": "error",
          "ename": "NameError",
          "evalue": "ignored",
          "traceback": [
            "\u001b[0;31m---------------------------------------------------------------------------\u001b[0m",
            "\u001b[0;31mNameError\u001b[0m                                 Traceback (most recent call last)",
            "\u001b[0;32m<ipython-input-112-f573c94197b2>\u001b[0m in \u001b[0;36m<cell line: 10>\u001b[0;34m()\u001b[0m\n\u001b[1;32m      8\u001b[0m   \u001b[0mprint\u001b[0m\u001b[0;34m(\u001b[0m\u001b[0;34m'n in func2 after call to func1 = '\u001b[0m\u001b[0;34m,\u001b[0m\u001b[0mn\u001b[0m\u001b[0;34m)\u001b[0m\u001b[0;34m\u001b[0m\u001b[0;34m\u001b[0m\u001b[0m\n\u001b[1;32m      9\u001b[0m \u001b[0;34m\u001b[0m\u001b[0m\n\u001b[0;32m---> 10\u001b[0;31m \u001b[0mfunc2\u001b[0m\u001b[0;34m(\u001b[0m\u001b[0;34m)\u001b[0m\u001b[0;34m\u001b[0m\u001b[0;34m\u001b[0m\u001b[0m\n\u001b[0m",
            "\u001b[0;32m<ipython-input-112-f573c94197b2>\u001b[0m in \u001b[0;36mfunc2\u001b[0;34m()\u001b[0m\n\u001b[1;32m      5\u001b[0m   \u001b[0mn\u001b[0m \u001b[0;34m=\u001b[0m \u001b[0;36m20\u001b[0m\u001b[0;34m\u001b[0m\u001b[0;34m\u001b[0m\u001b[0m\n\u001b[1;32m      6\u001b[0m   \u001b[0mprint\u001b[0m\u001b[0;34m(\u001b[0m\u001b[0;34m'n in func2 before call to func1 = '\u001b[0m\u001b[0;34m,\u001b[0m \u001b[0mn\u001b[0m\u001b[0;34m)\u001b[0m\u001b[0;34m\u001b[0m\u001b[0;34m\u001b[0m\u001b[0m\n\u001b[0;32m----> 7\u001b[0;31m   \u001b[0mfunc1\u001b[0m\u001b[0;34m(\u001b[0m\u001b[0;34m)\u001b[0m\u001b[0;34m\u001b[0m\u001b[0;34m\u001b[0m\u001b[0m\n\u001b[0m\u001b[1;32m      8\u001b[0m   \u001b[0mprint\u001b[0m\u001b[0;34m(\u001b[0m\u001b[0;34m'n in func2 after call to func1 = '\u001b[0m\u001b[0;34m,\u001b[0m\u001b[0mn\u001b[0m\u001b[0;34m)\u001b[0m\u001b[0;34m\u001b[0m\u001b[0;34m\u001b[0m\u001b[0m\n\u001b[1;32m      9\u001b[0m \u001b[0;34m\u001b[0m\u001b[0m\n",
            "\u001b[0;32m<ipython-input-112-f573c94197b2>\u001b[0m in \u001b[0;36mfunc1\u001b[0;34m()\u001b[0m\n\u001b[1;32m      1\u001b[0m \u001b[0;32mdef\u001b[0m \u001b[0mfunc1\u001b[0m\u001b[0;34m(\u001b[0m\u001b[0;34m)\u001b[0m\u001b[0;34m:\u001b[0m\u001b[0;34m\u001b[0m\u001b[0;34m\u001b[0m\u001b[0m\n\u001b[1;32m      2\u001b[0m   \u001b[0;31m# n = 10\u001b[0m\u001b[0;34m\u001b[0m\u001b[0;34m\u001b[0m\u001b[0m\n\u001b[0;32m----> 3\u001b[0;31m   \u001b[0mprint\u001b[0m\u001b[0;34m(\u001b[0m\u001b[0;34m'n in func1'\u001b[0m\u001b[0;34m,\u001b[0m\u001b[0mn\u001b[0m\u001b[0;34m)\u001b[0m\u001b[0;34m\u001b[0m\u001b[0;34m\u001b[0m\u001b[0m\n\u001b[0m\u001b[1;32m      4\u001b[0m \u001b[0;32mdef\u001b[0m \u001b[0mfunc2\u001b[0m\u001b[0;34m(\u001b[0m\u001b[0;34m)\u001b[0m\u001b[0;34m:\u001b[0m\u001b[0;34m\u001b[0m\u001b[0;34m\u001b[0m\u001b[0m\n\u001b[1;32m      5\u001b[0m   \u001b[0mn\u001b[0m \u001b[0;34m=\u001b[0m \u001b[0;36m20\u001b[0m\u001b[0;34m\u001b[0m\u001b[0;34m\u001b[0m\u001b[0m\n",
            "\u001b[0;31mNameError\u001b[0m: name 'n' is not defined"
          ]
        }
      ]
    },
    {
      "cell_type": "code",
      "source": [
        "# global scope and global variables\n",
        "max = 100\n",
        "def fun1(count):\n",
        "  if count<max:\n",
        "    print('hi')\n",
        "\n",
        "\n",
        "x = fun1(99)\n",
        "print(x)\n"
      ],
      "metadata": {
        "colab": {
          "base_uri": "https://localhost:8080/"
        },
        "id": "BSBX7k13Vm7h",
        "outputId": "63672ea9-0f54-42cb-84e9-141b6dccc731"
      },
      "execution_count": 117,
      "outputs": [
        {
          "output_type": "stream",
          "name": "stdout",
          "text": [
            "hi\n",
            "None\n"
          ]
        }
      ]
    },
    {
      "cell_type": "code",
      "source": [],
      "metadata": {
        "id": "q6fM-RX-WJHU"
      },
      "execution_count": null,
      "outputs": []
    },
    {
      "cell_type": "markdown",
      "source": [
        "### Lambda Functions\n",
        "- anonymous functions, function without a name\n",
        "- lambda function is defined using *lambda* keyword instead of *def*\n",
        "- Form: lambda argument1, argument2 ... argumentN: expression using arguments\n",
        "-"
      ],
      "metadata": {
        "id": "L5iqXjDEWLZm"
      }
    },
    {
      "cell_type": "code",
      "source": [
        "add_one = lambda x: x+1\n",
        "add_one(2)\n",
        "# equavelant to this\n",
        "def add_one(x):\n",
        "  return x+1\n",
        "add_one(5)"
      ],
      "metadata": {
        "colab": {
          "base_uri": "https://localhost:8080/"
        },
        "id": "rkT3FJb4WpjN",
        "outputId": "db80dc96-aa2b-4a1a-c471-bd1346559108"
      },
      "execution_count": 121,
      "outputs": [
        {
          "output_type": "execute_result",
          "data": {
            "text/plain": [
              "6"
            ]
          },
          "metadata": {},
          "execution_count": 121
        }
      ]
    },
    {
      "cell_type": "code",
      "source": [
        "# use lambda without adding a variable name\n",
        "print((lambda x, y : x+y)(2,3))\n",
        "(lambda x: x+3)(3)"
      ],
      "metadata": {
        "colab": {
          "base_uri": "https://localhost:8080/"
        },
        "id": "FRtLuna6WvuC",
        "outputId": "f4f166f1-1b52-4948-cc78-5830aaa6db82"
      },
      "execution_count": 124,
      "outputs": [
        {
          "output_type": "stream",
          "name": "stdout",
          "text": [
            "5\n"
          ]
        },
        {
          "output_type": "execute_result",
          "data": {
            "text/plain": [
              "6"
            ]
          },
          "metadata": {},
          "execution_count": 124
        }
      ]
    },
    {
      "cell_type": "code",
      "source": [
        "lower = (lambda s,m: s if s<m else m)\n",
        "lower('bb','aa')\n",
        "lower('aa','b')"
      ],
      "metadata": {
        "colab": {
          "base_uri": "https://localhost:8080/",
          "height": 35
        },
        "id": "RZhFoO3dXT7u",
        "outputId": "1067ac34-fc9d-4bb7-b7c5-01fd7c2133da"
      },
      "execution_count": 127,
      "outputs": [
        {
          "output_type": "execute_result",
          "data": {
            "text/plain": [
              "'aa'"
            ],
            "application/vnd.google.colaboratory.intrinsic+json": {
              "type": "string"
            }
          },
          "metadata": {},
          "execution_count": 127
        }
      ]
    },
    {
      "cell_type": "markdown",
      "source": [
        "### Filter Function\n",
        "- to pick some particular elements from sequence of elements\n",
        "- elements that can be selected are predicted on some pre-defined constraint, takes two parameters"
      ],
      "metadata": {
        "id": "ocNfxleOXmpf"
      }
    },
    {
      "cell_type": "code",
      "source": [
        "sequence = [1,3,3,5, 10]\n",
        "filtered_answer = filter(lambda x: x>6, sequence)\n",
        "print(list(filtered_answer))\n",
        "print(filtered_answer)"
      ],
      "metadata": {
        "colab": {
          "base_uri": "https://localhost:8080/"
        },
        "id": "9mevZtrLXmCq",
        "outputId": "76314193-500b-4251-f5a9-4aa7ae53aef3"
      },
      "execution_count": 129,
      "outputs": [
        {
          "output_type": "stream",
          "name": "stdout",
          "text": [
            "[10]\n",
            "<filter object at 0x7e018e788df0>\n"
          ]
        }
      ]
    },
    {
      "cell_type": "markdown",
      "source": [
        "### Map Function\n",
        "- to use a specific operation for each element in a sequence\n",
        "- it takes two parameteres"
      ],
      "metadata": {
        "id": "FnGaksJLYLGH"
      }
    },
    {
      "cell_type": "code",
      "source": [
        "sequence = [1,3,3,5, 20]\n",
        "sequared_result = map(lambda x: x*x, sequence)\n",
        "print(list(sequared_result))\n",
        "print(sequared_result)"
      ],
      "metadata": {
        "colab": {
          "base_uri": "https://localhost:8080/"
        },
        "id": "YbiJ01JdYKna",
        "outputId": "31359332-14bc-4802-9d83-289ccd02db77"
      },
      "execution_count": 132,
      "outputs": [
        {
          "output_type": "stream",
          "name": "stdout",
          "text": [
            "[1, 9, 9, 25, 400]\n",
            "<map object at 0x7e018e6b3700>\n"
          ]
        }
      ]
    },
    {
      "cell_type": "code",
      "source": [
        "# lambda with map:\n",
        "animals = ['dog', 'cat','parrot','rabbit','horse']\n",
        "upper_case = list(map(lambda animal: animal.upper(), animals))\n",
        "print(upper_case)\n",
        "# -------------------------------\n",
        "nums = [29,66,44,2,3]\n",
        "nums = list(map(lambda x: x%5,nums))\n",
        "print(nums)"
      ],
      "metadata": {
        "colab": {
          "base_uri": "https://localhost:8080/"
        },
        "id": "IZHaDyxwYmG3",
        "outputId": "a43045f7-92fa-4414-8bf5-30164aa32f94"
      },
      "execution_count": 134,
      "outputs": [
        {
          "output_type": "stream",
          "name": "stdout",
          "text": [
            "['DOG', 'CAT', 'PARROT', 'RABBIT', 'HORSE']\n",
            "[4, 1, 4, 2, 3]\n"
          ]
        }
      ]
    },
    {
      "cell_type": "markdown",
      "source": [
        "# Comprehensions\n",
        "- provide short and consise way to construct new sequence, using a sequence that have been already defined\n",
        "- python supports 4 types of comprehensions\n",
        "  1- list\n",
        "  2- dictionary\n",
        "  3- set\n",
        "  4- generator"
      ],
      "metadata": {
        "id": "ezVikr8eZnib"
      }
    },
    {
      "cell_type": "code",
      "source": [
        "# output list using comprehensions\n",
        "comp_list = [var**2 for var in range(1,10)]\n",
        "print(comp_list)\n",
        "\n",
        "#----------------------------------\n",
        "numbers = [3,5,6]\n",
        "squares = [number **2 for number in numbers]\n",
        "print(squares)"
      ],
      "metadata": {
        "colab": {
          "base_uri": "https://localhost:8080/"
        },
        "id": "DNkaX0A3Z_K_",
        "outputId": "0d250368-3843-4cbb-be3f-6d591d4cfd09"
      },
      "execution_count": 136,
      "outputs": [
        {
          "output_type": "stream",
          "name": "stdout",
          "text": [
            "[1, 4, 9, 16, 25, 36, 49, 64, 81]\n",
            "[9, 25, 36]\n"
          ]
        }
      ]
    },
    {
      "cell_type": "code",
      "source": [
        "input_list = [1,3,4,5,6, 7,7]\n",
        "compre_list = [var for var in input_list if var%2 ==0]\n",
        "print(compre_list)"
      ],
      "metadata": {
        "colab": {
          "base_uri": "https://localhost:8080/"
        },
        "id": "Qtkza-4RaZPv",
        "outputId": "aa68d3d0-801f-443a-c4ba-6f497e17fc02"
      },
      "execution_count": 137,
      "outputs": [
        {
          "output_type": "stream",
          "name": "stdout",
          "text": [
            "[4, 6]\n"
          ]
        }
      ]
    },
    {
      "cell_type": "code",
      "source": [
        "state = ['mmm','llllll','ddddddd']\n",
        "capital=['wwwwww','eeeeeeee','rrrrrrr']\n",
        "compre_dict = {key:value for (key,value)in zip(state,capital)}\n",
        "print(compre_dict)"
      ],
      "metadata": {
        "colab": {
          "base_uri": "https://localhost:8080/"
        },
        "id": "FBC9PGg1atl0",
        "outputId": "9473dfef-bf1c-4b6b-c505-f17ed9724c71"
      },
      "execution_count": 138,
      "outputs": [
        {
          "output_type": "stream",
          "name": "stdout",
          "text": [
            "{'mmm': 'wwwwww', 'llllll': 'eeeeeeee', 'ddddddd': 'rrrrrrr'}\n"
          ]
        }
      ]
    },
    {
      "cell_type": "markdown",
      "source": [
        "# Modules, Packages, Libraries and Frameworks\n",
        "- *Module*: bunch of related code saved in a file with extension .py, it has functions, classes or variables.\n",
        "- *package*: directory of a collection of modules. Allows hierarchical structure. (must contian __init__.py for python to consider it as package)\n",
        "- *library*: collection of modules and packages.\n",
        "- *framework*: collection of modules and packages that help programmers to fast track the development process. More complex than libraries.\n"
      ],
      "metadata": {
        "id": "67wcNlEbbMWL"
      }
    },
    {
      "cell_type": "code",
      "source": [
        "# import Game.Level.start\n",
        "# must use full name to reference a function like Game.Level.start.select_difficulty(2)\n",
        "# or from Game.Level import start then call function as start.select_difficulty(2)\n",
        "# or from Game.Level.start import select_difficulty"
      ],
      "metadata": {
        "id": "mRboCAmlbErw"
      },
      "execution_count": null,
      "outputs": []
    },
    {
      "cell_type": "markdown",
      "source": [
        "# OOP for Python\n",
        "- class has:\n",
        "  - class definition\n",
        "  - constructor function\n",
        "  - destructor function\n",
        "  - attributes and methods definition\n",
        "  - object definition\n",
        "- the `__init__` method run as soon as object of class is instantiated, its aim is to initialize the object.\n",
        "- the `self` parameter is a reference to the current instance of the class, it is used to access variables that belongs to the class.  (you can name it whatever you want, it does not have to be self, but it has to be the first parameter of any function)\n",
        "  - it is like pointer *this* in C++.\n",
        "  - works as a variable of function but won't access data.\n",
        "- Inheritance: subclass can invoke attributes and methods in superclass.\n",
        "- in python, no keywords like `public`, `protected` and `private` to define accessibility. this means that all attributes are public\n",
        "- there is a method in python to define private by adding `__` in front of the variable, and function name, can hide them when accessing them from out of class\n",
        "- attributes created in`__init__()` are called *instance attributes*. which value is specific to a particular instance of the class.\n",
        "- *class attributes* are attributes that have same value for all class instance.\n",
        "  - class attributes must always be assigned an initial value. when instance of class is created, class attributes are automatically created and assigned to their initial values."
      ],
      "metadata": {
        "id": "u3UGRk07oCyM"
      }
    },
    {
      "cell_type": "code",
      "source": [
        "class Person:\n",
        "    def __init__(self,name):#constructor\n",
        "      self.name = name\n",
        "    def SayHi(self):\n",
        "      print(\"hiii :) \", self.name)\n",
        "    def __del__(self): # destructor\n",
        "      print('%s sayes byeee' % self.name)\n",
        "\n",
        "a = Person('AI')\n",
        "a.SayHi()\n",
        "del(a)"
      ],
      "metadata": {
        "colab": {
          "base_uri": "https://localhost:8080/"
        },
        "id": "3eiEQi2loTAE",
        "outputId": "49c1604f-fa44-40e6-fe22-0f6cb80d449b"
      },
      "execution_count": 139,
      "outputs": [
        {
          "output_type": "stream",
          "name": "stdout",
          "text": [
            "hiii :)  AI\n",
            "AI sayes byeee\n"
          ]
        }
      ]
    },
    {
      "cell_type": "code",
      "source": [
        "# class definition syntax;\n",
        "class Developer(Person):\n",
        "  pass\n",
        "# object instantiation syntax:\n",
        "object.class()\n",
        "# Attributes and methods invoke:\n",
        "object.attribute\n",
        "object.method()"
      ],
      "metadata": {
        "id": "7iNvvq8So-8Z"
      },
      "execution_count": null,
      "outputs": []
    },
    {
      "cell_type": "code",
      "source": [
        "class Person:\n",
        "    def __init__(self,name):\n",
        "      self.name= name\n",
        "      print(self.name)\n",
        "\n",
        "per = Person(\"Khawlah\")\n",
        "print(per.name)"
      ],
      "metadata": {
        "colab": {
          "base_uri": "https://localhost:8080/"
        },
        "id": "1xI8Fg-vpcYi",
        "outputId": "e0f82d98-b54d-4fa9-d366-1651381b459b"
      },
      "execution_count": 140,
      "outputs": [
        {
          "output_type": "stream",
          "name": "stdout",
          "text": [
            "Khawlah\n",
            "Khawlah\n"
          ]
        }
      ]
    },
    {
      "cell_type": "code",
      "source": [
        "# insert function that prints greeting\n",
        "class Person:\n",
        "  def __init__(self,name,age):\n",
        "    self.name = name\n",
        "    self.age = age\n",
        "  def myfunc(self):\n",
        "    print('hello my name is ' + self.name)\n",
        "\n",
        "p1 = Person('khawlah',45)\n",
        "p1.myfunc()"
      ],
      "metadata": {
        "colab": {
          "base_uri": "https://localhost:8080/"
        },
        "id": "vG5nvN9Vp5dv",
        "outputId": "a9f11dc0-0b14-4ec1-f011-076b20a25624"
      },
      "execution_count": 141,
      "outputs": [
        {
          "output_type": "stream",
          "name": "stdout",
          "text": [
            "hello my name is khawlah\n"
          ]
        }
      ]
    },
    {
      "cell_type": "code",
      "source": [
        "# inheretance example\n",
        "class Person:\n",
        "  def speak(self):\n",
        "    print('i can speak')\n",
        "class Man(Person):\n",
        "  def wear(self):\n",
        "    print('i can wear shirt')\n",
        "class Women(Person):\n",
        "  def wear(self):\n",
        "    print('i wear shirt')\n",
        "\n",
        "man = Man()\n",
        "man.wear()\n",
        "man.speak()"
      ],
      "metadata": {
        "colab": {
          "base_uri": "https://localhost:8080/"
        },
        "id": "8JIImAnbq_FF",
        "outputId": "03ed2e7b-632d-477b-de62-b63027b82cfc"
      },
      "execution_count": 142,
      "outputs": [
        {
          "output_type": "stream",
          "name": "stdout",
          "text": [
            "i can wear shirt\n",
            "i can speak\n"
          ]
        }
      ]
    },
    {
      "cell_type": "code",
      "source": [
        "class Person:\n",
        "  career = 'se'     # class attribute\n",
        "  def __init__(self):\n",
        "    self.A = 'ai'   # public variable\n",
        "    self.__B = 'ml' # private variable\n",
        "  def PrintName(self):\n",
        "    print(self.A)   # instance attribute\n",
        "    print(self.__B) # access private variable in class\n",
        "\n",
        "p = Person()\n",
        "p.PrintName() #access public function, but this function access private variable __B successfully since they are in the same class\n",
        "print(p.A)    # access public variable out of class, succeed\n",
        "print(p.__B)  # access private variable out of class, failed"
      ],
      "metadata": {
        "colab": {
          "base_uri": "https://localhost:8080/",
          "height": 281
        },
        "id": "mwwJMqn_sYIs",
        "outputId": "5a8ee093-2de4-45eb-fedf-e41b6ce0a1f0"
      },
      "execution_count": 143,
      "outputs": [
        {
          "output_type": "stream",
          "name": "stdout",
          "text": [
            "ai\n",
            "ml\n",
            "ai\n"
          ]
        },
        {
          "output_type": "error",
          "ename": "AttributeError",
          "evalue": "ignored",
          "traceback": [
            "\u001b[0;31m---------------------------------------------------------------------------\u001b[0m",
            "\u001b[0;31mAttributeError\u001b[0m                            Traceback (most recent call last)",
            "\u001b[0;32m<ipython-input-143-4e3b301aa892>\u001b[0m in \u001b[0;36m<cell line: 12>\u001b[0;34m()\u001b[0m\n\u001b[1;32m     10\u001b[0m \u001b[0mp\u001b[0m\u001b[0;34m.\u001b[0m\u001b[0mPrintName\u001b[0m\u001b[0;34m(\u001b[0m\u001b[0;34m)\u001b[0m \u001b[0;31m#access public function, but this function access private variable __B successfully since they are in the same class\u001b[0m\u001b[0;34m\u001b[0m\u001b[0;34m\u001b[0m\u001b[0m\n\u001b[1;32m     11\u001b[0m \u001b[0mprint\u001b[0m\u001b[0;34m(\u001b[0m\u001b[0mp\u001b[0m\u001b[0;34m.\u001b[0m\u001b[0mA\u001b[0m\u001b[0;34m)\u001b[0m    \u001b[0;31m# access public variable out of class, succeed\u001b[0m\u001b[0;34m\u001b[0m\u001b[0;34m\u001b[0m\u001b[0m\n\u001b[0;32m---> 12\u001b[0;31m \u001b[0mprint\u001b[0m\u001b[0;34m(\u001b[0m\u001b[0mp\u001b[0m\u001b[0;34m.\u001b[0m\u001b[0m__B\u001b[0m\u001b[0;34m)\u001b[0m  \u001b[0;31m# access private variable out of class, failed\u001b[0m\u001b[0;34m\u001b[0m\u001b[0;34m\u001b[0m\u001b[0m\n\u001b[0m",
            "\u001b[0;31mAttributeError\u001b[0m: 'Person' object has no attribute '__B'"
          ]
        }
      ]
    },
    {
      "cell_type": "code",
      "source": [],
      "metadata": {
        "id": "mjODye4XtcaI"
      },
      "execution_count": null,
      "outputs": []
    }
  ]
}