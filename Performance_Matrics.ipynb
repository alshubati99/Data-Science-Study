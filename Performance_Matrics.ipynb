{
  "nbformat": 4,
  "nbformat_minor": 0,
  "metadata": {
    "colab": {
      "provenance": [],
      "authorship_tag": "ABX9TyNK9G1wFOeDRZkAgdLZIH9C",
      "include_colab_link": true
    },
    "kernelspec": {
      "name": "python3",
      "display_name": "Python 3"
    },
    "language_info": {
      "name": "python"
    }
  },
  "cells": [
    {
      "cell_type": "markdown",
      "metadata": {
        "id": "view-in-github",
        "colab_type": "text"
      },
      "source": [
        "<a href=\"https://colab.research.google.com/github/alshubati99/Data-Science-Study/blob/main/Performance_Matrics.ipynb\" target=\"_parent\"><img src=\"https://colab.research.google.com/assets/colab-badge.svg\" alt=\"Open In Colab\"/></a>"
      ]
    },
    {
      "cell_type": "markdown",
      "source": [
        "# Performance Matrics\n",
        "- Classification behavior of given classifier can be summarized in terms of the confusion matrix\n",
        "- **Confusion Matrix:** <br>\n",
        "  1. Actual Values (Positive, Negative) => Totals => (Positives: P= (TP + FN))(Negetives: N= (FP + TN))\n",
        "  2. Predicted Values (Positive, Negative) => Totals => (Positives: TP + FP)(Negatives: FN + TN)\n",
        "  3. **TP** = True Positives: Number of *positive* samples that are correctly classified as positive\n",
        "  4. **FP** = False Positives: Number of *Negative* samples that are misclassified as positive\n",
        "  5. **TN** = True Negatives: Number of *Negative* samples that are correctly classified as negative.\n",
        "  6. **FN** = False Negatives: Number of *Positive* samples that are misclassified as negative\n",
        "  7. **S**= Total number of samples = (TP + FP + TN + FN)\n",
        "\n",
        "- **Accuracy:** <br>\n",
        "  1. Percentage of correctly classified samples defined as Accuracy.\n",
        "  2. Accuracy = (TP + TN)/(S)\n",
        "\n",
        "- **Precision:** <br>\n",
        "  1. Precision computes the proportion of positive predictions that correspond to correct classifications\n",
        "  2. Precision = TP/(TP + FP)\n",
        "\n",
        "- **Recall:** <br>\n",
        "  1. Recall computes the proportion of positives that are correctly classified.\n",
        "  2. Recall = TP/(TP + FN)\n",
        "\n",
        "`Precision and Recall are generally used when the performance on the positive class is primary concern`\n",
        "\n",
        "- **F1:** <br>\n",
        "  1. F1 combines Precision and Recall into one metric\n",
        "  2. F1 = (2xPrecisionxRecall)/(Precision + Recall)\n",
        "\n",
        "- **True Positive Rate:** <br>\n",
        "  1. TPR = Recall or Sensitivity\n",
        "  2. TPR = TP/P = TP/(TP + FN)\n",
        "\n",
        "- **False Positive Rate:** <br>\n",
        "  1. FPR = FP/N = FP/(TN + FP)\n",
        "\n",
        "- **True Negative Rate:** <br>\n",
        "  1. TNR = Specificity\n",
        "  2. TNR = TN/N = TN/(TN + FP)\n",
        "\n",
        "- **Geometric Mean:** <br>\n",
        "  1. GMean = sqrt((TP/P)*(TN/N))\n",
        "\n",
        "- **Area Under Curve:** <br>\n",
        "  1. The AUC score is the area under the curve plotted using TPR and FPR. It is based on ranking the tested samples according to the scores computed by the classifier.\n",
        "\n"
      ],
      "metadata": {
        "id": "R8OBRSNx93m2"
      }
    },
    {
      "cell_type": "code",
      "execution_count": 1,
      "metadata": {
        "id": "uHPYzPXF9cjO"
      },
      "outputs": [],
      "source": [
        "import numpy as np\n",
        "import pandas as pd\n",
        "from sklearn.linear_model import LogisticRegression\n",
        "from sklearn.model_selection import train_test_split\n",
        "from sklearn.metrics import precision_score, recall_score, roc_auc_score, f1_score, accuracy_score, confusion_matrix"
      ]
    },
    {
      "cell_type": "code",
      "source": [
        "from sklearn.datasets import load_breast_cancer\n",
        "data = load_breast_cancer()\n",
        "\n",
        "X = data['data'] # feature matrix\n",
        "y = data['target'] #1 represents positive case\n",
        "\n",
        "X.shape"
      ],
      "metadata": {
        "colab": {
          "base_uri": "https://localhost:8080/"
        },
        "id": "g-PPoKd1Eq0H",
        "outputId": "93eccc4a-c6f4-4510-b045-e83604ca156c"
      },
      "execution_count": 7,
      "outputs": [
        {
          "output_type": "execute_result",
          "data": {
            "text/plain": [
              "(569, 30)"
            ]
          },
          "metadata": {},
          "execution_count": 7
        }
      ]
    },
    {
      "cell_type": "code",
      "source": [
        "# split the data\n",
        "x_train, x_test, y_train, y_test = train_test_split(X,y,test_size = 0.2,random_state=1)"
      ],
      "metadata": {
        "id": "fi42S1vqFNK4"
      },
      "execution_count": 8,
      "outputs": []
    },
    {
      "cell_type": "code",
      "source": [
        "clf = LogisticRegression()\n",
        "clf.fit(x_train,y_train)\n",
        "\n",
        "y_pred = clf.predict(x_test)\n",
        "print(y_test)\n",
        "print(y_pred)"
      ],
      "metadata": {
        "colab": {
          "base_uri": "https://localhost:8080/"
        },
        "id": "lbVmxSUQFXhO",
        "outputId": "f915c969-c7bb-4b3c-a0f3-5778c6b4472f"
      },
      "execution_count": 9,
      "outputs": [
        {
          "output_type": "stream",
          "name": "stdout",
          "text": [
            "[1 0 1 0 0 0 0 0 1 1 1 0 0 1 1 1 1 1 1 0 1 1 0 1 0 1 1 0 0 0 0 1 0 0 1 1 0\n",
            " 1 0 1 1 1 1 1 1 0 1 1 1 0 0 0 1 1 1 1 1 0 1 1 1 0 1 1 1 1 1 0 1 1 1 1 0 0\n",
            " 1 0 0 0 1 0 1 0 1 0 1 1 0 1 0 1 1 0 1 1 0 0 1 1 1 1 1 1 1 1 1 1 1 1 0 0 0\n",
            " 1 1 1]\n",
            "[1 0 1 0 0 0 0 0 1 1 1 0 0 1 1 1 1 1 1 0 1 1 0 1 0 1 1 0 0 0 0 1 0 0 1 1 0\n",
            " 1 0 1 1 1 1 1 1 0 1 1 1 0 0 0 1 1 1 1 1 0 1 1 1 0 1 0 1 1 1 0 1 1 1 1 1 0\n",
            " 1 0 1 1 1 0 1 0 1 0 1 1 0 1 0 1 1 0 1 1 0 0 1 1 1 1 1 1 1 1 1 1 1 1 0 0 1\n",
            " 1 0 1]\n"
          ]
        },
        {
          "output_type": "stream",
          "name": "stderr",
          "text": [
            "/usr/local/lib/python3.10/dist-packages/sklearn/linear_model/_logistic.py:458: ConvergenceWarning: lbfgs failed to converge (status=1):\n",
            "STOP: TOTAL NO. of ITERATIONS REACHED LIMIT.\n",
            "\n",
            "Increase the number of iterations (max_iter) or scale the data as shown in:\n",
            "    https://scikit-learn.org/stable/modules/preprocessing.html\n",
            "Please also refer to the documentation for alternative solver options:\n",
            "    https://scikit-learn.org/stable/modules/linear_model.html#logistic-regression\n",
            "  n_iter_i = _check_optimize_result(\n"
          ]
        }
      ]
    },
    {
      "cell_type": "code",
      "source": [
        "print(accuracy_score(y_test,y_pred))\n",
        "print('Accuracy = {:.6f}'.format(clf.score(x_test, y_test)))"
      ],
      "metadata": {
        "colab": {
          "base_uri": "https://localhost:8080/"
        },
        "id": "cuEDYpsQFmAk",
        "outputId": "2e577aeb-1ebb-4515-eb48-eb7b0b0e278f"
      },
      "execution_count": 10,
      "outputs": [
        {
          "output_type": "stream",
          "name": "stdout",
          "text": [
            "0.9473684210526315\n",
            "Accuracy = 0.947368\n"
          ]
        }
      ]
    },
    {
      "cell_type": "code",
      "source": [
        "print(\"Number of Positive Samples\")\n",
        "print(np.count_nonzero(y_test==1))\n",
        "print(\"Number of Negative Samples\")\n",
        "print(np.count_nonzero(y_test==0))\n",
        "\n",
        "cm = confusion_matrix(y_test,y_pred)\n",
        "print(\"TN: \", cm[0][0])\n",
        "print(\"FP: \", cm[0][1])\n",
        "print(\"FN: \", cm[1][0])\n",
        "print(\"TP: \", cm[1][1])"
      ],
      "metadata": {
        "colab": {
          "base_uri": "https://localhost:8080/"
        },
        "id": "LiShjjLBF4zG",
        "outputId": "261f8682-7c02-404e-f015-80b32e774229"
      },
      "execution_count": 11,
      "outputs": [
        {
          "output_type": "stream",
          "name": "stdout",
          "text": [
            "Number of Positive Samples\n",
            "72\n",
            "Number of Negative Samples\n",
            "42\n",
            "TN:  38\n",
            "FP:  4\n",
            "FN:  2\n",
            "TP:  70\n"
          ]
        }
      ]
    },
    {
      "cell_type": "code",
      "source": [
        "print(precision_score(y_test,y_pred)) # TP/(FP+TP)\n",
        "print(cm[1][1]/(cm[0][1]+cm[1][1]))"
      ],
      "metadata": {
        "colab": {
          "base_uri": "https://localhost:8080/"
        },
        "id": "jzw4ME0lGdoX",
        "outputId": "e6bf8e87-c4ee-48cf-e2c6-ef56248cdca2"
      },
      "execution_count": 12,
      "outputs": [
        {
          "output_type": "stream",
          "name": "stdout",
          "text": [
            "0.9459459459459459\n",
            "0.9459459459459459\n"
          ]
        }
      ]
    },
    {
      "cell_type": "code",
      "source": [
        "print(recall_score(y_test,y_pred)) #TP/(TP+FN)\n",
        "print(cm[1][1]/(cm[1][1]+cm[1][0]))"
      ],
      "metadata": {
        "colab": {
          "base_uri": "https://localhost:8080/"
        },
        "id": "zoPpyEfNGtDD",
        "outputId": "56ddd311-d817-4eb7-8d52-979040fcd755"
      },
      "execution_count": 13,
      "outputs": [
        {
          "output_type": "stream",
          "name": "stdout",
          "text": [
            "0.9722222222222222\n",
            "0.9722222222222222\n"
          ]
        }
      ]
    },
    {
      "cell_type": "code",
      "source": [
        "print(f1_score(y_test,y_pred))"
      ],
      "metadata": {
        "colab": {
          "base_uri": "https://localhost:8080/"
        },
        "id": "muI6--loG7x1",
        "outputId": "8d8dad35-4337-4d12-bcd9-84e274bde0d7"
      },
      "execution_count": 14,
      "outputs": [
        {
          "output_type": "stream",
          "name": "stdout",
          "text": [
            "0.9589041095890412\n"
          ]
        }
      ]
    },
    {
      "cell_type": "code",
      "source": [
        "# for ROC the score is needed rather than labels\n",
        "y_pred = clf.predict_proba(x_test)[:,1]\n",
        "print(roc_auc_score(y_test,y_pred))"
      ],
      "metadata": {
        "colab": {
          "base_uri": "https://localhost:8080/"
        },
        "id": "ek5AF_GpHHvD",
        "outputId": "7922011b-12b7-4fa1-f1e9-3814f1690f9c"
      },
      "execution_count": 16,
      "outputs": [
        {
          "output_type": "stream",
          "name": "stdout",
          "text": [
            "0.9877645502645502\n"
          ]
        }
      ]
    },
    {
      "cell_type": "code",
      "source": [
        "import sklearn.metrics as metrics\n",
        "import matplotlib.pyplot as plt\n",
        "fpr, tpr, threshholds = metrics.roc_curve(y_test,y_pred)\n",
        "roc_auc = metrics.auc(fpr,tpr)\n",
        "display = metrics.RocCurveDisplay(fpr = fpr, tpr = tpr, roc_auc = roc_auc)\n",
        "display.plot()\n",
        "plt.show()"
      ],
      "metadata": {
        "colab": {
          "base_uri": "https://localhost:8080/",
          "height": 449
        },
        "id": "mOK9dKXvHYBU",
        "outputId": "6dbd6aa8-d615-4acf-b843-40a0519797bb"
      },
      "execution_count": 22,
      "outputs": [
        {
          "output_type": "display_data",
          "data": {
            "text/plain": [
              "<Figure size 640x480 with 1 Axes>"
            ],
            "image/png": "[encoded data removed]"
          },
          "metadata": {}
        }
      ]
    }
  ]
}