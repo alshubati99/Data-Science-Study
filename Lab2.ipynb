{
  "cells": [
    {
      "cell_type": "markdown",
      "metadata": {
        "id": "view-in-github",
        "colab_type": "text"
      },
      "source": [
        "<a href=\"https://colab.research.google.com/github/alshubati99/Data-Science-Study/blob/main/Lab2.ipynb\" target=\"_parent\"><img src=\"https://colab.research.google.com/assets/colab-badge.svg\" alt=\"Open In Colab\"/></a>"
      ]
    },
    {
      "cell_type": "markdown",
      "source": [
        "Create a NumPy array named as 'myArray' of size 10x10 and fill it with random integers between 0 and 9"
      ],
      "metadata": {
        "id": "5gmKdB-0lI_U"
      }
    },
    {
      "cell_type": "code",
      "execution_count": 1,
      "metadata": {
        "colab": {
          "base_uri": "https://localhost:8080/"
        },
        "id": "ceWUNpGH9YiV",
        "outputId": "4c94d5b4-45cb-4fe8-c23c-f833ea3cce09"
      },
      "outputs": [
        {
          "output_type": "stream",
          "name": "stdout",
          "text": [
            "[[5 0 3 3 7 9 3 5 2 4]\n",
            " [7 6 8 8 1 6 7 7 8 1]\n",
            " [5 9 8 9 4 3 0 3 5 0]\n",
            " [2 3 8 1 3 3 3 7 0 1]\n",
            " [9 9 0 4 7 3 2 7 2 0]\n",
            " [0 4 5 5 6 8 4 1 4 9]\n",
            " [8 1 1 7 9 9 3 6 7 2]\n",
            " [0 3 5 9 4 4 6 4 4 3]\n",
            " [4 4 8 4 3 7 5 5 0 1]\n",
            " [5 9 3 0 5 0 1 2 4 2]]\n"
          ]
        }
      ],
      "source": [
        "import numpy as np\n",
        "np.random.seed(0)\n",
        "myArray = np.random.randint(0, 10, size=(10, 10))\n",
        "print(myArray)"
      ]
    },
    {
      "cell_type": "markdown",
      "source": [
        "Display the shape of the array"
      ],
      "metadata": {
        "id": "X-9lv2-WlVVK"
      }
    },
    {
      "cell_type": "code",
      "execution_count": 2,
      "metadata": {
        "colab": {
          "base_uri": "https://localhost:8080/"
        },
        "id": "E8VsuJX19uzV",
        "outputId": "e55b79dc-8bc9-4b7b-88ff-f3c51b967a6b"
      },
      "outputs": [
        {
          "output_type": "stream",
          "name": "stdout",
          "text": [
            "(10, 10)\n"
          ]
        }
      ],
      "source": [
        "print(myArray.shape)"
      ]
    },
    {
      "cell_type": "markdown",
      "source": [
        "Display the sub-matrix having row indices 0,1,2 and column indices 3,4,5"
      ],
      "metadata": {
        "id": "CuwN-BKFlZlb"
      }
    },
    {
      "cell_type": "code",
      "execution_count": 3,
      "metadata": {
        "colab": {
          "base_uri": "https://localhost:8080/"
        },
        "id": "AsyWO3ZlB3cn",
        "outputId": "b4e6db04-2cae-4123-d800-7a5bbd15aff4"
      },
      "outputs": [
        {
          "output_type": "stream",
          "name": "stdout",
          "text": [
            "[[3 7 9]\n",
            " [8 1 6]\n",
            " [9 4 3]]\n"
          ]
        }
      ],
      "source": [
        "sub_matrix = myArray[0:3, 3:6]\n",
        "print(sub_matrix)"
      ]
    },
    {
      "cell_type": "markdown",
      "source": [
        "Reshape the submatrix above to a row vector"
      ],
      "metadata": {
        "id": "RVuR9rlelkjd"
      }
    },
    {
      "cell_type": "code",
      "execution_count": 4,
      "metadata": {
        "colab": {
          "base_uri": "https://localhost:8080/"
        },
        "id": "tD4cUvAzCwPo",
        "outputId": "15a8c259-1151-4870-88e5-280b7540aa8b"
      },
      "outputs": [
        {
          "output_type": "stream",
          "name": "stdout",
          "text": [
            "[[3 7 9 8 1 6 9 4 3]]\n"
          ]
        }
      ],
      "source": [
        "rv = sub_matrix.reshape(1, -1)\n",
        "print(rv)"
      ]
    },
    {
      "cell_type": "markdown",
      "source": [
        "Sort the elements in the array row-side and print the sorted matrix"
      ],
      "metadata": {
        "id": "b8Qr_4oglwcp"
      }
    },
    {
      "cell_type": "code",
      "execution_count": 5,
      "metadata": {
        "colab": {
          "base_uri": "https://localhost:8080/"
        },
        "id": "MHpYEZatDKAO",
        "outputId": "4255e6ab-551e-4aaa-92c6-8db8e5a15a23"
      },
      "outputs": [
        {
          "output_type": "stream",
          "name": "stdout",
          "text": [
            "[[0 2 3 3 3 4 5 5 7 9]\n",
            " [1 1 6 6 7 7 7 8 8 8]\n",
            " [0 0 3 3 4 5 5 8 9 9]\n",
            " [0 1 1 2 3 3 3 3 7 8]\n",
            " [0 0 2 2 3 4 7 7 9 9]\n",
            " [0 1 4 4 4 5 5 6 8 9]\n",
            " [1 1 2 3 6 7 7 8 9 9]\n",
            " [0 3 3 4 4 4 4 5 6 9]\n",
            " [0 1 3 4 4 4 5 5 7 8]\n",
            " [0 0 1 2 2 3 4 5 5 9]]\n"
          ]
        }
      ],
      "source": [
        "sorted_matrix = np.sort(myArray)\n",
        "print(sorted_matrix)"
      ]
    },
    {
      "cell_type": "markdown",
      "source": [
        "Create 1D array of ones and stack it to the previous array vertically"
      ],
      "metadata": {
        "id": "1Wlqju2cmAdR"
      }
    },
    {
      "cell_type": "code",
      "execution_count": 6,
      "metadata": {
        "colab": {
          "base_uri": "https://localhost:8080/"
        },
        "id": "6VxHemtQDLk4",
        "outputId": "a529f409-6d54-451a-e6d2-a96c1a96e864"
      },
      "outputs": [
        {
          "output_type": "stream",
          "name": "stdout",
          "text": [
            "[[5. 0. 3. 3. 7. 9. 3. 5. 2. 4.]\n",
            " [7. 6. 8. 8. 1. 6. 7. 7. 8. 1.]\n",
            " [5. 9. 8. 9. 4. 3. 0. 3. 5. 0.]\n",
            " [2. 3. 8. 1. 3. 3. 3. 7. 0. 1.]\n",
            " [9. 9. 0. 4. 7. 3. 2. 7. 2. 0.]\n",
            " [0. 4. 5. 5. 6. 8. 4. 1. 4. 9.]\n",
            " [8. 1. 1. 7. 9. 9. 3. 6. 7. 2.]\n",
            " [0. 3. 5. 9. 4. 4. 6. 4. 4. 3.]\n",
            " [4. 4. 8. 4. 3. 7. 5. 5. 0. 1.]\n",
            " [5. 9. 3. 0. 5. 0. 1. 2. 4. 2.]\n",
            " [1. 1. 1. 1. 1. 1. 1. 1. 1. 1.]]\n"
          ]
        }
      ],
      "source": [
        "myArray = np.vstack((myArray, np.ones(10)))\n",
        "print(myArray)"
      ]
    },
    {
      "cell_type": "markdown",
      "source": [
        "Add 10 to all elements in the array"
      ],
      "metadata": {
        "id": "o2jEMSL9mLxt"
      }
    },
    {
      "cell_type": "code",
      "execution_count": 7,
      "metadata": {
        "colab": {
          "base_uri": "https://localhost:8080/"
        },
        "id": "eUsiBsk5DXvh",
        "outputId": "14ce66d0-f84a-466b-9eb2-e126ef7763bd"
      },
      "outputs": [
        {
          "output_type": "stream",
          "name": "stdout",
          "text": [
            "[[15. 10. 13. 13. 17. 19. 13. 15. 12. 14.]\n",
            " [17. 16. 18. 18. 11. 16. 17. 17. 18. 11.]\n",
            " [15. 19. 18. 19. 14. 13. 10. 13. 15. 10.]\n",
            " [12. 13. 18. 11. 13. 13. 13. 17. 10. 11.]\n",
            " [19. 19. 10. 14. 17. 13. 12. 17. 12. 10.]\n",
            " [10. 14. 15. 15. 16. 18. 14. 11. 14. 19.]\n",
            " [18. 11. 11. 17. 19. 19. 13. 16. 17. 12.]\n",
            " [10. 13. 15. 19. 14. 14. 16. 14. 14. 13.]\n",
            " [14. 14. 18. 14. 13. 17. 15. 15. 10. 11.]\n",
            " [15. 19. 13. 10. 15. 10. 11. 12. 14. 12.]\n",
            " [11. 11. 11. 11. 11. 11. 11. 11. 11. 11.]]\n"
          ]
        }
      ],
      "source": [
        "myArray += 10\n",
        "print(myArray)"
      ]
    },
    {
      "cell_type": "markdown",
      "source": [
        "Add the vector [0,1,2,3,4,5,6,7,8,9] to each row"
      ],
      "metadata": {
        "id": "OPMLuu7imSVX"
      }
    },
    {
      "cell_type": "code",
      "execution_count": 8,
      "metadata": {
        "colab": {
          "base_uri": "https://localhost:8080/"
        },
        "id": "fF5vanxCsui0",
        "outputId": "fd06ec59-7245-4c58-af47-aa923482db58"
      },
      "outputs": [
        {
          "output_type": "stream",
          "name": "stdout",
          "text": [
            "[[15. 11. 15. 16. 21. 24. 19. 22. 20. 23.]\n",
            " [17. 17. 20. 21. 15. 21. 23. 24. 26. 20.]\n",
            " [15. 20. 20. 22. 18. 18. 16. 20. 23. 19.]\n",
            " [12. 14. 20. 14. 17. 18. 19. 24. 18. 20.]\n",
            " [19. 20. 12. 17. 21. 18. 18. 24. 20. 19.]\n",
            " [10. 15. 17. 18. 20. 23. 20. 18. 22. 28.]\n",
            " [18. 12. 13. 20. 23. 24. 19. 23. 25. 21.]\n",
            " [10. 14. 17. 22. 18. 19. 22. 21. 22. 22.]\n",
            " [14. 15. 20. 17. 17. 22. 21. 22. 18. 20.]\n",
            " [15. 20. 15. 13. 19. 15. 17. 19. 22. 21.]\n",
            " [11. 12. 13. 14. 15. 16. 17. 18. 19. 20.]]\n"
          ]
        }
      ],
      "source": [
        "myArray += np.array([0,1,2,3,4,5,6,7,8,9])\n",
        "print(myArray)"
      ]
    },
    {
      "cell_type": "markdown",
      "source": [
        "Add 0 to all elements in the first row and 1 to second row and ... 10 to last row"
      ],
      "metadata": {
        "id": "cXJptYQfmiMt"
      }
    },
    {
      "cell_type": "code",
      "execution_count": 9,
      "metadata": {
        "colab": {
          "base_uri": "https://localhost:8080/"
        },
        "id": "n_QEBJuUs6su",
        "outputId": "1839508e-6fbc-421b-f856-39deaa8b110f"
      },
      "outputs": [
        {
          "output_type": "stream",
          "name": "stdout",
          "text": [
            "[[15. 11. 15. 16. 21. 24. 19. 22. 20. 23.]\n",
            " [18. 18. 21. 22. 16. 22. 24. 25. 27. 21.]\n",
            " [17. 22. 22. 24. 20. 20. 18. 22. 25. 21.]\n",
            " [15. 17. 23. 17. 20. 21. 22. 27. 21. 23.]\n",
            " [23. 24. 16. 21. 25. 22. 22. 28. 24. 23.]\n",
            " [15. 20. 22. 23. 25. 28. 25. 23. 27. 33.]\n",
            " [24. 18. 19. 26. 29. 30. 25. 29. 31. 27.]\n",
            " [17. 21. 24. 29. 25. 26. 29. 28. 29. 29.]\n",
            " [22. 23. 28. 25. 25. 30. 29. 30. 26. 28.]\n",
            " [24. 29. 24. 22. 28. 24. 26. 28. 31. 30.]\n",
            " [21. 22. 23. 24. 25. 26. 27. 28. 29. 30.]]\n"
          ]
        }
      ],
      "source": [
        "add = np.arange(myArray.shape[0])[:, np.newaxis]\n",
        "myArray += add\n",
        "print(myArray)"
      ]
    },
    {
      "cell_type": "markdown",
      "source": [
        "Replace all elements of the array above 20 with 0"
      ],
      "metadata": {
        "id": "Ujc15kqsmvr4"
      }
    },
    {
      "cell_type": "code",
      "execution_count": 10,
      "metadata": {
        "colab": {
          "base_uri": "https://localhost:8080/"
        },
        "id": "R9Z-HwJouaAi",
        "outputId": "bad5de83-36b2-4fed-8391-76519d00f239"
      },
      "outputs": [
        {
          "output_type": "stream",
          "name": "stdout",
          "text": [
            "[[15. 11. 15. 16.  0.  0. 19.  0. 20.  0.]\n",
            " [18. 18.  0.  0. 16.  0.  0.  0.  0.  0.]\n",
            " [17.  0.  0.  0. 20. 20. 18.  0.  0.  0.]\n",
            " [15. 17.  0. 17. 20.  0.  0.  0.  0.  0.]\n",
            " [ 0.  0. 16.  0.  0.  0.  0.  0.  0.  0.]\n",
            " [15. 20.  0.  0.  0.  0.  0.  0.  0.  0.]\n",
            " [ 0. 18. 19.  0.  0.  0.  0.  0.  0.  0.]\n",
            " [17.  0.  0.  0.  0.  0.  0.  0.  0.  0.]\n",
            " [ 0.  0.  0.  0.  0.  0.  0.  0.  0.  0.]\n",
            " [ 0.  0.  0.  0.  0.  0.  0.  0.  0.  0.]\n",
            " [ 0.  0.  0.  0.  0.  0.  0.  0.  0.  0.]]\n"
          ]
        }
      ],
      "source": [
        "myArray[myArray > 20] = 0\n",
        "print(myArray)"
      ]
    },
    {
      "cell_type": "markdown",
      "source": [
        "Replace all elements of array larger than 15 with their remainders when divided by 15"
      ],
      "metadata": {
        "id": "sDE0s169m4xj"
      }
    },
    {
      "cell_type": "code",
      "execution_count": 11,
      "metadata": {
        "colab": {
          "base_uri": "https://localhost:8080/"
        },
        "id": "1gnZouWMwE_2",
        "outputId": "4ecc3088-17e4-441a-e24d-338b33f5e2a5"
      },
      "outputs": [
        {
          "output_type": "stream",
          "name": "stdout",
          "text": [
            "[[15. 11. 15.  1.  0.  0.  4.  0.  5.  0.]\n",
            " [ 3.  3.  0.  0.  1.  0.  0.  0.  0.  0.]\n",
            " [ 2.  0.  0.  0.  5.  5.  3.  0.  0.  0.]\n",
            " [15.  2.  0.  2.  5.  0.  0.  0.  0.  0.]\n",
            " [ 0.  0.  1.  0.  0.  0.  0.  0.  0.  0.]\n",
            " [15.  5.  0.  0.  0.  0.  0.  0.  0.  0.]\n",
            " [ 0.  3.  4.  0.  0.  0.  0.  0.  0.  0.]\n",
            " [ 2.  0.  0.  0.  0.  0.  0.  0.  0.  0.]\n",
            " [ 0.  0.  0.  0.  0.  0.  0.  0.  0.  0.]\n",
            " [ 0.  0.  0.  0.  0.  0.  0.  0.  0.  0.]\n",
            " [ 0.  0.  0.  0.  0.  0.  0.  0.  0.  0.]]\n"
          ]
        }
      ],
      "source": [
        "myArray[myArray > 15] = myArray[myArray > 15]%15\n",
        "print(myArray)"
      ]
    },
    {
      "cell_type": "markdown",
      "source": [
        "Delete last 4 columns of the array"
      ],
      "metadata": {
        "id": "wmbvNxVRnCpM"
      }
    },
    {
      "cell_type": "code",
      "execution_count": 12,
      "metadata": {
        "colab": {
          "base_uri": "https://localhost:8080/"
        },
        "id": "FrwuLSmfwPmF",
        "outputId": "79e004f5-91b9-4951-e8e4-2d7e2818fabe"
      },
      "outputs": [
        {
          "output_type": "stream",
          "name": "stdout",
          "text": [
            "[[15. 11. 15.  1.  0.  0.]\n",
            " [ 3.  3.  0.  0.  1.  0.]\n",
            " [ 2.  0.  0.  0.  5.  5.]\n",
            " [15.  2.  0.  2.  5.  0.]\n",
            " [ 0.  0.  1.  0.  0.  0.]\n",
            " [15.  5.  0.  0.  0.  0.]\n",
            " [ 0.  3.  4.  0.  0.  0.]\n",
            " [ 2.  0.  0.  0.  0.  0.]\n",
            " [ 0.  0.  0.  0.  0.  0.]\n",
            " [ 0.  0.  0.  0.  0.  0.]\n",
            " [ 0.  0.  0.  0.  0.  0.]]\n"
          ]
        }
      ],
      "source": [
        "myArray = myArray[:, :-4]\n",
        "print(myArray)"
      ]
    },
    {
      "cell_type": "markdown",
      "source": [
        "Delete last 3 rows of the array"
      ],
      "metadata": {
        "id": "X7i__lq8nHmf"
      }
    },
    {
      "cell_type": "code",
      "execution_count": 13,
      "metadata": {
        "colab": {
          "base_uri": "https://localhost:8080/"
        },
        "id": "PRIPSLvUwiY7",
        "outputId": "79290139-bd8a-40b1-f530-22dd0409893c"
      },
      "outputs": [
        {
          "output_type": "stream",
          "name": "stdout",
          "text": [
            "[[15. 11. 15.  1.  0.  0.]\n",
            " [ 3.  3.  0.  0.  1.  0.]\n",
            " [ 2.  0.  0.  0.  5.  5.]\n",
            " [15.  2.  0.  2.  5.  0.]\n",
            " [ 0.  0.  1.  0.  0.  0.]\n",
            " [15.  5.  0.  0.  0.  0.]\n",
            " [ 0.  3.  4.  0.  0.  0.]\n",
            " [ 2.  0.  0.  0.  0.  0.]]\n"
          ]
        }
      ],
      "source": [
        "myArray = myArray[:-3, :]\n",
        "print(myArray)"
      ]
    },
    {
      "cell_type": "markdown",
      "source": [
        "Swap second and third columns"
      ],
      "metadata": {
        "id": "P83r7b4CnZda"
      }
    },
    {
      "cell_type": "code",
      "execution_count": 14,
      "metadata": {
        "colab": {
          "base_uri": "https://localhost:8080/"
        },
        "id": "9Svbq151wolg",
        "outputId": "01213b44-422f-4c7f-fd2e-6047a22f9892"
      },
      "outputs": [
        {
          "output_type": "stream",
          "name": "stdout",
          "text": [
            "[[15. 11.  1. 15.  0.  0.]\n",
            " [ 3.  3.  0.  0.  1.  0.]\n",
            " [ 2.  0.  0.  0.  5.  5.]\n",
            " [15.  2.  2.  0.  5.  0.]\n",
            " [ 0.  0.  0.  1.  0.  0.]\n",
            " [15.  5.  0.  0.  0.  0.]\n",
            " [ 0.  3.  0.  4.  0.  0.]\n",
            " [ 2.  0.  0.  0.  0.  0.]]\n"
          ]
        }
      ],
      "source": [
        "myArray[:, [2, 3]] = myArray[:, [3, 2]]\n",
        "print(myArray)"
      ]
    },
    {
      "cell_type": "markdown",
      "source": [
        "Compute the sum of each row by multiplying the array with a column vector of ones and print the results"
      ],
      "metadata": {
        "id": "lpkwo-MSnedO"
      }
    },
    {
      "cell_type": "code",
      "execution_count": 15,
      "metadata": {
        "colab": {
          "base_uri": "https://localhost:8080/"
        },
        "id": "oifWBFPYwvRb",
        "outputId": "0b185ea0-ec09-4bc7-e116-f2d8a0d5f90f"
      },
      "outputs": [
        {
          "output_type": "stream",
          "name": "stdout",
          "text": [
            "[[42.]\n",
            " [ 7.]\n",
            " [12.]\n",
            " [24.]\n",
            " [ 1.]\n",
            " [20.]\n",
            " [ 7.]\n",
            " [ 2.]]\n"
          ]
        }
      ],
      "source": [
        "sum_result = np.sum(myArray * np.ones(myArray.shape[0])[:, np.newaxis], axis=1)[:, np.newaxis]\n",
        "print(sum_result)"
      ]
    },
    {
      "cell_type": "markdown",
      "source": [
        "Split the array into two matrics A and B, A is made up of first 4 columns and B inludes last 2 columns"
      ],
      "metadata": {
        "id": "UAqB4fGDnuNO"
      }
    },
    {
      "cell_type": "code",
      "execution_count": 16,
      "metadata": {
        "colab": {
          "base_uri": "https://localhost:8080/"
        },
        "id": "2uANXUdQxM--",
        "outputId": "e2d3ef10-bda6-47b8-f135-dd3812801cea"
      },
      "outputs": [
        {
          "output_type": "stream",
          "name": "stdout",
          "text": [
            "[[15. 11.  1. 15.]\n",
            " [ 3.  3.  0.  0.]\n",
            " [ 2.  0.  0.  0.]\n",
            " [15.  2.  2.  0.]\n",
            " [ 0.  0.  0.  1.]\n",
            " [15.  5.  0.  0.]\n",
            " [ 0.  3.  0.  4.]\n",
            " [ 2.  0.  0.  0.]] \n",
            "\n",
            " [[0. 0.]\n",
            " [1. 0.]\n",
            " [5. 5.]\n",
            " [5. 0.]\n",
            " [0. 0.]\n",
            " [0. 0.]\n",
            " [0. 0.]\n",
            " [0. 0.]]\n"
          ]
        }
      ],
      "source": [
        "A, B = myArray[:, :4],  myArray[:, 4:]\n",
        "print(A, \"\\n\\n\", B)"
      ]
    },
    {
      "cell_type": "markdown",
      "source": [
        "Merge A and B back to the array"
      ],
      "metadata": {
        "id": "4sIVuGZXn-PP"
      }
    },
    {
      "cell_type": "code",
      "execution_count": 17,
      "metadata": {
        "colab": {
          "base_uri": "https://localhost:8080/"
        },
        "id": "Ri4Z6dEL2uH8",
        "outputId": "c4daa1dd-7afe-4932-afc4-12d9428752ed"
      },
      "outputs": [
        {
          "output_type": "stream",
          "name": "stdout",
          "text": [
            "[[15. 11.  1. 15.  0.  0.]\n",
            " [ 3.  3.  0.  0.  1.  0.]\n",
            " [ 2.  0.  0.  0.  5.  5.]\n",
            " [15.  2.  2.  0.  5.  0.]\n",
            " [ 0.  0.  0.  1.  0.  0.]\n",
            " [15.  5.  0.  0.  0.  0.]\n",
            " [ 0.  3.  0.  4.  0.  0.]\n",
            " [ 2.  0.  0.  0.  0.  0.]]\n"
          ]
        }
      ],
      "source": [
        "myArray = np.hstack((A, B))\n",
        "print(myArray)"
      ]
    },
    {
      "cell_type": "markdown",
      "source": [
        "Normalize the array so that each column is of zero mean and unit variance. Print the mean and variances of all columns to check for correctness"
      ],
      "metadata": {
        "id": "2rrW4fmKoH9n"
      }
    },
    {
      "cell_type": "code",
      "execution_count": 18,
      "metadata": {
        "colab": {
          "base_uri": "https://localhost:8080/"
        },
        "id": "7w0TF-w-3LI1",
        "outputId": "f95b585d-a536-4aaa-8ab6-c5b9836599dd"
      },
      "outputs": [
        {
          "output_type": "stream",
          "name": "stdout",
          "text": [
            "[[ 1.27779825  2.30940108  0.89802651  2.55155182 -0.64930947 -0.37796447]\n",
            " [-0.52615222  0.         -0.53881591 -0.51031036 -0.1770844  -0.37796447]\n",
            " [-0.67648143 -0.8660254  -0.53881591 -0.51031036  1.71181587  2.64575131]\n",
            " [ 1.27779825 -0.28867513  2.33486893 -0.51031036  1.71181587 -0.37796447]\n",
            " [-0.97713984 -0.8660254  -0.53881591 -0.30618622 -0.64930947 -0.37796447]\n",
            " [ 1.27779825  0.57735027 -0.53881591 -0.51031036 -0.64930947 -0.37796447]\n",
            " [-0.97713984  0.         -0.53881591  0.30618622 -0.64930947 -0.37796447]\n",
            " [-0.67648143 -0.8660254  -0.53881591 -0.51031036 -0.64930947 -0.37796447]]\n",
            "[ 1.38777878e-17  1.38777878e-17  8.32667268e-17 -4.16333634e-17\n",
            "  0.00000000e+00 -4.16333634e-17]\n",
            "[1. 1. 1. 1. 1. 1.]\n"
          ]
        }
      ],
      "source": [
        "myArray = (myArray - np.mean(myArray, axis=0)) / np.std(myArray, axis=0)\n",
        "print(myArray)\n",
        "print(np.mean(myArray, axis=0))\n",
        "print(np.std(myArray, axis=0))\n"
      ]
    }
  ],
  "metadata": {
    "colab": {
      "provenance": [],
      "include_colab_link": true
    },
    "kernelspec": {
      "display_name": "Python 3",
      "name": "python3"
    },
    "language_info": {
      "name": "python"
    }
  },
  "nbformat": 4,
  "nbformat_minor": 0
}