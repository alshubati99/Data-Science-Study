{
  "nbformat": 4,
  "nbformat_minor": 0,
  "metadata": {
    "colab": {
      "provenance": [],
      "authorship_tag": "ABX9TyOCFdaS5FXNoyk4D/+W0Mlb",
      "include_colab_link": true
    },
    "kernelspec": {
      "name": "python3",
      "display_name": "Python 3"
    },
    "language_info": {
      "name": "python"
    }
  },
  "cells": [
    {
      "cell_type": "markdown",
      "metadata": {
        "id": "view-in-github",
        "colab_type": "text"
      },
      "source": [
        "<a href=\"https://colab.research.google.com/github/alshubati99/Data-Science-Study/blob/main/Data_Representation__NumPy.ipynb\" target=\"_parent\"><img src=\"https://colab.research.google.com/assets/colab-badge.svg\" alt=\"Open In Colab\"/></a>"
      ]
    },
    {
      "cell_type": "markdown",
      "source": [
        "# Data Representation NumPy\n",
        "- standard python implementation is written in C, which means that every python object is simply a cleverly disguised C structure, which contains not only its value, but other information as well\n",
        "- python list contains pointer to a block of pointers, each of which in turn points to a full python object like the python integer\n",
        "- advantage of list is flexibility, because each list element is a full sturcture containing both data and type information, the list can be filled with data of any desired type.\n",
        "### Similarities between lists and arrays:\n",
        "    - both use sequare brackets `[]`\n",
        "    - both data types are mutable, means you can replace, change items in list or array.\n",
        "    - both can be indexed and used for slicing operations\n",
        "    - list cannot directly handle a mathematical operations while array can\n",
        "    - 2D arrays in python can be created using list of lists\n",
        "    - all array element should be of same type, unlike lists\n",
        "### Data Types\n",
        "![data types.png]()\n",
        "\n",
        "- *Attributes of array* : determine size, shape, memory consumption, and data types of arrays.\n",
        "- *Indexing of array*: getting and setting value of individual elements.\n",
        "- *reshaping of array*: changing the shape of given array.\n",
        "- *joining and splitting  of arrays*: compining multiple arrays into one, and splitting one array into many.\n",
        "- slicing returns view rather than copies of arrays, while in lists slices are copies of the list\n",
        "- broadcasting numpy arrays = apply binary operations (*, +, -, /) on arrays of different sizes\n",
        "- *Universal function in numpy* = simple mathmatical functions that operate in ND array\n",
        "- *Fancy Indexing* = passing an array of indices to access multiple array elements at ones.\n"
      ],
      "metadata": {
        "id": "md1dg8Q8vsZ_"
      }
    },
    {
      "cell_type": "code",
      "execution_count": null,
      "metadata": {
        "id": "Cjneyw43e3hT",
        "colab": {
          "base_uri": "https://localhost:8080/"
        },
        "outputId": "ec25ccbc-df0a-4adf-cf13-5ce7cdd5ea8b"
      },
      "outputs": [
        {
          "output_type": "execute_result",
          "data": {
            "text/plain": [
              "[1, 3, 4]"
            ]
          },
          "metadata": {},
          "execution_count": 1
        }
      ],
      "source": [
        "list1 = [1,3,4]\n",
        "list1"
      ]
    },
    {
      "cell_type": "code",
      "source": [
        "import numpy as np\n",
        "arr = np.array([1,3,4])\n",
        "arr"
      ],
      "metadata": {
        "colab": {
          "base_uri": "https://localhost:8080/"
        },
        "id": "HgK6hZR0w4C9",
        "outputId": "b813e24a-56e6-4858-f479-c7ac439fd385"
      },
      "execution_count": null,
      "outputs": [
        {
          "output_type": "execute_result",
          "data": {
            "text/plain": [
              "array([1, 3, 4])"
            ]
          },
          "metadata": {},
          "execution_count": 3
        }
      ]
    },
    {
      "cell_type": "code",
      "source": [
        "list1[0] = 0\n",
        "list1"
      ],
      "metadata": {
        "colab": {
          "base_uri": "https://localhost:8080/"
        },
        "id": "iy3HFKzGxR1C",
        "outputId": "57d6f202-071c-46b0-ce5e-5b41c900c300"
      },
      "execution_count": null,
      "outputs": [
        {
          "output_type": "execute_result",
          "data": {
            "text/plain": [
              "[0, 3, 4]"
            ]
          },
          "metadata": {},
          "execution_count": 4
        }
      ]
    },
    {
      "cell_type": "code",
      "source": [
        "arr[0] = 0\n",
        "arr"
      ],
      "metadata": {
        "colab": {
          "base_uri": "https://localhost:8080/"
        },
        "id": "oL4dc1AexUPu",
        "outputId": "af0a6885-f958-4c8e-b128-4c7b9ee790c3"
      },
      "execution_count": null,
      "outputs": [
        {
          "output_type": "execute_result",
          "data": {
            "text/plain": [
              "array([0, 3, 4])"
            ]
          },
          "metadata": {},
          "execution_count": 5
        }
      ]
    },
    {
      "cell_type": "code",
      "source": [
        "list1[2]"
      ],
      "metadata": {
        "colab": {
          "base_uri": "https://localhost:8080/"
        },
        "id": "9qW4xcc4xXog",
        "outputId": "7336e404-e76d-410d-87ae-82d3670a346e"
      },
      "execution_count": null,
      "outputs": [
        {
          "output_type": "execute_result",
          "data": {
            "text/plain": [
              "4"
            ]
          },
          "metadata": {},
          "execution_count": 6
        }
      ]
    },
    {
      "cell_type": "code",
      "source": [
        "arr[2]"
      ],
      "metadata": {
        "colab": {
          "base_uri": "https://localhost:8080/"
        },
        "id": "J5rFXL1Kxj4I",
        "outputId": "13598aa9-dd28-42d3-bb54-0f0407565216"
      },
      "execution_count": null,
      "outputs": [
        {
          "output_type": "execute_result",
          "data": {
            "text/plain": [
              "4"
            ]
          },
          "metadata": {},
          "execution_count": 7
        }
      ]
    },
    {
      "cell_type": "code",
      "source": [
        "list1[:2]"
      ],
      "metadata": {
        "colab": {
          "base_uri": "https://localhost:8080/"
        },
        "id": "gZ8Tx96IxlhO",
        "outputId": "5f3556ea-b907-4aef-b362-e89ee684d61e"
      },
      "execution_count": null,
      "outputs": [
        {
          "output_type": "execute_result",
          "data": {
            "text/plain": [
              "[0, 3]"
            ]
          },
          "metadata": {},
          "execution_count": 8
        }
      ]
    },
    {
      "cell_type": "code",
      "source": [
        "arr[:2]"
      ],
      "metadata": {
        "colab": {
          "base_uri": "https://localhost:8080/"
        },
        "id": "d1oNzUSaxpK5",
        "outputId": "8fb754be-d3d9-4300-b360-985d474ba0f4"
      },
      "execution_count": null,
      "outputs": [
        {
          "output_type": "execute_result",
          "data": {
            "text/plain": [
              "array([0, 3])"
            ]
          },
          "metadata": {},
          "execution_count": 9
        }
      ]
    },
    {
      "cell_type": "code",
      "source": [
        "arr[1:]"
      ],
      "metadata": {
        "colab": {
          "base_uri": "https://localhost:8080/"
        },
        "id": "L1OONM6qxtBz",
        "outputId": "85376ce4-2d04-44a1-f583-63b8b674107e"
      },
      "execution_count": null,
      "outputs": [
        {
          "output_type": "execute_result",
          "data": {
            "text/plain": [
              "array([3, 4])"
            ]
          },
          "metadata": {},
          "execution_count": 10
        }
      ]
    },
    {
      "cell_type": "code",
      "source": [
        "list1*2"
      ],
      "metadata": {
        "colab": {
          "base_uri": "https://localhost:8080/"
        },
        "id": "hG0zE95bx6GK",
        "outputId": "6807088c-1b06-4007-ce9c-83b4f9857722"
      },
      "execution_count": null,
      "outputs": [
        {
          "output_type": "execute_result",
          "data": {
            "text/plain": [
              "[0, 3, 4, 0, 3, 4]"
            ]
          },
          "metadata": {},
          "execution_count": 11
        }
      ]
    },
    {
      "cell_type": "code",
      "source": [
        "arr*2"
      ],
      "metadata": {
        "colab": {
          "base_uri": "https://localhost:8080/"
        },
        "id": "etrn6E3Gx859",
        "outputId": "c00d95eb-559a-4779-b313-8b6ad48347e4"
      },
      "execution_count": null,
      "outputs": [
        {
          "output_type": "execute_result",
          "data": {
            "text/plain": [
              "array([0, 6, 8])"
            ]
          },
          "metadata": {},
          "execution_count": 12
        }
      ]
    },
    {
      "cell_type": "code",
      "source": [
        "np.array([2.1,4,5,5])"
      ],
      "metadata": {
        "colab": {
          "base_uri": "https://localhost:8080/"
        },
        "id": "LCLgo-B1x_m8",
        "outputId": "367de75d-8be8-407e-b96e-848b9a8956bc"
      },
      "execution_count": null,
      "outputs": [
        {
          "output_type": "execute_result",
          "data": {
            "text/plain": [
              "array([2.1, 4. , 5. , 5. ])"
            ]
          },
          "metadata": {},
          "execution_count": 14
        }
      ]
    },
    {
      "cell_type": "code",
      "source": [
        "# set data type of resulting array explicitly\n",
        "np.array([1,3,4], dtype = 'float32')"
      ],
      "metadata": {
        "colab": {
          "base_uri": "https://localhost:8080/"
        },
        "id": "YROJo4RkyfLq",
        "outputId": "50a051ca-a09a-4c13-e7f4-a9fab831ecf5"
      },
      "execution_count": null,
      "outputs": [
        {
          "output_type": "execute_result",
          "data": {
            "text/plain": [
              "array([1., 3., 4.], dtype=float32)"
            ]
          },
          "metadata": {},
          "execution_count": 15
        }
      ]
    },
    {
      "cell_type": "code",
      "source": [
        "# create matrix:\n",
        "matrix = np.array([[1,4],[2,5]])\n",
        "matrix"
      ],
      "metadata": {
        "colab": {
          "base_uri": "https://localhost:8080/"
        },
        "id": "V-vxbduSyw_V",
        "outputId": "cb62d40b-049e-4c6b-c6a4-85af8bd9f673"
      },
      "execution_count": null,
      "outputs": [
        {
          "output_type": "execute_result",
          "data": {
            "text/plain": [
              "array([[1, 4],\n",
              "       [2, 5]])"
            ]
          },
          "metadata": {},
          "execution_count": 18
        }
      ]
    },
    {
      "cell_type": "code",
      "source": [
        "# view shape\n",
        "matrix.shape"
      ],
      "metadata": {
        "colab": {
          "base_uri": "https://localhost:8080/"
        },
        "id": "nbyqngQSy2N6",
        "outputId": "2249b2e2-40f5-4b5a-d5d9-7c8a65d488a7"
      },
      "execution_count": null,
      "outputs": [
        {
          "output_type": "execute_result",
          "data": {
            "text/plain": [
              "(2, 2)"
            ]
          },
          "metadata": {},
          "execution_count": 19
        }
      ]
    },
    {
      "cell_type": "code",
      "source": [
        "twodim = np.array([[1,3],[5,5],[2,3]])\n",
        "print(twodim)\n",
        "print(\"number of Dimentions = \", twodim.ndim)\n",
        "print('Dimention = ', twodim.shape)\n",
        "print('size = ', twodim.size)\n",
        "print('array type = ', twodim.dtype)"
      ],
      "metadata": {
        "colab": {
          "base_uri": "https://localhost:8080/"
        },
        "id": "QtQgoX5UzBnX",
        "outputId": "48cdba49-9653-4591-f8b9-4eab9ab4654e"
      },
      "execution_count": null,
      "outputs": [
        {
          "output_type": "stream",
          "name": "stdout",
          "text": [
            "[[1 3]\n",
            " [5 5]\n",
            " [2 3]]\n",
            "number of Dimentions =  2\n",
            "Dimention =  (3, 2)\n",
            "size =  6\n",
            "array type =  int64\n"
          ]
        }
      ]
    },
    {
      "cell_type": "code",
      "source": [
        "# create length 10 integer array filled with zeros\n",
        "np.zeros(10, dtype = int)"
      ],
      "metadata": {
        "colab": {
          "base_uri": "https://localhost:8080/"
        },
        "id": "riGBIMKhzm5c",
        "outputId": "4dfdd819-61d8-400c-fc9b-6bd1cceaed6a"
      },
      "execution_count": null,
      "outputs": [
        {
          "output_type": "execute_result",
          "data": {
            "text/plain": [
              "array([0, 0, 0, 0, 0, 0, 0, 0, 0, 0])"
            ]
          },
          "metadata": {},
          "execution_count": 21
        }
      ]
    },
    {
      "cell_type": "code",
      "source": [
        "# create 3*5 matrix floating point array filled with ones\n",
        "np.ones((3,5),dtype = float)"
      ],
      "metadata": {
        "colab": {
          "base_uri": "https://localhost:8080/"
        },
        "id": "mKn3dAEQz8y3",
        "outputId": "ae775290-2565-4005-f494-e0b5a51becae"
      },
      "execution_count": null,
      "outputs": [
        {
          "output_type": "execute_result",
          "data": {
            "text/plain": [
              "array([[1., 1., 1., 1., 1.],\n",
              "       [1., 1., 1., 1., 1.],\n",
              "       [1., 1., 1., 1., 1.]])"
            ]
          },
          "metadata": {},
          "execution_count": 22
        }
      ]
    },
    {
      "cell_type": "code",
      "source": [
        "# create an array filled with alinear sequence starting at 0 ending 20 stepping by 2(range func)\n",
        "np.arange(0,20,2)\n"
      ],
      "metadata": {
        "colab": {
          "base_uri": "https://localhost:8080/"
        },
        "id": "_04CCQ9S0Kef",
        "outputId": "87952c0d-66d8-43f4-c813-89dfb0e3216e"
      },
      "execution_count": null,
      "outputs": [
        {
          "output_type": "execute_result",
          "data": {
            "text/plain": [
              "array([ 0,  2,  4,  6,  8, 10, 12, 14, 16, 18])"
            ]
          },
          "metadata": {},
          "execution_count": 23
        }
      ]
    },
    {
      "cell_type": "code",
      "source": [
        "# create array of 5 values evenly spaced between 0 and 1\n",
        "np.linspace(0,1,5)"
      ],
      "metadata": {
        "colab": {
          "base_uri": "https://localhost:8080/"
        },
        "id": "h-UALswH0acI",
        "outputId": "2abc97a9-9bc4-464a-ed60-33b68b71f18f"
      },
      "execution_count": null,
      "outputs": [
        {
          "output_type": "execute_result",
          "data": {
            "text/plain": [
              "array([0.  , 0.25, 0.5 , 0.75, 1.  ])"
            ]
          },
          "metadata": {},
          "execution_count": 24
        }
      ]
    },
    {
      "cell_type": "code",
      "source": [
        "# create 3x3 array of uniformly distributed random values between 0 and 1\n",
        "np.random.random((3,3))"
      ],
      "metadata": {
        "colab": {
          "base_uri": "https://localhost:8080/"
        },
        "id": "cYamlZS20jWF",
        "outputId": "b0fc5e82-b586-4e27-b06b-762addac6268"
      },
      "execution_count": null,
      "outputs": [
        {
          "output_type": "execute_result",
          "data": {
            "text/plain": [
              "array([[0.81498153, 0.93340271, 0.25791565],\n",
              "       [0.14867153, 0.58920514, 0.92417674],\n",
              "       [0.75244367, 0.31879901, 0.35684621]])"
            ]
          },
          "metadata": {},
          "execution_count": 26
        }
      ]
    },
    {
      "cell_type": "code",
      "source": [
        "# create 3x3 array of normally distributed random values with mean = 0 and standard deviation 1\n",
        "np.random.normal(0,10,(3,3))"
      ],
      "metadata": {
        "colab": {
          "base_uri": "https://localhost:8080/"
        },
        "id": "g9K7duTV1UcO",
        "outputId": "2d738552-19ae-4ccf-c8f3-6e517b2686d1"
      },
      "execution_count": null,
      "outputs": [
        {
          "output_type": "execute_result",
          "data": {
            "text/plain": [
              "array([[-4.20816886, -3.02885458,  1.1097691 ],\n",
              "       [-1.81909699, 10.85930013, -3.73203204],\n",
              "       [ 0.83974021, 14.99677172, 18.69389695]])"
            ]
          },
          "metadata": {},
          "execution_count": 27
        }
      ]
    },
    {
      "cell_type": "code",
      "source": [
        "# create 5x5 array of random integer in interval[0,10]\n",
        "np.random.randint(0,10,(5,5))"
      ],
      "metadata": {
        "colab": {
          "base_uri": "https://localhost:8080/"
        },
        "id": "KYKPNm5l1v_Z",
        "outputId": "d57e6e07-2b7e-4886-9527-c86d8da76079"
      },
      "execution_count": null,
      "outputs": [
        {
          "output_type": "execute_result",
          "data": {
            "text/plain": [
              "array([[4, 7, 3, 6, 0],\n",
              "       [9, 5, 0, 4, 2],\n",
              "       [6, 4, 1, 9, 9],\n",
              "       [7, 5, 2, 6, 9],\n",
              "       [6, 7, 4, 5, 4]])"
            ]
          },
          "metadata": {},
          "execution_count": 29
        }
      ]
    },
    {
      "cell_type": "code",
      "source": [
        "# create 10x10 identity matrix\n",
        "np.eye(5)"
      ],
      "metadata": {
        "colab": {
          "base_uri": "https://localhost:8080/"
        },
        "id": "E5Pc2z452D9O",
        "outputId": "62c531fd-86d5-4622-ec3f-d6ee3b8d4fea"
      },
      "execution_count": null,
      "outputs": [
        {
          "output_type": "execute_result",
          "data": {
            "text/plain": [
              "array([[1., 0., 0., 0., 0.],\n",
              "       [0., 1., 0., 0., 0.],\n",
              "       [0., 0., 1., 0., 0.],\n",
              "       [0., 0., 0., 1., 0.],\n",
              "       [0., 0., 0., 0., 1.]])"
            ]
          },
          "metadata": {},
          "execution_count": 30
        }
      ]
    },
    {
      "cell_type": "code",
      "source": [
        "import numpy as np\n",
        "x1 = np.random.randint(10,size=6) #one-dimentional array\n",
        "x2 = np.random.randint(10,size=(3,4)) # 2D array\n",
        "x3 = np.random.randint(10, size=(3,4,5)) # 3D array\n",
        "x1\n",
        "x2\n",
        "x3\n",
        "print('x3 ndim', x3.ndim)\n",
        "print('x3 shape', x3.shape)\n",
        "print('x3 size', x3.size)"
      ],
      "metadata": {
        "id": "Vogn_EKx2PT4",
        "colab": {
          "base_uri": "https://localhost:8080/"
        },
        "outputId": "6132a324-6f60-46e9-8bff-15c14a28e0c8"
      },
      "execution_count": 3,
      "outputs": [
        {
          "output_type": "stream",
          "name": "stdout",
          "text": [
            "x3 ndim 3\n",
            "x3 shape (3, 4, 5)\n",
            "x3 size 60\n"
          ]
        }
      ]
    },
    {
      "cell_type": "code",
      "source": [
        "# accessing numpy array elements\n",
        "x1"
      ],
      "metadata": {
        "colab": {
          "base_uri": "https://localhost:8080/"
        },
        "id": "3pSbr1biaC-Q",
        "outputId": "6f76ed57-8231-4750-e188-4bb2db07d417"
      },
      "execution_count": 4,
      "outputs": [
        {
          "output_type": "execute_result",
          "data": {
            "text/plain": [
              "array([8, 4, 0, 1, 9, 8])"
            ]
          },
          "metadata": {},
          "execution_count": 4
        }
      ]
    },
    {
      "cell_type": "code",
      "source": [
        "x1[0]"
      ],
      "metadata": {
        "colab": {
          "base_uri": "https://localhost:8080/"
        },
        "id": "-8Tpn-rLaSQp",
        "outputId": "a209b54a-fa63-4bec-f4af-a09326f862ec"
      },
      "execution_count": 5,
      "outputs": [
        {
          "output_type": "execute_result",
          "data": {
            "text/plain": [
              "8"
            ]
          },
          "metadata": {},
          "execution_count": 5
        }
      ]
    },
    {
      "cell_type": "code",
      "source": [
        "x1[4]"
      ],
      "metadata": {
        "colab": {
          "base_uri": "https://localhost:8080/"
        },
        "id": "dEscZ9czaUhN",
        "outputId": "a5f0a64e-8e40-4d39-e34b-7637bf4a6529"
      },
      "execution_count": 6,
      "outputs": [
        {
          "output_type": "execute_result",
          "data": {
            "text/plain": [
              "9"
            ]
          },
          "metadata": {},
          "execution_count": 6
        }
      ]
    },
    {
      "cell_type": "code",
      "source": [
        "x1[-1]"
      ],
      "metadata": {
        "colab": {
          "base_uri": "https://localhost:8080/"
        },
        "id": "MOEHmCrhaXLB",
        "outputId": "0ec2ddf5-b8da-4ada-8bbf-d40326609338"
      },
      "execution_count": 7,
      "outputs": [
        {
          "output_type": "execute_result",
          "data": {
            "text/plain": [
              "8"
            ]
          },
          "metadata": {},
          "execution_count": 7
        }
      ]
    },
    {
      "cell_type": "code",
      "source": [
        "x1[-2]"
      ],
      "metadata": {
        "colab": {
          "base_uri": "https://localhost:8080/"
        },
        "id": "sBa6U3X3aaMD",
        "outputId": "07ad7d06-1776-42dc-c629-e05fe657037c"
      },
      "execution_count": 9,
      "outputs": [
        {
          "output_type": "execute_result",
          "data": {
            "text/plain": [
              "9"
            ]
          },
          "metadata": {},
          "execution_count": 9
        }
      ]
    },
    {
      "cell_type": "code",
      "source": [
        "# in multidimenstional array you can access itmes using a comma-separated tuple ofindices\n",
        "x2"
      ],
      "metadata": {
        "colab": {
          "base_uri": "https://localhost:8080/"
        },
        "id": "gCjZbo1dab_t",
        "outputId": "c5669120-f87c-40bc-d984-f5fc50a1e668"
      },
      "execution_count": 10,
      "outputs": [
        {
          "output_type": "execute_result",
          "data": {
            "text/plain": [
              "array([[9, 2, 6, 4],\n",
              "       [7, 8, 2, 8],\n",
              "       [1, 9, 1, 1]])"
            ]
          },
          "metadata": {},
          "execution_count": 10
        }
      ]
    },
    {
      "cell_type": "code",
      "source": [
        "x2[0,0]"
      ],
      "metadata": {
        "colab": {
          "base_uri": "https://localhost:8080/"
        },
        "id": "6vCVVjtDav-7",
        "outputId": "2ee9452d-c18e-4057-b6a2-b0a521ed5169"
      },
      "execution_count": 11,
      "outputs": [
        {
          "output_type": "execute_result",
          "data": {
            "text/plain": [
              "9"
            ]
          },
          "metadata": {},
          "execution_count": 11
        }
      ]
    },
    {
      "cell_type": "code",
      "source": [
        "x2[2,0]"
      ],
      "metadata": {
        "colab": {
          "base_uri": "https://localhost:8080/"
        },
        "id": "Jp4RYTwaazqT",
        "outputId": "e7cab79a-778c-49d1-f374-201e94b54946"
      },
      "execution_count": 12,
      "outputs": [
        {
          "output_type": "execute_result",
          "data": {
            "text/plain": [
              "1"
            ]
          },
          "metadata": {},
          "execution_count": 12
        }
      ]
    },
    {
      "cell_type": "code",
      "source": [
        "x2[2,-1]"
      ],
      "metadata": {
        "colab": {
          "base_uri": "https://localhost:8080/"
        },
        "id": "K4ApaNvAa2xg",
        "outputId": "d9e42f6f-443e-43bc-cbc4-b4e75f41bce2"
      },
      "execution_count": 13,
      "outputs": [
        {
          "output_type": "execute_result",
          "data": {
            "text/plain": [
              "1"
            ]
          },
          "metadata": {},
          "execution_count": 13
        }
      ]
    },
    {
      "cell_type": "code",
      "source": [
        "# modify values using any of the above index notatoin\n",
        "x2[0,0] = 88\n",
        "x2"
      ],
      "metadata": {
        "colab": {
          "base_uri": "https://localhost:8080/"
        },
        "id": "wNKAtc2oa6gG",
        "outputId": "45e31377-171e-474f-a564-b28a56ff4b3e"
      },
      "execution_count": 15,
      "outputs": [
        {
          "output_type": "execute_result",
          "data": {
            "text/plain": [
              "array([[88,  2,  6,  4],\n",
              "       [ 7,  8,  2,  8],\n",
              "       [ 1,  9,  1,  1]])"
            ]
          },
          "metadata": {},
          "execution_count": 15
        }
      ]
    },
    {
      "cell_type": "code",
      "source": [
        "# slicing numpy array => array[start, stop, step]\n",
        "x=np.arange(10)\n",
        "x"
      ],
      "metadata": {
        "colab": {
          "base_uri": "https://localhost:8080/"
        },
        "id": "39qn-11CbFsV",
        "outputId": "be51544e-d551-4956-af6b-5da9c5d749fa"
      },
      "execution_count": 16,
      "outputs": [
        {
          "output_type": "execute_result",
          "data": {
            "text/plain": [
              "array([0, 1, 2, 3, 4, 5, 6, 7, 8, 9])"
            ]
          },
          "metadata": {},
          "execution_count": 16
        }
      ]
    },
    {
      "cell_type": "code",
      "source": [
        "x[:5] # first 5 elements"
      ],
      "metadata": {
        "colab": {
          "base_uri": "https://localhost:8080/"
        },
        "id": "_oLium6ibUnZ",
        "outputId": "c5deaebd-36a2-4a21-b845-5012bf41a4f9"
      },
      "execution_count": 17,
      "outputs": [
        {
          "output_type": "execute_result",
          "data": {
            "text/plain": [
              "array([0, 1, 2, 3, 4])"
            ]
          },
          "metadata": {},
          "execution_count": 17
        }
      ]
    },
    {
      "cell_type": "code",
      "source": [
        "x[:5] #last five elements"
      ],
      "metadata": {
        "colab": {
          "base_uri": "https://localhost:8080/"
        },
        "id": "89Y-Cz7ObYU5",
        "outputId": "70b09837-13cb-458a-b9d9-b6ac2807bf31"
      },
      "execution_count": 18,
      "outputs": [
        {
          "output_type": "execute_result",
          "data": {
            "text/plain": [
              "array([0, 1, 2, 3, 4])"
            ]
          },
          "metadata": {},
          "execution_count": 18
        }
      ]
    },
    {
      "cell_type": "code",
      "source": [
        "x[4:7]"
      ],
      "metadata": {
        "colab": {
          "base_uri": "https://localhost:8080/"
        },
        "id": "ye_C-aC3bZ8X",
        "outputId": "272a8cf5-1710-46e9-dfb0-dc3a3b1844ff"
      },
      "execution_count": 19,
      "outputs": [
        {
          "output_type": "execute_result",
          "data": {
            "text/plain": [
              "array([4, 5, 6])"
            ]
          },
          "metadata": {},
          "execution_count": 19
        }
      ]
    },
    {
      "cell_type": "code",
      "source": [
        "x[::2] #every other element"
      ],
      "metadata": {
        "colab": {
          "base_uri": "https://localhost:8080/"
        },
        "id": "StxMDZ6hbmiK",
        "outputId": "5f65fb18-3b76-4498-a456-9b23e301fce9"
      },
      "execution_count": 20,
      "outputs": [
        {
          "output_type": "execute_result",
          "data": {
            "text/plain": [
              "array([0, 2, 4, 6, 8])"
            ]
          },
          "metadata": {},
          "execution_count": 20
        }
      ]
    },
    {
      "cell_type": "code",
      "source": [
        "x[1::2] #every other element starting from 1"
      ],
      "metadata": {
        "colab": {
          "base_uri": "https://localhost:8080/"
        },
        "id": "2F1PaeJsbvcB",
        "outputId": "6d2fa41f-d545-4415-b525-d62553decc8b"
      },
      "execution_count": 21,
      "outputs": [
        {
          "output_type": "execute_result",
          "data": {
            "text/plain": [
              "array([1, 3, 5, 7, 9])"
            ]
          },
          "metadata": {},
          "execution_count": 21
        }
      ]
    },
    {
      "cell_type": "code",
      "source": [
        "# if step value is negative, defualt for start and stop are swapped=>reverse array\n",
        "\n",
        "x[::-1] # all elements reveresed"
      ],
      "metadata": {
        "colab": {
          "base_uri": "https://localhost:8080/"
        },
        "id": "FTLN3Yo7bzvj",
        "outputId": "0d97d88d-456a-48bd-81fb-203ea26de9ab"
      },
      "execution_count": 22,
      "outputs": [
        {
          "output_type": "execute_result",
          "data": {
            "text/plain": [
              "array([9, 8, 7, 6, 5, 4, 3, 2, 1, 0])"
            ]
          },
          "metadata": {},
          "execution_count": 22
        }
      ]
    },
    {
      "cell_type": "code",
      "source": [
        "x[5::-2] # reversed every other from index 5"
      ],
      "metadata": {
        "colab": {
          "base_uri": "https://localhost:8080/"
        },
        "id": "pupatgDCcK34",
        "outputId": "f329e910-2c2e-4a3d-fcb3-45487e5a1141"
      },
      "execution_count": 23,
      "outputs": [
        {
          "output_type": "execute_result",
          "data": {
            "text/plain": [
              "array([5, 3, 1])"
            ]
          },
          "metadata": {},
          "execution_count": 23
        }
      ]
    },
    {
      "cell_type": "code",
      "source": [
        "x2"
      ],
      "metadata": {
        "colab": {
          "base_uri": "https://localhost:8080/"
        },
        "id": "XqK-m4e9cfEj",
        "outputId": "d7848234-d627-40bf-a355-799f8584d3a7"
      },
      "execution_count": 24,
      "outputs": [
        {
          "output_type": "execute_result",
          "data": {
            "text/plain": [
              "array([[88,  2,  6,  4],\n",
              "       [ 7,  8,  2,  8],\n",
              "       [ 1,  9,  1,  1]])"
            ]
          },
          "metadata": {},
          "execution_count": 24
        }
      ]
    },
    {
      "cell_type": "code",
      "source": [
        "x2[:2,:3]  #two rows and three columns"
      ],
      "metadata": {
        "colab": {
          "base_uri": "https://localhost:8080/"
        },
        "id": "-i-zSp1qcf-y",
        "outputId": "49a0620e-88a1-47b6-e32b-69309247293b"
      },
      "execution_count": 25,
      "outputs": [
        {
          "output_type": "execute_result",
          "data": {
            "text/plain": [
              "array([[88,  2,  6],\n",
              "       [ 7,  8,  2]])"
            ]
          },
          "metadata": {},
          "execution_count": 25
        }
      ]
    },
    {
      "cell_type": "code",
      "source": [
        "x2[:3,::2] # all rows, every other column"
      ],
      "metadata": {
        "colab": {
          "base_uri": "https://localhost:8080/"
        },
        "id": "PRn5Ildrc6Ff",
        "outputId": "caef862f-b746-47bb-ff67-834279f46790"
      },
      "execution_count": 26,
      "outputs": [
        {
          "output_type": "execute_result",
          "data": {
            "text/plain": [
              "array([[88,  6],\n",
              "       [ 7,  2],\n",
              "       [ 1,  1]])"
            ]
          },
          "metadata": {},
          "execution_count": 26
        }
      ]
    },
    {
      "cell_type": "code",
      "source": [
        "print(x2[:,0]) # first column"
      ],
      "metadata": {
        "colab": {
          "base_uri": "https://localhost:8080/"
        },
        "id": "tHLaP0C0dF3R",
        "outputId": "83399939-ba23-41df-932a-5d21e2f5ee65"
      },
      "execution_count": 27,
      "outputs": [
        {
          "output_type": "stream",
          "name": "stdout",
          "text": [
            "[88  7  1]\n"
          ]
        }
      ]
    },
    {
      "cell_type": "code",
      "source": [
        "print(x2[0,:]) # first row"
      ],
      "metadata": {
        "colab": {
          "base_uri": "https://localhost:8080/"
        },
        "id": "oiusNzEHdWEK",
        "outputId": "52511660-3110-4d6d-9eb5-e24aed6e473e"
      },
      "execution_count": 29,
      "outputs": [
        {
          "output_type": "stream",
          "name": "stdout",
          "text": [
            "[88  2  6  4]\n"
          ]
        }
      ]
    },
    {
      "cell_type": "code",
      "source": [
        "x2"
      ],
      "metadata": {
        "colab": {
          "base_uri": "https://localhost:8080/"
        },
        "id": "ufwlw45Qdy67",
        "outputId": "dc4952cd-6ce0-4e63-f01d-9050c310603c"
      },
      "execution_count": 30,
      "outputs": [
        {
          "output_type": "execute_result",
          "data": {
            "text/plain": [
              "array([[88,  2,  6,  4],\n",
              "       [ 7,  8,  2,  8],\n",
              "       [ 1,  9,  1,  1]])"
            ]
          },
          "metadata": {},
          "execution_count": 30
        }
      ]
    },
    {
      "cell_type": "code",
      "source": [
        "x2_sub =x2[:2,:2]\n",
        "print(x2_sub)"
      ],
      "metadata": {
        "colab": {
          "base_uri": "https://localhost:8080/"
        },
        "id": "ZNgrGvkZeBu3",
        "outputId": "33673ad5-7286-4142-e363-7c180c065081"
      },
      "execution_count": 32,
      "outputs": [
        {
          "output_type": "stream",
          "name": "stdout",
          "text": [
            "[[88  2]\n",
            " [ 7  8]]\n"
          ]
        }
      ]
    },
    {
      "cell_type": "code",
      "source": [
        "x2_sub[1,1]=99\n",
        "print(x2_sub)"
      ],
      "metadata": {
        "colab": {
          "base_uri": "https://localhost:8080/"
        },
        "id": "-0EpicxOeF8t",
        "outputId": "cb855893-5b06-4db1-887a-ec81d140419d"
      },
      "execution_count": 33,
      "outputs": [
        {
          "output_type": "stream",
          "name": "stdout",
          "text": [
            "[[88  2]\n",
            " [ 7 99]]\n"
          ]
        }
      ]
    },
    {
      "cell_type": "code",
      "source": [
        "print(x2)"
      ],
      "metadata": {
        "colab": {
          "base_uri": "https://localhost:8080/"
        },
        "id": "TXYe3T_OeTm_",
        "outputId": "2ab547a6-608c-4bde-d791-99a762d9f17c"
      },
      "execution_count": 34,
      "outputs": [
        {
          "output_type": "stream",
          "name": "stdout",
          "text": [
            "[[88  2  6  4]\n",
            " [ 7 99  2  8]\n",
            " [ 1  9  1  1]]\n"
          ]
        }
      ]
    },
    {
      "cell_type": "code",
      "source": [
        "# to create a copy of numpy array\n",
        "\n",
        "x2_sub_copy =x2[:2,:2].copy()\n",
        "print(x2_sub_copy)"
      ],
      "metadata": {
        "colab": {
          "base_uri": "https://localhost:8080/"
        },
        "id": "gCigl8EeeWtG",
        "outputId": "8692f923-a9ed-47be-a8d9-76d81c0399cd"
      },
      "execution_count": 35,
      "outputs": [
        {
          "output_type": "stream",
          "name": "stdout",
          "text": [
            "[[88  2]\n",
            " [ 7 99]]\n"
          ]
        }
      ]
    },
    {
      "cell_type": "code",
      "source": [
        "x2_sub_copy[0,0]=42\n",
        "x2_sub_copy"
      ],
      "metadata": {
        "colab": {
          "base_uri": "https://localhost:8080/"
        },
        "id": "msRIQeQ5esgU",
        "outputId": "df3622a0-3e79-4ee2-e738-13c405d575cc"
      },
      "execution_count": 37,
      "outputs": [
        {
          "output_type": "execute_result",
          "data": {
            "text/plain": [
              "array([[42,  2],\n",
              "       [ 7, 99]])"
            ]
          },
          "metadata": {},
          "execution_count": 37
        }
      ]
    },
    {
      "cell_type": "code",
      "source": [
        "print(x2)"
      ],
      "metadata": {
        "colab": {
          "base_uri": "https://localhost:8080/"
        },
        "id": "r1O-5x9tex-g",
        "outputId": "6b51a59f-e9bc-4592-febc-088e09860353"
      },
      "execution_count": 38,
      "outputs": [
        {
          "output_type": "stream",
          "name": "stdout",
          "text": [
            "[[88  2  6  4]\n",
            " [ 7 99  2  8]\n",
            " [ 1  9  1  1]]\n"
          ]
        }
      ]
    },
    {
      "cell_type": "code",
      "source": [
        "# reshaping arrays\n",
        "grid =np.arange(1,10).reshape((3,3))\n",
        "grid"
      ],
      "metadata": {
        "colab": {
          "base_uri": "https://localhost:8080/"
        },
        "id": "NnNy6R9ae3CB",
        "outputId": "4b399667-538d-46ea-c8f7-6e863c9f4ae7"
      },
      "execution_count": 40,
      "outputs": [
        {
          "output_type": "execute_result",
          "data": {
            "text/plain": [
              "array([[1, 2, 3],\n",
              "       [4, 5, 6],\n",
              "       [7, 8, 9]])"
            ]
          },
          "metadata": {},
          "execution_count": 40
        }
      ]
    },
    {
      "cell_type": "code",
      "source": [
        "# common reshaping pattern = conversion of none dimentional array into two-dimensional array\n",
        "x = np.array([1,2,3])\n",
        "x.reshape((1,3)) # row vector via reshape\n",
        "x.reshape((3,1)) # column vector via reshape"
      ],
      "metadata": {
        "colab": {
          "base_uri": "https://localhost:8080/"
        },
        "id": "bHkSbUz5fBfd",
        "outputId": "f79d8648-ce3a-4e31-8354-c041c03673fc"
      },
      "execution_count": 42,
      "outputs": [
        {
          "output_type": "execute_result",
          "data": {
            "text/plain": [
              "array([[1],\n",
              "       [2],\n",
              "       [3]])"
            ]
          },
          "metadata": {},
          "execution_count": 42
        }
      ]
    },
    {
      "cell_type": "code",
      "source": [
        "grid.flatten()"
      ],
      "metadata": {
        "colab": {
          "base_uri": "https://localhost:8080/"
        },
        "id": "HrhnsiCOfZWM",
        "outputId": "ba417faf-d8ea-4510-b249-86a528867d51"
      },
      "execution_count": 43,
      "outputs": [
        {
          "output_type": "execute_result",
          "data": {
            "text/plain": [
              "array([1, 2, 3, 4, 5, 6, 7, 8, 9])"
            ]
          },
          "metadata": {},
          "execution_count": 43
        }
      ]
    },
    {
      "cell_type": "code",
      "source": [
        "unsorted_array=  np.random.randint(1,50,20)\n",
        "unsorted_array"
      ],
      "metadata": {
        "colab": {
          "base_uri": "https://localhost:8080/"
        },
        "id": "wKW51cFIfsgL",
        "outputId": "ce4ddfa7-7517-4758-e6ef-afcc91a4eca9"
      },
      "execution_count": 44,
      "outputs": [
        {
          "output_type": "execute_result",
          "data": {
            "text/plain": [
              "array([19,  7, 47, 49, 27, 23, 15, 31,  5,  9, 31, 49, 41, 28, 13, 17, 47,\n",
              "       24, 17, 15])"
            ]
          },
          "metadata": {},
          "execution_count": 44
        }
      ]
    },
    {
      "cell_type": "code",
      "source": [
        "sorted_array  = np.sort(unsorted_array)\n",
        "sorted_array"
      ],
      "metadata": {
        "colab": {
          "base_uri": "https://localhost:8080/"
        },
        "id": "et8Mi4JEgB4i",
        "outputId": "697e517c-86a3-4145-e39a-496a877e5736"
      },
      "execution_count": 45,
      "outputs": [
        {
          "output_type": "execute_result",
          "data": {
            "text/plain": [
              "array([ 5,  7,  9, 13, 15, 15, 17, 17, 19, 23, 24, 27, 28, 31, 31, 41, 47,\n",
              "       47, 49, 49])"
            ]
          },
          "metadata": {},
          "execution_count": 45
        }
      ]
    },
    {
      "cell_type": "code",
      "source": [
        "unsorted_array=  np.random.randint(1,50, size = (3,4))\n",
        "unsorted_array"
      ],
      "metadata": {
        "colab": {
          "base_uri": "https://localhost:8080/"
        },
        "id": "HL-3pK1cgJnE",
        "outputId": "7858e038-7ca0-481d-b4fa-520076691651"
      },
      "execution_count": 46,
      "outputs": [
        {
          "output_type": "execute_result",
          "data": {
            "text/plain": [
              "array([[43, 20, 33,  5],\n",
              "       [15,  3, 37, 18],\n",
              "       [21, 27, 44, 26]])"
            ]
          },
          "metadata": {},
          "execution_count": 46
        }
      ]
    },
    {
      "cell_type": "code",
      "source": [
        "np.sort(unsorted_array)"
      ],
      "metadata": {
        "colab": {
          "base_uri": "https://localhost:8080/"
        },
        "id": "5DkPxhdwgUar",
        "outputId": "89be1d48-d5b9-47ba-fe41-2c8ec32898b8"
      },
      "execution_count": 47,
      "outputs": [
        {
          "output_type": "execute_result",
          "data": {
            "text/plain": [
              "array([[ 5, 20, 33, 43],\n",
              "       [ 3, 15, 18, 37],\n",
              "       [21, 26, 27, 44]])"
            ]
          },
          "metadata": {},
          "execution_count": 47
        }
      ]
    },
    {
      "cell_type": "code",
      "source": [
        "arr = np.array([2,3,50,1,3,8,7,66,77]).reshape(3,3)\n",
        "print(arr)\n",
        "sortIndex = np.argsort(arr,axis = 0)\n",
        "print(sortIndex)\n"
      ],
      "metadata": {
        "colab": {
          "base_uri": "https://localhost:8080/"
        },
        "id": "5lXDNeOhgZto",
        "outputId": "e7472465-54d8-4abf-a6a8-54221639866b"
      },
      "execution_count": 56,
      "outputs": [
        {
          "output_type": "stream",
          "name": "stdout",
          "text": [
            "[[ 2  3 50]\n",
            " [ 1  3  8]\n",
            " [ 7 66 77]]\n",
            "[[1 0 1]\n",
            " [0 1 0]\n",
            " [2 2 2]]\n"
          ]
        }
      ]
    },
    {
      "cell_type": "code",
      "source": [
        "arr = np.array([2,3,50,1,3,8])\n",
        "print(arr)"
      ],
      "metadata": {
        "colab": {
          "base_uri": "https://localhost:8080/"
        },
        "id": "J2x7bRD7iMQp",
        "outputId": "2b99dbf1-1452-4143-afac-9ec602d08cf7"
      },
      "execution_count": 53,
      "outputs": [
        {
          "output_type": "stream",
          "name": "stdout",
          "text": [
            "[ 2  3 50  1  3  8]\n"
          ]
        }
      ]
    },
    {
      "cell_type": "code",
      "source": [
        "sortIndex = np.argsort(arr)\n",
        "print(sortIndex)"
      ],
      "metadata": {
        "colab": {
          "base_uri": "https://localhost:8080/"
        },
        "id": "D33NnGnvi2OJ",
        "outputId": "ed7855c2-d6d7-40b4-c35e-d4bd8ca9f547"
      },
      "execution_count": 54,
      "outputs": [
        {
          "output_type": "stream",
          "name": "stdout",
          "text": [
            "[3 0 1 4 5 2]\n"
          ]
        }
      ]
    },
    {
      "cell_type": "code",
      "source": [
        "arr = np.array([2,3,50,1,3,8,7,66,77]).reshape(3,3)\n",
        "print(arr)\n",
        "sortIndex = np.argsort(arr,axis = 1) #row\n",
        "print(sortIndex)\n"
      ],
      "metadata": {
        "colab": {
          "base_uri": "https://localhost:8080/"
        },
        "id": "B445xn_si7Ip",
        "outputId": "1efcaf69-5735-443e-d790-debcd62affcb"
      },
      "execution_count": 57,
      "outputs": [
        {
          "output_type": "stream",
          "name": "stdout",
          "text": [
            "[[ 2  3 50]\n",
            " [ 1  3  8]\n",
            " [ 7 66 77]]\n",
            "[[0 1 2]\n",
            " [0 1 2]\n",
            " [0 1 2]]\n"
          ]
        }
      ]
    },
    {
      "cell_type": "code",
      "source": [
        "a = np.array([[2,35,2],[4,5,2],[7,0,5]])\n",
        "print(np.sort(a)) # sort row-wise\n"
      ],
      "metadata": {
        "colab": {
          "base_uri": "https://localhost:8080/"
        },
        "id": "PQurh_SIj2ne",
        "outputId": "72619719-8f7b-4ec4-e142-05239a5b3d29"
      },
      "execution_count": 63,
      "outputs": [
        {
          "output_type": "stream",
          "name": "stdout",
          "text": [
            "[[ 2  2 35]\n",
            " [ 2  4  5]\n",
            " [ 0  5  7]]\n"
          ]
        }
      ]
    },
    {
      "cell_type": "code",
      "source": [
        "a = np.array([[2,35,2],[4,5,2],[7,0,5]])\n",
        "b= np.sort(a, axis =0)\n",
        "print(a)\n",
        "print('---------------------')\n",
        "print(b) # sort column wise\n"
      ],
      "metadata": {
        "colab": {
          "base_uri": "https://localhost:8080/"
        },
        "id": "RGZ_M_tBj7Ir",
        "outputId": "fc29681b-37b6-4b6f-bc81-8073c67ae17a"
      },
      "execution_count": 66,
      "outputs": [
        {
          "output_type": "stream",
          "name": "stdout",
          "text": [
            "[[ 2 35  2]\n",
            " [ 4  5  2]\n",
            " [ 7  0  5]]\n",
            "---------------------\n",
            "[[ 2  0  2]\n",
            " [ 4  5  2]\n",
            " [ 7 35  5]]\n"
          ]
        }
      ]
    },
    {
      "cell_type": "code",
      "source": [
        "np.concatenate([a,b]) # fist axis"
      ],
      "metadata": {
        "colab": {
          "base_uri": "https://localhost:8080/"
        },
        "id": "-qZAh1udkeu3",
        "outputId": "397bf2af-f611-478a-f3a3-7d3000c65157"
      },
      "execution_count": 68,
      "outputs": [
        {
          "output_type": "execute_result",
          "data": {
            "text/plain": [
              "array([[ 2, 35,  2],\n",
              "       [ 4,  5,  2],\n",
              "       [ 7,  0,  5],\n",
              "       [ 2,  0,  2],\n",
              "       [ 4,  5,  2],\n",
              "       [ 7, 35,  5]])"
            ]
          },
          "metadata": {},
          "execution_count": 68
        }
      ]
    },
    {
      "cell_type": "code",
      "source": [
        "np.concatenate([a,b], axis = 1) # second axis"
      ],
      "metadata": {
        "colab": {
          "base_uri": "https://localhost:8080/"
        },
        "id": "xAnLiwctk3Pj",
        "outputId": "9d1691e0-2964-4180-e408-fec78501316a"
      },
      "execution_count": 69,
      "outputs": [
        {
          "output_type": "execute_result",
          "data": {
            "text/plain": [
              "array([[ 2, 35,  2,  2,  0,  2],\n",
              "       [ 4,  5,  2,  4,  5,  2],\n",
              "       [ 7,  0,  5,  7, 35,  5]])"
            ]
          },
          "metadata": {},
          "execution_count": 69
        }
      ]
    },
    {
      "cell_type": "code",
      "source": [
        "import numpy as np\n",
        "# np.vstack and np.hstack\n",
        "a = np.array([[1,3,4],[2,3,5]])\n",
        "b = np.array([1,3,4])\n",
        "np.vstack([a,b])"
      ],
      "metadata": {
        "colab": {
          "base_uri": "https://localhost:8080/"
        },
        "id": "IJaUWxEn4HNc",
        "outputId": "adf7ebbc-f48f-48f3-91ce-95b3caea84d2"
      },
      "execution_count": 4,
      "outputs": [
        {
          "output_type": "execute_result",
          "data": {
            "text/plain": [
              "array([[1, 3, 4],\n",
              "       [2, 3, 5],\n",
              "       [1, 3, 4]])"
            ]
          },
          "metadata": {},
          "execution_count": 4
        }
      ]
    },
    {
      "cell_type": "code",
      "source": [
        "c = np.array([[22,44,55],[3,5,6]])\n",
        "np.hstack([a,c])"
      ],
      "metadata": {
        "colab": {
          "base_uri": "https://localhost:8080/"
        },
        "id": "BtOMkRHd4me8",
        "outputId": "0992b65b-7ef0-43ba-afb1-63450daa01f0"
      },
      "execution_count": 8,
      "outputs": [
        {
          "output_type": "execute_result",
          "data": {
            "text/plain": [
              "array([[ 1,  3,  4, 22, 44, 55],\n",
              "       [ 2,  3,  5,  3,  5,  6]])"
            ]
          },
          "metadata": {},
          "execution_count": 8
        }
      ]
    },
    {
      "cell_type": "code",
      "source": [
        "x = [1,2,3,4,5,6,7]\n",
        "x1,x2,x3 = np.split(x,[3,5])\n",
        "print(x1,x2,x3)\n",
        "x0 = [1,2,3,99,99,2,1]\n",
        "x4, x5, x6 = np.split(x0,[3,5])\n",
        "print(x4,x5,x6)"
      ],
      "metadata": {
        "colab": {
          "base_uri": "https://localhost:8080/"
        },
        "id": "R8iPAWSK5BH5",
        "outputId": "461ea5d9-3fdc-4de3-f535-96db5512afbb"
      },
      "execution_count": 11,
      "outputs": [
        {
          "output_type": "stream",
          "name": "stdout",
          "text": [
            "[1 2 3] [4 5] [6 7]\n",
            "[1 2 3] [99 99] [2 1]\n"
          ]
        }
      ]
    },
    {
      "cell_type": "code",
      "source": [
        "grid = np.arange(16).reshape((4,4))\n",
        "grid"
      ],
      "metadata": {
        "colab": {
          "base_uri": "https://localhost:8080/"
        },
        "id": "5Mj_Apuh5ldu",
        "outputId": "a80f39de-df87-4a3e-810c-1cdacfdadbbc"
      },
      "execution_count": 14,
      "outputs": [
        {
          "output_type": "execute_result",
          "data": {
            "text/plain": [
              "array([[ 0,  1,  2,  3],\n",
              "       [ 4,  5,  6,  7],\n",
              "       [ 8,  9, 10, 11],\n",
              "       [12, 13, 14, 15]])"
            ]
          },
          "metadata": {},
          "execution_count": 14
        }
      ]
    },
    {
      "cell_type": "code",
      "source": [
        "upper, lower = np.vsplit(grid,[2])\n",
        "print(upper)\n",
        "print(lower)"
      ],
      "metadata": {
        "colab": {
          "base_uri": "https://localhost:8080/"
        },
        "id": "j2Hz5tb06II-",
        "outputId": "a68ae370-f0b5-4e49-fcdf-0cefaaa3dfbf"
      },
      "execution_count": 15,
      "outputs": [
        {
          "output_type": "stream",
          "name": "stdout",
          "text": [
            "[[0 1 2 3]\n",
            " [4 5 6 7]]\n",
            "[[ 8  9 10 11]\n",
            " [12 13 14 15]]\n"
          ]
        }
      ]
    },
    {
      "cell_type": "code",
      "source": [
        "upper, lower = np.vsplit(grid,[3])\n",
        "print(upper)\n",
        "print(lower)"
      ],
      "metadata": {
        "colab": {
          "base_uri": "https://localhost:8080/"
        },
        "id": "FXhQRUfF6UrR",
        "outputId": "c327c0a5-4363-428f-ecf9-126bad3030ed"
      },
      "execution_count": 18,
      "outputs": [
        {
          "output_type": "stream",
          "name": "stdout",
          "text": [
            "[[ 0  1  2  3]\n",
            " [ 4  5  6  7]\n",
            " [ 8  9 10 11]]\n",
            "[[12 13 14 15]]\n"
          ]
        }
      ]
    },
    {
      "cell_type": "code",
      "source": [
        "# append, insert, delete on numpy arrays\n",
        "y = np.array([0,1,2])\n",
        "X = np.array([1,2,3,4,5,6]).reshape(2,3)\n",
        "y= np.append(y,[3,4])\n",
        "z = np.insert(y, 1,[5,6])\n",
        "Y= np.delete(X,1,axis =0)\n",
        "Z = np.delete(X,1,axis = 1)\n",
        "print('for 1D array')\n",
        "print(y)\n",
        "print(z)\n",
        "print('for 2D array')\n",
        "print(X)\n",
        "print(Y)\n",
        "print(Z)\n"
      ],
      "metadata": {
        "colab": {
          "base_uri": "https://localhost:8080/"
        },
        "id": "8SKIFhZ46fOb",
        "outputId": "4c87f094-12a6-4eb3-ef54-3e451f65d1d5"
      },
      "execution_count": 19,
      "outputs": [
        {
          "output_type": "stream",
          "name": "stdout",
          "text": [
            "for 1D array\n",
            "[0 1 2 3 4]\n",
            "[0 5 6 1 2 3 4]\n",
            "for 2D array\n",
            "[[1 2 3]\n",
            " [4 5 6]]\n",
            "[[1 2 3]]\n",
            "[[1 3]\n",
            " [4 6]]\n"
          ]
        }
      ]
    },
    {
      "cell_type": "code",
      "source": [
        "# numpy uses standard arithmatic operations +,-,*,/\n",
        "\n",
        "x = np.arange(4)\n",
        "print('x = ', x)\n",
        "print('x+5 = ', x+5)\n",
        "print('x-5 = ',x-5)\n",
        "print('x*5 = ',x*5)\n",
        "print('x/5 = ', x/5)\n",
        "print('-x = ', -x)\n",
        "print('x**2 = ', x**2)\n",
        "print('x%2 = ', x%2)\n",
        "print(np.add(x,2))\n",
        "print(np.subtract(x,1))\n",
        "print(np.negative(x))\n",
        "print(np.multiply(x,4))\n",
        "print(np.divide(x,2))\n",
        "print(np.floor_divide(x,2))\n",
        "print(np.power(x,5))\n",
        "print(np.mod(x,5))"
      ],
      "metadata": {
        "colab": {
          "base_uri": "https://localhost:8080/"
        },
        "id": "sRT467gL7Lnp",
        "outputId": "740d75b9-3f3b-47ce-84d2-1fed8e4b4102"
      },
      "execution_count": 25,
      "outputs": [
        {
          "output_type": "stream",
          "name": "stdout",
          "text": [
            "x =  [0 1 2 3]\n",
            "x+5 =  [5 6 7 8]\n",
            "x-5 =  [-5 -4 -3 -2]\n",
            "x*5 =  [ 0  5 10 15]\n",
            "x/5 =  [0.  0.2 0.4 0.6]\n",
            "-x =  [ 0 -1 -2 -3]\n",
            "x**2 =  [0 1 4 9]\n",
            "x%2 =  [0 1 0 1]\n",
            "[2 3 4 5]\n",
            "[-1  0  1  2]\n",
            "[ 0 -1 -2 -3]\n",
            "[ 0  4  8 12]\n",
            "[0.  0.5 1.  1.5]\n",
            "[0 0 1 1]\n",
            "[  0   1  32 243]\n",
            "[0 1 2 3]\n"
          ]
        }
      ]
    },
    {
      "cell_type": "code",
      "source": [
        "# absolute value\n",
        "a = np.array([-5])\n",
        "abs(a)"
      ],
      "metadata": {
        "colab": {
          "base_uri": "https://localhost:8080/"
        },
        "id": "BkloiY8W8AtF",
        "outputId": "d6fcd6d9-eb64-40e1-971c-c6fc3865c012"
      },
      "execution_count": 27,
      "outputs": [
        {
          "output_type": "execute_result",
          "data": {
            "text/plain": [
              "array([5])"
            ]
          },
          "metadata": {},
          "execution_count": 27
        }
      ]
    },
    {
      "cell_type": "code",
      "source": [
        "np.absolute(a)"
      ],
      "metadata": {
        "colab": {
          "base_uri": "https://localhost:8080/"
        },
        "id": "bQpjM_vI9BVT",
        "outputId": "6829ebcc-4dce-4110-daf8-f0b2bfb1c6aa"
      },
      "execution_count": 28,
      "outputs": [
        {
          "output_type": "execute_result",
          "data": {
            "text/plain": [
              "array([5])"
            ]
          },
          "metadata": {},
          "execution_count": 28
        }
      ]
    },
    {
      "cell_type": "code",
      "source": [
        "np.abs(a)"
      ],
      "metadata": {
        "colab": {
          "base_uri": "https://localhost:8080/"
        },
        "id": "luMMghCz9I0X",
        "outputId": "284e430e-3789-4b8b-dae1-88f83a4f3a31"
      },
      "execution_count": 29,
      "outputs": [
        {
          "output_type": "execute_result",
          "data": {
            "text/plain": [
              "array([5])"
            ]
          },
          "metadata": {},
          "execution_count": 29
        }
      ]
    },
    {
      "cell_type": "code",
      "source": [
        "# trigonomteric functions\n",
        "theta = np.linspace(0,np.pi,3)\n",
        "print('theta = ', theta)\n",
        "print('sin(theta) = ', np.sin(theta))\n",
        "print('cos(theta) = ', np.cos(theta))\n",
        "print('tan(theta) = ', np.tan(theta))"
      ],
      "metadata": {
        "colab": {
          "base_uri": "https://localhost:8080/"
        },
        "id": "8DCr8mLh9KrS",
        "outputId": "8c80821b-2c09-4817-9243-cb50c15f32b6"
      },
      "execution_count": 31,
      "outputs": [
        {
          "output_type": "stream",
          "name": "stdout",
          "text": [
            "theta =  [0.         1.57079633 3.14159265]\n",
            "sin(theta) =  [0.0000000e+00 1.0000000e+00 1.2246468e-16]\n",
            "cos(theta) =  [ 1.000000e+00  6.123234e-17 -1.000000e+00]\n",
            "tan(theta) =  [ 0.00000000e+00  1.63312394e+16 -1.22464680e-16]\n"
          ]
        }
      ]
    },
    {
      "cell_type": "code",
      "source": [
        "# exponents and logarithms\n",
        "x = [1,3,4]\n",
        "print('x =',x)\n",
        "print('e^x = ', np.exp(x))\n",
        "print('2^x = ', np.exp2(x))\n",
        "print('3^x = ', np.power(3,x))"
      ],
      "metadata": {
        "colab": {
          "base_uri": "https://localhost:8080/"
        },
        "id": "0BuCaO9S9T3x",
        "outputId": "90a28fae-ddab-4a25-a406-722d443d6b73"
      },
      "execution_count": 32,
      "outputs": [
        {
          "output_type": "stream",
          "name": "stdout",
          "text": [
            "x = [1, 3, 4]\n",
            "e^x =  [ 2.71828183 20.08553692 54.59815003]\n",
            "2^x =  [ 2.  8. 16.]\n",
            "3^x =  [ 3 27 81]\n"
          ]
        }
      ]
    },
    {
      "cell_type": "code",
      "source": [
        "\n",
        "print('ln(x) = ', np.log(x))\n",
        "print('log2(x) = ', np.log2(x))\n",
        "print('log10(x) = ', np.log10(x))"
      ],
      "metadata": {
        "colab": {
          "base_uri": "https://localhost:8080/"
        },
        "id": "wst5al4v9_17",
        "outputId": "9101a25d-25dd-4756-ea88-6fa4f03c4aca"
      },
      "execution_count": 33,
      "outputs": [
        {
          "output_type": "stream",
          "name": "stdout",
          "text": [
            "ln(x) =  [0.         1.09861229 1.38629436]\n",
            "log2(x) =  [0.        1.5849625 2.       ]\n",
            "log10(x) =  [0.         0.47712125 0.60205999]\n"
          ]
        }
      ]
    },
    {
      "cell_type": "code",
      "source": [
        "# matrix multiplication:\n",
        "X = np.array([1,3,2,4,5,6]).reshape(2,3)\n",
        "print(X)\n",
        "print('=======================')\n",
        "print(X.T) # transpose X^T\n",
        "print('=======================')\n",
        "y = np.array([0,1,3]) #random vector\n",
        "print(y)\n",
        "print('=======================')\n",
        "print(X.dot(y)) #x*y\n",
        "print('=======================')\n",
        "print(X.dot(X.T)) # x*X^T\n",
        "print('=======================')\n",
        "print(X.T.dot(X)) # x^T * X"
      ],
      "metadata": {
        "colab": {
          "base_uri": "https://localhost:8080/"
        },
        "id": "FhIn_kRV-ULs",
        "outputId": "8e401d9d-fc12-4b27-ed51-f56df02c28fb"
      },
      "execution_count": 36,
      "outputs": [
        {
          "output_type": "stream",
          "name": "stdout",
          "text": [
            "[[1 3 2]\n",
            " [4 5 6]]\n",
            "=======================\n",
            "[[1 4]\n",
            " [3 5]\n",
            " [2 6]]\n",
            "=======================\n",
            "[0 1 3]\n",
            "=======================\n",
            "[ 9 23]\n",
            "=======================\n",
            "[[14 31]\n",
            " [31 77]]\n",
            "=======================\n",
            "[[17 23 26]\n",
            " [23 34 36]\n",
            " [26 36 40]]\n"
          ]
        }
      ]
    },
    {
      "cell_type": "code",
      "source": [
        "# summing values in array\n",
        "l = np.random.random(100)\n",
        "sum(l)"
      ],
      "metadata": {
        "colab": {
          "base_uri": "https://localhost:8080/"
        },
        "id": "9GqqXHjX-7ct",
        "outputId": "c8678ec4-910c-4380-d52e-99c0a108001c"
      },
      "execution_count": 37,
      "outputs": [
        {
          "output_type": "execute_result",
          "data": {
            "text/plain": [
              "53.95202953064628"
            ]
          },
          "metadata": {},
          "execution_count": 37
        }
      ]
    },
    {
      "cell_type": "code",
      "source": [
        "np.sum(l)"
      ],
      "metadata": {
        "colab": {
          "base_uri": "https://localhost:8080/"
        },
        "id": "abmXFh7p_cp0",
        "outputId": "8255f4b6-0a42-45b7-f378-26248ef09b13"
      },
      "execution_count": 38,
      "outputs": [
        {
          "output_type": "execute_result",
          "data": {
            "text/plain": [
              "53.952029530646264"
            ]
          },
          "metadata": {},
          "execution_count": 38
        }
      ]
    },
    {
      "cell_type": "code",
      "source": [
        "# min and max\n",
        "min(l), max(l)"
      ],
      "metadata": {
        "colab": {
          "base_uri": "https://localhost:8080/"
        },
        "id": "7SULtiBI_hp-",
        "outputId": "7114ebf8-33e2-45cf-9da4-982ac77bea03"
      },
      "execution_count": 40,
      "outputs": [
        {
          "output_type": "execute_result",
          "data": {
            "text/plain": [
              "(0.019792912458915457, 0.9973745279326072)"
            ]
          },
          "metadata": {},
          "execution_count": 40
        }
      ]
    },
    {
      "cell_type": "code",
      "source": [
        "np.min(l),np.max(l)"
      ],
      "metadata": {
        "colab": {
          "base_uri": "https://localhost:8080/"
        },
        "id": "0kxw5wvG_pUv",
        "outputId": "0c52d5db-c711-4bf1-b272-c65d5359ef55"
      },
      "execution_count": 41,
      "outputs": [
        {
          "output_type": "execute_result",
          "data": {
            "text/plain": [
              "(0.019792912458915457, 0.9973745279326072)"
            ]
          },
          "metadata": {},
          "execution_count": 41
        }
      ]
    },
    {
      "cell_type": "code",
      "source": [
        "print(l.min(), l.max(), l.sum())"
      ],
      "metadata": {
        "colab": {
          "base_uri": "https://localhost:8080/"
        },
        "id": "2lgEM800_wkq",
        "outputId": "7d33161d-d210-4ae7-d2d6-5bdb38fe72ee"
      },
      "execution_count": 42,
      "outputs": [
        {
          "output_type": "stream",
          "name": "stdout",
          "text": [
            "0.019792912458915457 0.9973745279326072 53.952029530646264\n"
          ]
        }
      ]
    },
    {
      "cell_type": "code",
      "source": [
        "# for 2D array, axis = 0 means find min, max for columns\n",
        "X.min(axis = 0)"
      ],
      "metadata": {
        "colab": {
          "base_uri": "https://localhost:8080/"
        },
        "id": "dIuoB9Os_307",
        "outputId": "284cae95-2bc9-4e9f-d38d-a15e6025ba95"
      },
      "execution_count": 44,
      "outputs": [
        {
          "output_type": "execute_result",
          "data": {
            "text/plain": [
              "array([1, 3, 2])"
            ]
          },
          "metadata": {},
          "execution_count": 44
        }
      ]
    },
    {
      "cell_type": "code",
      "source": [
        "X.max(axis = 1)"
      ],
      "metadata": {
        "colab": {
          "base_uri": "https://localhost:8080/"
        },
        "id": "-X7KHbBXADpl",
        "outputId": "a13b4bc0-4d27-4054-aaec-7f1326f337b6"
      },
      "execution_count": 45,
      "outputs": [
        {
          "output_type": "execute_result",
          "data": {
            "text/plain": [
              "array([3, 6])"
            ]
          },
          "metadata": {},
          "execution_count": 45
        }
      ]
    },
    {
      "cell_type": "code",
      "source": [
        "# aggregation operations in numpy\n",
        "print(np.sum(X))\n",
        "print(np.prod(X))\n",
        "print(np.mean(X))\n",
        "print(np.std(X))\n",
        "print(np.var(X))\n",
        "print(np.min(X))\n",
        "print(np.max(X))\n",
        "print(np.argmax(X)) # index of max number\n",
        "print(np.median(X))\n",
        "print(np.percentile(X,5)) # rank based statistics\n",
        "print(np.any(X)) # wether any element is true\n",
        "print(np.all(X)) # wether all elements are true\n",
        "print(X.argmin(axis = 0))\n",
        "print(X.argmax(axis = 1))\n",
        "print(X.argmin()) # only one index returned"
      ],
      "metadata": {
        "colab": {
          "base_uri": "https://localhost:8080/"
        },
        "id": "eJ-xOJfBAKcz",
        "outputId": "12934655-2804-481f-bffe-cd048332b1e2"
      },
      "execution_count": 60,
      "outputs": [
        {
          "output_type": "stream",
          "name": "stdout",
          "text": [
            "21\n",
            "720\n",
            "3.5\n",
            "1.707825127659933\n",
            "2.9166666666666665\n",
            "1\n",
            "6\n",
            "5\n",
            "3.5\n",
            "1.25\n",
            "True\n",
            "True\n",
            "[0 0 0]\n",
            "[1 2]\n",
            "0\n"
          ]
        }
      ]
    },
    {
      "cell_type": "code",
      "source": [
        "a = np.array([1,3,5])\n",
        "b = np.array([2,4,6])\n",
        "print(a+b)"
      ],
      "metadata": {
        "colab": {
          "base_uri": "https://localhost:8080/"
        },
        "id": "NM1pTKUwAU4N",
        "outputId": "080e7864-b318-4316-d374-c5b5e4d321ea"
      },
      "execution_count": 61,
      "outputs": [
        {
          "output_type": "stream",
          "name": "stdout",
          "text": [
            "[ 3  7 11]\n"
          ]
        }
      ]
    },
    {
      "cell_type": "code",
      "source": [
        "a+5"
      ],
      "metadata": {
        "colab": {
          "base_uri": "https://localhost:8080/"
        },
        "id": "qHKmrK__BvBN",
        "outputId": "433618dc-342d-4e35-f6f8-8140d86b41a0"
      },
      "execution_count": 62,
      "outputs": [
        {
          "output_type": "execute_result",
          "data": {
            "text/plain": [
              "array([ 6,  8, 10])"
            ]
          },
          "metadata": {},
          "execution_count": 62
        }
      ]
    },
    {
      "cell_type": "code",
      "source": [
        "np.arange(3)+5"
      ],
      "metadata": {
        "colab": {
          "base_uri": "https://localhost:8080/"
        },
        "id": "nWxDBqGQBw8o",
        "outputId": "c4fa7c82-1594-4da5-b6dc-94a1dad1d415"
      },
      "execution_count": 63,
      "outputs": [
        {
          "output_type": "execute_result",
          "data": {
            "text/plain": [
              "array([5, 6, 7])"
            ]
          },
          "metadata": {},
          "execution_count": 63
        }
      ]
    },
    {
      "cell_type": "code",
      "source": [
        "np.ones((3,3))+np.arange(3)"
      ],
      "metadata": {
        "colab": {
          "base_uri": "https://localhost:8080/"
        },
        "id": "j6ZPgGR7B9cz",
        "outputId": "b6cc2100-6a7d-4fc5-b427-4ef59de11eb5"
      },
      "execution_count": 65,
      "outputs": [
        {
          "output_type": "execute_result",
          "data": {
            "text/plain": [
              "array([[1., 2., 3.],\n",
              "       [1., 2., 3.],\n",
              "       [1., 2., 3.]])"
            ]
          },
          "metadata": {},
          "execution_count": 65
        }
      ]
    },
    {
      "cell_type": "code",
      "source": [
        "np.array([[0],[1],[2]])+ np.arange(3)"
      ],
      "metadata": {
        "colab": {
          "base_uri": "https://localhost:8080/"
        },
        "id": "jwP18pwyCB3u",
        "outputId": "6c825f44-0da2-4404-83e2-b44d5ca83c7d"
      },
      "execution_count": 66,
      "outputs": [
        {
          "output_type": "execute_result",
          "data": {
            "text/plain": [
              "array([[0, 1, 2],\n",
              "       [1, 2, 3],\n",
              "       [2, 3, 4]])"
            ]
          },
          "metadata": {},
          "execution_count": 66
        }
      ]
    },
    {
      "cell_type": "code",
      "source": [
        "rand = np.random.random((10,3)) # 10 rows by 3 columns\n",
        "rand"
      ],
      "metadata": {
        "colab": {
          "base_uri": "https://localhost:8080/"
        },
        "id": "lo9R-_zeCQmp",
        "outputId": "736c3d44-5bd4-4a20-d4ad-fbbfcf715dc7"
      },
      "execution_count": 69,
      "outputs": [
        {
          "output_type": "execute_result",
          "data": {
            "text/plain": [
              "array([[0.53696213, 0.06721014, 0.38242973],\n",
              "       [0.8751947 , 0.68051387, 0.48384802],\n",
              "       [0.03366898, 0.43115329, 0.87523713],\n",
              "       [0.36959565, 0.28233579, 0.62108862],\n",
              "       [0.78088391, 0.62696803, 0.20817185],\n",
              "       [0.16384003, 0.11855683, 0.84432392],\n",
              "       [0.72156932, 0.61174485, 0.46659106],\n",
              "       [0.92447846, 0.31328507, 0.83645408],\n",
              "       [0.98743678, 0.09673985, 0.52291899],\n",
              "       [0.27856851, 0.47429371, 0.88916088]])"
            ]
          },
          "metadata": {},
          "execution_count": 69
        }
      ]
    },
    {
      "cell_type": "code",
      "source": [
        "rand_mean = rand.mean(0)\n",
        "rand_mean"
      ],
      "metadata": {
        "colab": {
          "base_uri": "https://localhost:8080/"
        },
        "id": "JRllo8_RCeFb",
        "outputId": "45093632-1a7e-4f6b-dad7-14b7fa89b494"
      },
      "execution_count": 71,
      "outputs": [
        {
          "output_type": "execute_result",
          "data": {
            "text/plain": [
              "array([0.56721985, 0.37028014, 0.61302243])"
            ]
          },
          "metadata": {},
          "execution_count": 71
        }
      ]
    },
    {
      "cell_type": "code",
      "source": [
        "rand_centered = rand - rand_mean\n",
        "rand_centered"
      ],
      "metadata": {
        "colab": {
          "base_uri": "https://localhost:8080/"
        },
        "id": "cr4SyHJsCtTg",
        "outputId": "a7296417-7392-48d5-b66b-de942c37a56a"
      },
      "execution_count": 73,
      "outputs": [
        {
          "output_type": "execute_result",
          "data": {
            "text/plain": [
              "array([[-0.03025772, -0.30307   , -0.2305927 ],\n",
              "       [ 0.30797485,  0.31023373, -0.12917441],\n",
              "       [-0.53355087,  0.06087315,  0.26221471],\n",
              "       [-0.1976242 , -0.08794435,  0.00806619],\n",
              "       [ 0.21366406,  0.25668788, -0.40485058],\n",
              "       [-0.40337982, -0.25172331,  0.23130149],\n",
              "       [ 0.15434948,  0.2414647 , -0.14643137],\n",
              "       [ 0.35725861, -0.05699507,  0.22343165],\n",
              "       [ 0.42021693, -0.2735403 , -0.09010344],\n",
              "       [-0.28865133,  0.10401356,  0.27613845]])"
            ]
          },
          "metadata": {},
          "execution_count": 73
        }
      ]
    },
    {
      "cell_type": "code",
      "source": [
        "xMean = np.mean(X, axis = 0) # columns\n",
        "d = X-xMean\n",
        "print('columns-wise Mean')\n",
        "print(xMean)\n",
        "print('Mean normalized')\n",
        "print(d)"
      ],
      "metadata": {
        "colab": {
          "base_uri": "https://localhost:8080/"
        },
        "id": "vh6Be-EJC7Ba",
        "outputId": "48f852d2-4431-4171-ff2a-0216e7520b22"
      },
      "execution_count": 75,
      "outputs": [
        {
          "output_type": "stream",
          "name": "stdout",
          "text": [
            "columns-wise Mean\n",
            "[2.5 4.  4. ]\n",
            "Mean normalized\n",
            "[[-1.5 -1.  -2. ]\n",
            " [ 1.5  1.   2. ]]\n"
          ]
        }
      ]
    },
    {
      "cell_type": "code",
      "source": [
        "# Comparing numpy arrays\n",
        "np.equal(a,b) # =="
      ],
      "metadata": {
        "colab": {
          "base_uri": "https://localhost:8080/"
        },
        "id": "QT-fJSVgDy0A",
        "outputId": "32f273a6-bda9-4f96-e03c-9ee196ae6877"
      },
      "execution_count": 76,
      "outputs": [
        {
          "output_type": "execute_result",
          "data": {
            "text/plain": [
              "array([False, False, False])"
            ]
          },
          "metadata": {},
          "execution_count": 76
        }
      ]
    },
    {
      "cell_type": "code",
      "source": [
        "np.not_equal(a,b) # !="
      ],
      "metadata": {
        "colab": {
          "base_uri": "https://localhost:8080/"
        },
        "id": "haOINu7tD3cp",
        "outputId": "b1fedc52-2f68-46ce-80eb-ad211e07f7e9"
      },
      "execution_count": 77,
      "outputs": [
        {
          "output_type": "execute_result",
          "data": {
            "text/plain": [
              "array([ True,  True,  True])"
            ]
          },
          "metadata": {},
          "execution_count": 77
        }
      ]
    },
    {
      "cell_type": "code",
      "source": [
        "np.less(a,b) # <"
      ],
      "metadata": {
        "colab": {
          "base_uri": "https://localhost:8080/"
        },
        "id": "QdffCxgyD6uA",
        "outputId": "6a989d20-7fb8-45b9-a9f7-45e7434e6dca"
      },
      "execution_count": 78,
      "outputs": [
        {
          "output_type": "execute_result",
          "data": {
            "text/plain": [
              "array([ True,  True,  True])"
            ]
          },
          "metadata": {},
          "execution_count": 78
        }
      ]
    },
    {
      "cell_type": "code",
      "source": [
        "np.greater(a,b) #>"
      ],
      "metadata": {
        "colab": {
          "base_uri": "https://localhost:8080/"
        },
        "id": "g1QUzC9DD_Xq",
        "outputId": "413a99f8-83b7-4ae8-d8c1-195a603008fd"
      },
      "execution_count": 79,
      "outputs": [
        {
          "output_type": "execute_result",
          "data": {
            "text/plain": [
              "array([False, False, False])"
            ]
          },
          "metadata": {},
          "execution_count": 79
        }
      ]
    },
    {
      "cell_type": "code",
      "source": [
        "np.less_equal(a,b) # <="
      ],
      "metadata": {
        "colab": {
          "base_uri": "https://localhost:8080/"
        },
        "id": "SE-Qf6cpEEN8",
        "outputId": "3f1c2a3f-2c9e-4635-8547-9f786ca89f67"
      },
      "execution_count": 80,
      "outputs": [
        {
          "output_type": "execute_result",
          "data": {
            "text/plain": [
              "array([ True,  True,  True])"
            ]
          },
          "metadata": {},
          "execution_count": 80
        }
      ]
    },
    {
      "cell_type": "code",
      "source": [
        "np.greater_equal(a,b) #>="
      ],
      "metadata": {
        "colab": {
          "base_uri": "https://localhost:8080/"
        },
        "id": "aPITuMcREHwI",
        "outputId": "24624d38-d5a7-4c6c-e9f9-0ccb2f37a5f7"
      },
      "execution_count": 81,
      "outputs": [
        {
          "output_type": "execute_result",
          "data": {
            "text/plain": [
              "array([False, False, False])"
            ]
          },
          "metadata": {},
          "execution_count": 81
        }
      ]
    },
    {
      "cell_type": "code",
      "source": [
        "rng = np.random.RandomState(0)\n",
        "x = rng.randint(10, size=(3,4))\n",
        "x"
      ],
      "metadata": {
        "colab": {
          "base_uri": "https://localhost:8080/"
        },
        "id": "3Fq-5C9hELGj",
        "outputId": "153fff2d-b352-46c4-bd41-98faba7612fc"
      },
      "execution_count": 83,
      "outputs": [
        {
          "output_type": "execute_result",
          "data": {
            "text/plain": [
              "array([[5, 0, 3, 3],\n",
              "       [7, 9, 3, 5],\n",
              "       [2, 4, 7, 6]])"
            ]
          },
          "metadata": {},
          "execution_count": 83
        }
      ]
    },
    {
      "cell_type": "code",
      "source": [
        "x<5"
      ],
      "metadata": {
        "colab": {
          "base_uri": "https://localhost:8080/"
        },
        "id": "0EqsGM0HEVCi",
        "outputId": "f08b2a82-73d1-458b-a2d9-aa9277548f6b"
      },
      "execution_count": 84,
      "outputs": [
        {
          "output_type": "execute_result",
          "data": {
            "text/plain": [
              "array([[False,  True,  True,  True],\n",
              "       [False, False,  True, False],\n",
              "       [ True,  True, False, False]])"
            ]
          },
          "metadata": {},
          "execution_count": 84
        }
      ]
    },
    {
      "cell_type": "code",
      "source": [
        "# count how many values less than 5?\n",
        "np.count_nonzero(x<5)"
      ],
      "metadata": {
        "colab": {
          "base_uri": "https://localhost:8080/"
        },
        "id": "wGw147_kEb4h",
        "outputId": "d722a6da-d6c9-45f5-f288-e48c2f1740bb"
      },
      "execution_count": 85,
      "outputs": [
        {
          "output_type": "execute_result",
          "data": {
            "text/plain": [
              "6"
            ]
          },
          "metadata": {},
          "execution_count": 85
        }
      ]
    },
    {
      "cell_type": "code",
      "source": [
        "np.sum(x<5)"
      ],
      "metadata": {
        "colab": {
          "base_uri": "https://localhost:8080/"
        },
        "id": "8WeIGZPsEk3A",
        "outputId": "436c1706-527a-4d7c-984c-aa401d0520cc"
      },
      "execution_count": 86,
      "outputs": [
        {
          "output_type": "execute_result",
          "data": {
            "text/plain": [
              "6"
            ]
          },
          "metadata": {},
          "execution_count": 86
        }
      ]
    },
    {
      "cell_type": "code",
      "source": [
        "# how many values less than 6 in each row\n",
        "np.sum(x<5, axis = 1)"
      ],
      "metadata": {
        "colab": {
          "base_uri": "https://localhost:8080/"
        },
        "id": "-H7MzNyQErCz",
        "outputId": "b2d239e0-ad3c-42df-c172-2dca4d86f1b8"
      },
      "execution_count": 88,
      "outputs": [
        {
          "output_type": "execute_result",
          "data": {
            "text/plain": [
              "array([3, 1, 2])"
            ]
          },
          "metadata": {},
          "execution_count": 88
        }
      ]
    },
    {
      "cell_type": "code",
      "source": [
        "# are there any values greater than 8?\n",
        "np.any(x>8)"
      ],
      "metadata": {
        "colab": {
          "base_uri": "https://localhost:8080/"
        },
        "id": "WsUZvFwrE8UK",
        "outputId": "767bc8bb-b868-44f7-a06a-22c553777aee"
      },
      "execution_count": 89,
      "outputs": [
        {
          "output_type": "execute_result",
          "data": {
            "text/plain": [
              "True"
            ]
          },
          "metadata": {},
          "execution_count": 89
        }
      ]
    },
    {
      "cell_type": "code",
      "source": [
        "# are there any values less than zero?\n",
        "np.any(x<0)"
      ],
      "metadata": {
        "colab": {
          "base_uri": "https://localhost:8080/"
        },
        "id": "vMv6csdBFGYM",
        "outputId": "aec1e5cc-03da-4f48-dfc0-24407c487e5a"
      },
      "execution_count": 90,
      "outputs": [
        {
          "output_type": "execute_result",
          "data": {
            "text/plain": [
              "False"
            ]
          },
          "metadata": {},
          "execution_count": 90
        }
      ]
    },
    {
      "cell_type": "code",
      "source": [
        "# are all values less than 10?\n",
        "np.all(x<10)"
      ],
      "metadata": {
        "colab": {
          "base_uri": "https://localhost:8080/"
        },
        "id": "x9TtV7TeFL6F",
        "outputId": "8201ca11-26c1-4799-942a-c74a6868eed7"
      },
      "execution_count": 91,
      "outputs": [
        {
          "output_type": "execute_result",
          "data": {
            "text/plain": [
              "True"
            ]
          },
          "metadata": {},
          "execution_count": 91
        }
      ]
    },
    {
      "cell_type": "code",
      "source": [
        "# are all values == 5?\n",
        "np.all(x==5)"
      ],
      "metadata": {
        "colab": {
          "base_uri": "https://localhost:8080/"
        },
        "id": "8YZZGRimFP9i",
        "outputId": "8d5fc946-134c-4d17-93e7-5a3afd5b5b00"
      },
      "execution_count": 92,
      "outputs": [
        {
          "output_type": "execute_result",
          "data": {
            "text/plain": [
              "False"
            ]
          },
          "metadata": {},
          "execution_count": 92
        }
      ]
    },
    {
      "cell_type": "code",
      "source": [
        "# are all values in each row less than 8?\n",
        "np.all(x<8, axis = 1)"
      ],
      "metadata": {
        "colab": {
          "base_uri": "https://localhost:8080/"
        },
        "id": "q3UHZP1RFVje",
        "outputId": "1782116f-29bd-41be-e08a-9773f9512496"
      },
      "execution_count": 93,
      "outputs": [
        {
          "output_type": "execute_result",
          "data": {
            "text/plain": [
              "array([ True, False,  True])"
            ]
          },
          "metadata": {},
          "execution_count": 93
        }
      ]
    },
    {
      "cell_type": "code",
      "source": [
        "# Boolean Operators on Numby arrays\n",
        "np.logical_and(True,False)"
      ],
      "metadata": {
        "colab": {
          "base_uri": "https://localhost:8080/"
        },
        "id": "5emPXQqUFd-H",
        "outputId": "cb872f13-def8-44d6-f6cd-7e38bbfe260a"
      },
      "execution_count": 94,
      "outputs": [
        {
          "output_type": "execute_result",
          "data": {
            "text/plain": [
              "False"
            ]
          },
          "metadata": {},
          "execution_count": 94
        }
      ]
    },
    {
      "cell_type": "code",
      "source": [
        "np.logical_and([True,False],[False,False])"
      ],
      "metadata": {
        "colab": {
          "base_uri": "https://localhost:8080/"
        },
        "id": "RSSmufLgFmtU",
        "outputId": "fe0324a5-5298-4a0a-85c8-9fcd545a7cc5"
      },
      "execution_count": 95,
      "outputs": [
        {
          "output_type": "execute_result",
          "data": {
            "text/plain": [
              "array([False, False])"
            ]
          },
          "metadata": {},
          "execution_count": 95
        }
      ]
    },
    {
      "cell_type": "code",
      "source": [
        "x = np.arange(5)\n",
        "print(x)"
      ],
      "metadata": {
        "colab": {
          "base_uri": "https://localhost:8080/"
        },
        "id": "U4s1ErEjFw1-",
        "outputId": "94f51582-8db1-4c07-a822-d1b143b43910"
      },
      "execution_count": 98,
      "outputs": [
        {
          "output_type": "stream",
          "name": "stdout",
          "text": [
            "[0 1 2 3 4]\n"
          ]
        }
      ]
    },
    {
      "cell_type": "code",
      "source": [
        "np.logical_and(x>1,x<4)"
      ],
      "metadata": {
        "colab": {
          "base_uri": "https://localhost:8080/"
        },
        "id": "VaWzeswGF0WX",
        "outputId": "09729dd0-09d1-4e25-b00b-f049d0a57c6f"
      },
      "execution_count": 99,
      "outputs": [
        {
          "output_type": "execute_result",
          "data": {
            "text/plain": [
              "array([False, False,  True,  True, False])"
            ]
          },
          "metadata": {},
          "execution_count": 99
        }
      ]
    },
    {
      "cell_type": "code",
      "source": [
        "a = np.array([True,True])\n",
        "b = np.array([True,False])\n",
        "a&b"
      ],
      "metadata": {
        "colab": {
          "base_uri": "https://localhost:8080/"
        },
        "id": "RxSHJcgtF7m4",
        "outputId": "453795df-3f7d-43f3-f900-0c26715e9979"
      },
      "execution_count": 100,
      "outputs": [
        {
          "output_type": "execute_result",
          "data": {
            "text/plain": [
              "array([ True, False])"
            ]
          },
          "metadata": {},
          "execution_count": 100
        }
      ]
    },
    {
      "cell_type": "code",
      "source": [
        "a|b"
      ],
      "metadata": {
        "colab": {
          "base_uri": "https://localhost:8080/"
        },
        "id": "PdXTGYkbGHIL",
        "outputId": "84a63990-8e1b-4765-fbd4-c10949b06d66"
      },
      "execution_count": 101,
      "outputs": [
        {
          "output_type": "execute_result",
          "data": {
            "text/plain": [
              "array([ True,  True])"
            ]
          },
          "metadata": {},
          "execution_count": 101
        }
      ]
    },
    {
      "cell_type": "code",
      "source": [
        "np.logical_not([True,False,0,1])"
      ],
      "metadata": {
        "colab": {
          "base_uri": "https://localhost:8080/"
        },
        "id": "ZXUcTj-RGMAs",
        "outputId": "19ca83b8-55f7-4cd1-920d-cd86c3ec4edc"
      },
      "execution_count": 102,
      "outputs": [
        {
          "output_type": "execute_result",
          "data": {
            "text/plain": [
              "array([False,  True,  True, False])"
            ]
          },
          "metadata": {},
          "execution_count": 102
        }
      ]
    },
    {
      "cell_type": "code",
      "source": [
        "# masking on numpy arrays\n",
        "x = np.random.random((3,5))\n",
        "x"
      ],
      "metadata": {
        "colab": {
          "base_uri": "https://localhost:8080/"
        },
        "id": "gXXMi4tvGUP3",
        "outputId": "22ccb4be-24b0-48dd-8f59-4ccb67a1e973"
      },
      "execution_count": 104,
      "outputs": [
        {
          "output_type": "execute_result",
          "data": {
            "text/plain": [
              "array([[0.02873874, 0.78641072, 0.60020822, 0.21159922, 0.64442643],\n",
              "       [0.9273337 , 0.66370814, 0.60665714, 0.77983584, 0.05053641],\n",
              "       [0.18477108, 0.21868174, 0.6274481 , 0.18795441, 0.83456585]])"
            ]
          },
          "metadata": {},
          "execution_count": 104
        }
      ]
    },
    {
      "cell_type": "code",
      "source": [
        "x<5"
      ],
      "metadata": {
        "colab": {
          "base_uri": "https://localhost:8080/"
        },
        "id": "ZlWpUzk9Gfh2",
        "outputId": "5a6047ed-7e08-4f3a-a7de-7c4dbea6de8c"
      },
      "execution_count": 105,
      "outputs": [
        {
          "output_type": "execute_result",
          "data": {
            "text/plain": [
              "array([[ True,  True,  True,  True,  True],\n",
              "       [ True,  True,  True,  True,  True],\n",
              "       [ True,  True,  True,  True,  True]])"
            ]
          },
          "metadata": {},
          "execution_count": 105
        }
      ]
    },
    {
      "cell_type": "code",
      "source": [
        "x[x<5] # index the values in array (masking)"
      ],
      "metadata": {
        "colab": {
          "base_uri": "https://localhost:8080/"
        },
        "id": "B2k-XdHlGkUm",
        "outputId": "c8ddc10b-c750-42ea-ed23-cb45735efc05"
      },
      "execution_count": 106,
      "outputs": [
        {
          "output_type": "execute_result",
          "data": {
            "text/plain": [
              "array([0.02873874, 0.78641072, 0.60020822, 0.21159922, 0.64442643,\n",
              "       0.9273337 , 0.66370814, 0.60665714, 0.77983584, 0.05053641,\n",
              "       0.18477108, 0.21868174, 0.6274481 , 0.18795441, 0.83456585])"
            ]
          },
          "metadata": {},
          "execution_count": 106
        }
      ]
    },
    {
      "cell_type": "code",
      "source": [
        "x = np.array([1,3,5,6,4,3]).reshape(2,3)\n",
        "print(x<3)"
      ],
      "metadata": {
        "colab": {
          "base_uri": "https://localhost:8080/"
        },
        "id": "xGpj4yvYGoL9",
        "outputId": "6432596b-e4d7-47ae-c26f-a8fefbe347c8"
      },
      "execution_count": 108,
      "outputs": [
        {
          "output_type": "stream",
          "name": "stdout",
          "text": [
            "[[ True False False]\n",
            " [False False False]]\n"
          ]
        }
      ]
    },
    {
      "cell_type": "code",
      "source": [
        "x[x<3]=0\n",
        "print(x)"
      ],
      "metadata": {
        "colab": {
          "base_uri": "https://localhost:8080/"
        },
        "id": "9g31cQ-CG3VW",
        "outputId": "09e361b8-c6c0-48c5-8f97-370e75e6eea3"
      },
      "execution_count": 109,
      "outputs": [
        {
          "output_type": "stream",
          "name": "stdout",
          "text": [
            "[[0 3 5]\n",
            " [6 4 3]]\n"
          ]
        }
      ]
    },
    {
      "cell_type": "code",
      "source": [
        "np.where(x<3,0,x)"
      ],
      "metadata": {
        "colab": {
          "base_uri": "https://localhost:8080/"
        },
        "id": "_UmTmbOSG8Xp",
        "outputId": "7a7c43a5-e4a2-4d64-a44d-07e88fea20d7"
      },
      "execution_count": 110,
      "outputs": [
        {
          "output_type": "execute_result",
          "data": {
            "text/plain": [
              "array([[0, 3, 5],\n",
              "       [6, 4, 3]])"
            ]
          },
          "metadata": {},
          "execution_count": 110
        }
      ]
    },
    {
      "cell_type": "code",
      "source": [
        "subset = (x>0)&(x<7)\n",
        "x[subset]= np.exp(x[subset])\n",
        "x"
      ],
      "metadata": {
        "colab": {
          "base_uri": "https://localhost:8080/"
        },
        "id": "YcSEvNCAHACU",
        "outputId": "ebbd49ef-7713-4815-a919-f61a49aa5a9c"
      },
      "execution_count": 113,
      "outputs": [
        {
          "output_type": "execute_result",
          "data": {
            "text/plain": [
              "array([[  0,  20, 148],\n",
              "       [403,  54,  20]])"
            ]
          },
          "metadata": {},
          "execution_count": 113
        }
      ]
    },
    {
      "cell_type": "code",
      "source": [
        "# fancy indexing\n",
        "rand = np.random.RandomState(42)\n",
        "x = rand.randint(100,size = 10)\n",
        "print(x)"
      ],
      "metadata": {
        "colab": {
          "base_uri": "https://localhost:8080/"
        },
        "id": "QxOCBNjLHLet",
        "outputId": "ce6bcd4a-0ba7-40d1-d6a9-0a26af6dd71e"
      },
      "execution_count": 114,
      "outputs": [
        {
          "output_type": "stream",
          "name": "stdout",
          "text": [
            "[51 92 14 71 60 20 82 86 74 74]\n"
          ]
        }
      ]
    },
    {
      "cell_type": "code",
      "source": [
        "# to access different elemtents:\n",
        "[x[3],x[7],x[2]]"
      ],
      "metadata": {
        "colab": {
          "base_uri": "https://localhost:8080/"
        },
        "id": "CRNG4Fd-HrAX",
        "outputId": "d67d76a9-5ea8-498b-87cd-ba2d651bcb14"
      },
      "execution_count": 115,
      "outputs": [
        {
          "output_type": "execute_result",
          "data": {
            "text/plain": [
              "[71, 86, 14]"
            ]
          },
          "metadata": {},
          "execution_count": 115
        }
      ]
    },
    {
      "cell_type": "code",
      "source": [
        "# or you can pass single list or array of indices to obtain same results\n",
        "ind = [3,7,2]\n",
        "x[ind]"
      ],
      "metadata": {
        "colab": {
          "base_uri": "https://localhost:8080/"
        },
        "id": "c6UkjrshH0vD",
        "outputId": "5fe7ef35-154c-4854-e743-a059c0f92c44"
      },
      "execution_count": 116,
      "outputs": [
        {
          "output_type": "execute_result",
          "data": {
            "text/plain": [
              "array([71, 86, 14])"
            ]
          },
          "metadata": {},
          "execution_count": 116
        }
      ]
    },
    {
      "cell_type": "code",
      "source": [
        "x = np.array([1,3,4,5,6,7,8,9,0]).reshape(3,3)\n",
        "print(x)"
      ],
      "metadata": {
        "colab": {
          "base_uri": "https://localhost:8080/"
        },
        "id": "RrpCfOiwIEN7",
        "outputId": "5c2c2f90-1336-4674-dd79-dfec5349f781"
      },
      "execution_count": 117,
      "outputs": [
        {
          "output_type": "stream",
          "name": "stdout",
          "text": [
            "[[1 3 4]\n",
            " [5 6 7]\n",
            " [8 9 0]]\n"
          ]
        }
      ]
    },
    {
      "cell_type": "code",
      "source": [
        "x[2,[2,0,1]]"
      ],
      "metadata": {
        "colab": {
          "base_uri": "https://localhost:8080/"
        },
        "id": "eVC_M_qPIQDC",
        "outputId": "d72eed28-60a7-40e7-d8a8-c664e2c5765a"
      },
      "execution_count": 118,
      "outputs": [
        {
          "output_type": "execute_result",
          "data": {
            "text/plain": [
              "array([0, 8, 9])"
            ]
          },
          "metadata": {},
          "execution_count": 118
        }
      ]
    },
    {
      "cell_type": "code",
      "source": [
        "# compine fancy indexing with slicing:\n",
        "x[1:,[2,0,1]]"
      ],
      "metadata": {
        "colab": {
          "base_uri": "https://localhost:8080/"
        },
        "id": "nH0EhDbwIUAT",
        "outputId": "413cb739-218f-4ec3-821a-d4fd33463cd7"
      },
      "execution_count": 119,
      "outputs": [
        {
          "output_type": "execute_result",
          "data": {
            "text/plain": [
              "array([[7, 5, 6],\n",
              "       [0, 8, 9]])"
            ]
          },
          "metadata": {},
          "execution_count": 119
        }
      ]
    },
    {
      "cell_type": "code",
      "source": [],
      "metadata": {
        "id": "utNTXEEoIdYD"
      },
      "execution_count": null,
      "outputs": []
    }
  ]
}