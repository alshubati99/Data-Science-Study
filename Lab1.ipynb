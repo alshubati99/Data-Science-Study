{
  "nbformat": 4,
  "nbformat_minor": 0,
  "metadata": {
    "colab": {
      "provenance": [],
      "include_colab_link": true
    },
    "kernelspec": {
      "name": "python3",
      "display_name": "Python 3"
    },
    "language_info": {
      "name": "python"
    }
  },
  "cells": [
    {
      "cell_type": "markdown",
      "metadata": {
        "id": "view-in-github",
        "colab_type": "text"
      },
      "source": [
        "<a href=\"https://colab.research.google.com/github/alshubati99/Data-Science-Study/blob/main/Lab1.ipynb\" target=\"_parent\"><img src=\"https://colab.research.google.com/assets/colab-badge.svg\" alt=\"Open In Colab\"/></a>"
      ]
    },
    {
      "cell_type": "markdown",
      "source": [],
      "metadata": {
        "id": "E15_kTWfYYsc"
      }
    },
    {
      "cell_type": "markdown",
      "source": [
        "Create a tuple includeing elements 5,10,15,20 and display the tuple"
      ],
      "metadata": {
        "id": "dT8QPueSgOcP"
      }
    },
    {
      "cell_type": "code",
      "execution_count": 2,
      "metadata": {
        "colab": {
          "base_uri": "https://localhost:8080/"
        },
        "id": "tySEZHh9YRLF",
        "outputId": "e208d408-0630-41ee-9681-72e8ac32919a"
      },
      "outputs": [
        {
          "output_type": "execute_result",
          "data": {
            "text/plain": [
              "(5, 10, 15, 20)"
            ]
          },
          "metadata": {},
          "execution_count": 2
        }
      ],
      "source": [
        "tup = (5, 10, 15, 20)\n",
        "tup"
      ]
    },
    {
      "cell_type": "markdown",
      "source": [
        "Print the sum of the elements of the tuple"
      ],
      "metadata": {
        "id": "AjpHOY_ogafQ"
      }
    },
    {
      "cell_type": "code",
      "source": [
        "print(sum(tup))"
      ],
      "metadata": {
        "colab": {
          "base_uri": "https://localhost:8080/"
        },
        "id": "-wE08Z-1YjEC",
        "outputId": "16af6552-152e-41c8-bec8-3f5ed0a4ef9c"
      },
      "execution_count": 3,
      "outputs": [
        {
          "output_type": "stream",
          "name": "stdout",
          "text": [
            "50\n"
          ]
        }
      ]
    },
    {
      "cell_type": "code",
      "source": [
        "# another way:\n",
        "n = 0\n",
        "for num in tup:\n",
        "  n+=num\n",
        "print(n)"
      ],
      "metadata": {
        "colab": {
          "base_uri": "https://localhost:8080/"
        },
        "id": "UhbQoFcSgfGB",
        "outputId": "1a14897a-3303-4249-f477-b280f7a64c1b"
      },
      "execution_count": 4,
      "outputs": [
        {
          "output_type": "stream",
          "name": "stdout",
          "text": [
            "50\n"
          ]
        }
      ]
    },
    {
      "cell_type": "markdown",
      "source": [
        "Concatenate tuple with the tuple(1,2,3) and print the resultant tuple"
      ],
      "metadata": {
        "id": "cOb_U2H3gs-O"
      }
    },
    {
      "cell_type": "code",
      "source": [
        "print(tup + (1, 2, 3))"
      ],
      "metadata": {
        "colab": {
          "base_uri": "https://localhost:8080/"
        },
        "id": "jTyhlWGoYpoK",
        "outputId": "49859f11-9fd5-472b-8844-040b662ec6d1"
      },
      "execution_count": 9,
      "outputs": [
        {
          "output_type": "stream",
          "name": "stdout",
          "text": [
            "(5, 10, 15, 20, 1, 2, 3)\n"
          ]
        }
      ]
    },
    {
      "cell_type": "markdown",
      "source": [
        "Duplicate the tuple 5times as a new tuple"
      ],
      "metadata": {
        "id": "rOTEoWeEg0hG"
      }
    },
    {
      "cell_type": "code",
      "source": [
        "new_tup = 5*tup\n",
        "print(new_tup)"
      ],
      "metadata": {
        "colab": {
          "base_uri": "https://localhost:8080/"
        },
        "id": "fdtHQ1SUZHtD",
        "outputId": "ba879f83-ce41-4573-83b2-d4541e1c0c44"
      },
      "execution_count": 10,
      "outputs": [
        {
          "output_type": "stream",
          "name": "stdout",
          "text": [
            "(5, 10, 15, 20, 5, 10, 15, 20, 5, 10, 15, 20, 5, 10, 15, 20, 5, 10, 15, 20)\n"
          ]
        }
      ]
    },
    {
      "cell_type": "markdown",
      "source": [
        "Unpack tuple into three variales a,b,c and d"
      ],
      "metadata": {
        "id": "oEOafE6Fg4gx"
      }
    },
    {
      "cell_type": "code",
      "source": [
        "(a, b, c, d) = tup\n",
        "print(a, b, c, d)"
      ],
      "metadata": {
        "colab": {
          "base_uri": "https://localhost:8080/"
        },
        "id": "eKn027kOZkmu",
        "outputId": "41b8e98d-ab62-4e4e-f77f-5e170cf409bf"
      },
      "execution_count": 11,
      "outputs": [
        {
          "output_type": "stream",
          "name": "stdout",
          "text": [
            "5 10 15 20\n"
          ]
        }
      ]
    },
    {
      "cell_type": "markdown",
      "source": [
        "Access the elements of the tuple in a for loop one by one and display their square roots"
      ],
      "metadata": {
        "id": "OHUaNVwzg-Zn"
      }
    },
    {
      "cell_type": "code",
      "source": [
        "from math import sqrt\n",
        "for item in tup:\n",
        "  print(sqrt(item), end=\"\\n\")"
      ],
      "metadata": {
        "colab": {
          "base_uri": "https://localhost:8080/"
        },
        "id": "Pfj0ISBPZxhz",
        "outputId": "cf2e3eda-b097-4eaf-ec92-1fb5f4280768"
      },
      "execution_count": 12,
      "outputs": [
        {
          "output_type": "stream",
          "name": "stdout",
          "text": [
            "2.23606797749979\n",
            "3.1622776601683795\n",
            "3.872983346207417\n",
            "4.47213595499958\n"
          ]
        }
      ]
    },
    {
      "cell_type": "markdown",
      "source": [
        "Create an empty list named as myList"
      ],
      "metadata": {
        "id": "9avpNSRghLSL"
      }
    },
    {
      "cell_type": "code",
      "source": [
        "myList = []\n",
        "print(myList)"
      ],
      "metadata": {
        "colab": {
          "base_uri": "https://localhost:8080/"
        },
        "id": "kLgU91CdZ7Mx",
        "outputId": "db4036ce-d719-4622-8110-d30889c4b486"
      },
      "execution_count": 7,
      "outputs": [
        {
          "output_type": "stream",
          "name": "stdout",
          "text": [
            "[]\n"
          ]
        }
      ]
    },
    {
      "cell_type": "markdown",
      "source": [
        "Add the elements 5,10,15,20 one by one to the list"
      ],
      "metadata": {
        "id": "3Wl-PufXhUME"
      }
    },
    {
      "cell_type": "code",
      "source": [
        "for item in tup:\n",
        "  myList.append(item)\n",
        "print(myList)"
      ],
      "metadata": {
        "colab": {
          "base_uri": "https://localhost:8080/"
        },
        "id": "EhPw6oIgaPbX",
        "outputId": "47873618-df60-41d9-828b-9f91f9960ce0"
      },
      "execution_count": 8,
      "outputs": [
        {
          "output_type": "stream",
          "name": "stdout",
          "text": [
            "[5, 10, 15, 20]\n"
          ]
        }
      ]
    },
    {
      "cell_type": "markdown",
      "source": [
        "Display the list in reverse order"
      ],
      "metadata": {
        "id": "RwoPK6h7hnye"
      }
    },
    {
      "cell_type": "code",
      "source": [
        "print(sorted(myList, reverse=True))"
      ],
      "metadata": {
        "colab": {
          "base_uri": "https://localhost:8080/"
        },
        "id": "Q9Lboh7xaQ6p",
        "outputId": "5a79243a-4de5-4134-e08a-81f5ef015dee"
      },
      "execution_count": 13,
      "outputs": [
        {
          "output_type": "stream",
          "name": "stdout",
          "text": [
            "[20, 15, 10, 5]\n"
          ]
        }
      ]
    },
    {
      "cell_type": "markdown",
      "source": [
        "Insert the string \"abc\" to the index 2"
      ],
      "metadata": {
        "id": "GO8acXXahtmC"
      }
    },
    {
      "cell_type": "code",
      "source": [
        "myList.insert(2, \"abc\")\n",
        "print(myList)"
      ],
      "metadata": {
        "colab": {
          "base_uri": "https://localhost:8080/"
        },
        "id": "zMHeWsIXaaNs",
        "outputId": "01874b84-8ff2-4ab4-ceab-11208387fd00"
      },
      "execution_count": 14,
      "outputs": [
        {
          "output_type": "stream",
          "name": "stdout",
          "text": [
            "[5, 10, 'abc', 15, 20]\n"
          ]
        }
      ]
    },
    {
      "cell_type": "markdown",
      "source": [
        "Pop the string inserted"
      ],
      "metadata": {
        "id": "WMTr3YLphy7-"
      }
    },
    {
      "cell_type": "code",
      "source": [
        "myList.pop(myList.index(\"abc\"))\n",
        "print(myList)"
      ],
      "metadata": {
        "colab": {
          "base_uri": "https://localhost:8080/"
        },
        "id": "FRCF93LlarV8",
        "outputId": "098a543f-a560-4284-df96-e3d7bceaf4ad"
      },
      "execution_count": 15,
      "outputs": [
        {
          "output_type": "stream",
          "name": "stdout",
          "text": [
            "[5, 10, 15, 20]\n"
          ]
        }
      ]
    },
    {
      "cell_type": "markdown",
      "source": [
        "Remove 15 from the list"
      ],
      "metadata": {
        "id": "nUnGTOSkh3O7"
      }
    },
    {
      "cell_type": "code",
      "source": [
        "myList.pop(myList.index(15))\n",
        "print(myList)"
      ],
      "metadata": {
        "colab": {
          "base_uri": "https://localhost:8080/"
        },
        "id": "s8kND-2-bEVO",
        "outputId": "561e81fd-ef5e-411e-9158-4db5422d35c9"
      },
      "execution_count": 16,
      "outputs": [
        {
          "output_type": "stream",
          "name": "stdout",
          "text": [
            "[5, 10, 20]\n"
          ]
        }
      ]
    },
    {
      "cell_type": "markdown",
      "source": [
        "Write an expression to check if the list contains 15"
      ],
      "metadata": {
        "id": "im0iXbpoh9is"
      }
    },
    {
      "cell_type": "code",
      "source": [
        "print(15 in myList)"
      ],
      "metadata": {
        "colab": {
          "base_uri": "https://localhost:8080/"
        },
        "id": "OevOsgWmcIo1",
        "outputId": "bc815e47-eed3-496c-ec1e-0b0864035db5"
      },
      "execution_count": 17,
      "outputs": [
        {
          "output_type": "stream",
          "name": "stdout",
          "text": [
            "False\n"
          ]
        }
      ]
    },
    {
      "cell_type": "markdown",
      "source": [
        "Create a new list by concatenated myList and ['a','b','c']"
      ],
      "metadata": {
        "id": "OyubnxHBiG5j"
      }
    },
    {
      "cell_type": "code",
      "source": [
        "myList += ['a', 'b', 'c']\n",
        "print(myList)"
      ],
      "metadata": {
        "colab": {
          "base_uri": "https://localhost:8080/"
        },
        "id": "mJpqWe8qcSxz",
        "outputId": "8eec8d9a-9ecd-49c2-ad01-3afa10342db3"
      },
      "execution_count": 18,
      "outputs": [
        {
          "output_type": "stream",
          "name": "stdout",
          "text": [
            "[5, 10, 20, 'a', 'b', 'c']\n"
          ]
        }
      ]
    },
    {
      "cell_type": "markdown",
      "source": [
        "Extend myList by appending elements[1,2,3] using the extend method"
      ],
      "metadata": {
        "id": "feBFp7mNiVAN"
      }
    },
    {
      "cell_type": "code",
      "source": [
        "myList.extend([1, 2, 3])\n",
        "print(myList)"
      ],
      "metadata": {
        "colab": {
          "base_uri": "https://localhost:8080/"
        },
        "id": "AHC1Q1K1cXdi",
        "outputId": "063a7616-08ae-4d35-eb1e-3d607895bf66"
      },
      "execution_count": 19,
      "outputs": [
        {
          "output_type": "stream",
          "name": "stdout",
          "text": [
            "[5, 10, 20, 'a', 'b', 'c', 1, 2, 3]\n"
          ]
        }
      ]
    },
    {
      "cell_type": "markdown",
      "source": [
        "Create a dictionary named as myDict with these keys/values pairs: a: foo, b:[1,2,3,4]"
      ],
      "metadata": {
        "id": "MwU2PPrrich2"
      }
    },
    {
      "cell_type": "code",
      "source": [
        "myDict = {'a': 'foo', 'b': [1, 2, 3, 4]}\n",
        "print(myDict)"
      ],
      "metadata": {
        "colab": {
          "base_uri": "https://localhost:8080/"
        },
        "id": "b6DbOxUMcxD8",
        "outputId": "0f82bb37-3f16-4da8-e38c-05e74275a7ff"
      },
      "execution_count": 20,
      "outputs": [
        {
          "output_type": "stream",
          "name": "stdout",
          "text": [
            "{'a': 'foo', 'b': [1, 2, 3, 4]}\n"
          ]
        }
      ]
    },
    {
      "cell_type": "markdown",
      "source": [
        "Display the value corresponding to key 'b'"
      ],
      "metadata": {
        "id": "1aQQARqminLX"
      }
    },
    {
      "cell_type": "code",
      "source": [
        "print(myDict['b'])"
      ],
      "metadata": {
        "colab": {
          "base_uri": "https://localhost:8080/"
        },
        "id": "aWEUdrcFcp-A",
        "outputId": "46879975-9f42-428c-f7c7-2215ddc4fcbc"
      },
      "execution_count": 21,
      "outputs": [
        {
          "output_type": "stream",
          "name": "stdout",
          "text": [
            "[1, 2, 3, 4]\n"
          ]
        }
      ]
    },
    {
      "cell_type": "markdown",
      "source": [
        "Add a dictionay element with key 'c', and value '428'"
      ],
      "metadata": {
        "id": "ZKwtIlYYisXx"
      }
    },
    {
      "cell_type": "code",
      "source": [
        "myDict['c'] = '428'"
      ],
      "metadata": {
        "id": "L6u2q9quc7Or"
      },
      "execution_count": 22,
      "outputs": []
    },
    {
      "cell_type": "markdown",
      "source": [
        "Remove the dictionary entry corresponding to key 'b'"
      ],
      "metadata": {
        "id": "Z_2TV9fdi5PX"
      }
    },
    {
      "cell_type": "code",
      "source": [
        "print(myDict)\n",
        "myDict.pop('b')\n",
        "print(myDict)"
      ],
      "metadata": {
        "colab": {
          "base_uri": "https://localhost:8080/"
        },
        "id": "i5xgAznhc_w2",
        "outputId": "87b64b68-b2b2-4154-edb5-03c7c4c47e91"
      },
      "execution_count": 23,
      "outputs": [
        {
          "output_type": "stream",
          "name": "stdout",
          "text": [
            "{'a': 'foo', 'b': [1, 2, 3, 4], 'c': '428'}\n",
            "{'a': 'foo', 'c': '428'}\n"
          ]
        }
      ]
    },
    {
      "cell_type": "markdown",
      "source": [
        "Print the list of keys in myDict"
      ],
      "metadata": {
        "id": "OMTSu6Lgjj3H"
      }
    },
    {
      "cell_type": "code",
      "source": [
        "print(myDict.keys())"
      ],
      "metadata": {
        "colab": {
          "base_uri": "https://localhost:8080/"
        },
        "id": "ubNVw17mdL7O",
        "outputId": "c84431b2-57db-4f32-e2a7-b4c679796f82"
      },
      "execution_count": 25,
      "outputs": [
        {
          "output_type": "stream",
          "name": "stdout",
          "text": [
            "dict_keys(['a', 'c'])\n"
          ]
        }
      ]
    },
    {
      "cell_type": "markdown",
      "source": [
        "Print the list of values in myDict"
      ],
      "metadata": {
        "id": "Aztsn2KEjoYZ"
      }
    },
    {
      "cell_type": "code",
      "source": [
        "print(myDict.values())"
      ],
      "metadata": {
        "colab": {
          "base_uri": "https://localhost:8080/"
        },
        "id": "JgMLGsPwdQ5a",
        "outputId": "cf8d8697-6ab5-4a3c-8306-58253d6a1369"
      },
      "execution_count": 26,
      "outputs": [
        {
          "output_type": "stream",
          "name": "stdout",
          "text": [
            "dict_values(['foo', '428'])\n"
          ]
        }
      ]
    },
    {
      "cell_type": "markdown",
      "source": [
        "Iterate through a dictionary's keys and values"
      ],
      "metadata": {
        "id": "wuoi24HGj0Bo"
      }
    },
    {
      "cell_type": "code",
      "source": [
        "for k, v in myDict.items():\n",
        "  print(k, v)"
      ],
      "metadata": {
        "colab": {
          "base_uri": "https://localhost:8080/"
        },
        "id": "G1gdfO5sdgV0",
        "outputId": "58c5612b-1273-4c00-e0a3-505fe70a28eb"
      },
      "execution_count": 27,
      "outputs": [
        {
          "output_type": "stream",
          "name": "stdout",
          "text": [
            "a foo\n",
            "c 428\n"
          ]
        }
      ]
    },
    {
      "cell_type": "markdown",
      "source": [
        "Append multiple key/value pairs to myDict"
      ],
      "metadata": {
        "id": "CXhVy90xj7cx"
      }
    },
    {
      "cell_type": "code",
      "source": [
        "myDict |= {'e': 'elephant', 'f': 'fish'}\n",
        "print(myDict)"
      ],
      "metadata": {
        "colab": {
          "base_uri": "https://localhost:8080/"
        },
        "id": "8dXmnM6jdnaM",
        "outputId": "18e9417c-501a-4e67-8287-326aa66e7fe7"
      },
      "execution_count": 28,
      "outputs": [
        {
          "output_type": "stream",
          "name": "stdout",
          "text": [
            "{'a': 'foo', 'c': '428', 'e': 'elephant', 'f': 'fish'}\n"
          ]
        }
      ]
    },
    {
      "cell_type": "markdown",
      "source": [
        "Create a set with elements 0,1,2,3,4,5 and another one with elemnts 4,5,6,7,8 and define set3 as union of set1 and set2"
      ],
      "metadata": {
        "id": "wER0FZ-UkF1H"
      }
    },
    {
      "cell_type": "code",
      "source": [
        "mySet1 = {0, 1, 2, 3, 4, 5}\n",
        "mySet2 = {4, 5, 6, 7, 8}\n",
        "print(mySet1, mySet2)\n",
        "mySet3 = mySet1 | mySet2\n",
        "print(mySet3)"
      ],
      "metadata": {
        "colab": {
          "base_uri": "https://localhost:8080/"
        },
        "id": "nyjuDGOQd0Gr",
        "outputId": "f142c522-d740-45dd-8cb7-24c35fb93a53"
      },
      "execution_count": 29,
      "outputs": [
        {
          "output_type": "stream",
          "name": "stdout",
          "text": [
            "{0, 1, 2, 3, 4, 5} {4, 5, 6, 7, 8}\n",
            "{0, 1, 2, 3, 4, 5, 6, 7, 8}\n"
          ]
        }
      ]
    },
    {
      "cell_type": "markdown",
      "source": [
        "Define set3 as intersection of set1 and set2"
      ],
      "metadata": {
        "id": "N0POJLgckeqG"
      }
    },
    {
      "cell_type": "code",
      "source": [
        "mySet3 = mySet1 & mySet2\n",
        "print(mySet3)"
      ],
      "metadata": {
        "id": "H5RCCeiufLPD",
        "colab": {
          "base_uri": "https://localhost:8080/"
        },
        "outputId": "5fb6182a-0bc5-4475-eca5-10ae23e0aeb9"
      },
      "execution_count": 30,
      "outputs": [
        {
          "output_type": "stream",
          "name": "stdout",
          "text": [
            "{4, 5}\n"
          ]
        }
      ]
    },
    {
      "cell_type": "markdown",
      "source": [
        "Define set3 as the elements in set1 but not in set2"
      ],
      "metadata": {
        "id": "OkbCunZ3ki6z"
      }
    },
    {
      "cell_type": "code",
      "source": [
        "mySet3 = mySet1 - mySet2\n",
        "print(mySet3)"
      ],
      "metadata": {
        "colab": {
          "base_uri": "https://localhost:8080/"
        },
        "id": "W6kJnRDGgQds",
        "outputId": "43e673a7-b43b-4111-95d6-3d9b3cd80e45"
      },
      "execution_count": 31,
      "outputs": [
        {
          "output_type": "stream",
          "name": "stdout",
          "text": [
            "{0, 1, 2, 3}\n"
          ]
        }
      ]
    },
    {
      "cell_type": "markdown",
      "source": [
        "Define set3 as elements that are in either set1 or set2 but not in both"
      ],
      "metadata": {
        "id": "Ti2Q5j1Aks_H"
      }
    },
    {
      "cell_type": "code",
      "source": [
        "mySet3 = mySet1 ^ mySet2\n",
        "print(mySet3)"
      ],
      "metadata": {
        "colab": {
          "base_uri": "https://localhost:8080/"
        },
        "id": "kwjTosJjgdCa",
        "outputId": "04b47562-0854-442f-c277-240e1315c625"
      },
      "execution_count": 32,
      "outputs": [
        {
          "output_type": "stream",
          "name": "stdout",
          "text": [
            "{0, 1, 2, 3, 6, 7, 8}\n"
          ]
        }
      ]
    }
  ]
}